{
 "cells": [
  {
   "cell_type": "markdown",
   "id": "40be8679",
   "metadata": {},
   "source": [
    "## Loading the environments"
   ]
  },
  {
   "cell_type": "code",
   "execution_count": 1,
   "id": "772aea92",
   "metadata": {},
   "outputs": [
    {
     "data": {
      "text/plain": [
       "True"
      ]
     },
     "execution_count": 1,
     "metadata": {},
     "output_type": "execute_result"
    }
   ],
   "source": [
    "import os\n",
    "from dotenv import load_dotenv\n",
    "load_dotenv()"
   ]
  },
  {
   "cell_type": "markdown",
   "id": "6651daf3",
   "metadata": {},
   "source": [
    "## Importing the packages"
   ]
  },
  {
   "cell_type": "code",
   "execution_count": 2,
   "id": "4e9d818e",
   "metadata": {},
   "outputs": [],
   "source": [
    "from dotenv import load_dotenv\n",
    "from langchain.prompts import ChatPromptTemplate\n",
    "from langchain_openai import ChatOpenAI\n",
    "from IPython.display import Image, display\n",
    "from langgraph.graph import StateGraph , START , END , MessageGraph \n",
    "from langchain_core.messages import HumanMessage , AIMessage , SystemMessage\n",
    "from typing import TypedDict\n",
    "from typing import Annotated\n",
    "from langgraph.graph.message import add_messages\n",
    "from langgraph.graph import MessagesState\n",
    "\n",
    "import datetime"
   ]
  },
  {
   "cell_type": "code",
   "execution_count": 3,
   "id": "bad0854d",
   "metadata": {},
   "outputs": [],
   "source": [
    "model = ChatOpenAI(model=\"gpt-4.1-mini\", temperature=0)"
   ]
  },
  {
   "cell_type": "markdown",
   "id": "4faab9c7",
   "metadata": {},
   "source": [
    "## Some utility functions "
   ]
  },
  {
   "cell_type": "code",
   "execution_count": 4,
   "id": "a1cb4ab7",
   "metadata": {},
   "outputs": [],
   "source": [
    "# to display the graph\n",
    "def display_graph(app):\n",
    "    # this function will display the graph of the app\n",
    "    try:\n",
    "        display(Image(app.get_graph().draw_mermaid_png()))\n",
    "    except Exception as e:\n",
    "        # This requires some extra dependencies and is optional\n",
    "        print(e)\n",
    "\n",
    "\n",
    "# To stream the output of the app\n",
    "def stream_output(app, input):\n",
    "    for output in app.stream(input):\n",
    "        for key,value in output.items():\n",
    "            print(f\"here is output from {key}\")\n",
    "            print(\"_______\")\n",
    "            print(value)\n",
    "            print(\"\\n\")"
   ]
  },
  {
   "cell_type": "code",
   "execution_count": 5,
   "id": "de57c961",
   "metadata": {},
   "outputs": [],
   "source": [
    "#defining the state\n",
    "class State(TypedDict):\n",
    "    messages:Annotated[list,add_messages]"
   ]
  },
  {
   "cell_type": "code",
   "execution_count": 6,
   "id": "cff32b47",
   "metadata": {},
   "outputs": [
    {
     "data": {
      "text/plain": [
       "AIMessage(content=\"I don't have real-time access to current weather data. To get the latest weather information for Hyderabad, you can check a reliable weather website or app like Weather.com, AccuWeather, or use a voice assistant on your device.\", additional_kwargs={'refusal': None}, response_metadata={'token_usage': {'completion_tokens': 46, 'prompt_tokens': 15, 'total_tokens': 61, 'completion_tokens_details': {'accepted_prediction_tokens': 0, 'audio_tokens': 0, 'reasoning_tokens': 0, 'rejected_prediction_tokens': 0}, 'prompt_tokens_details': {'audio_tokens': 0, 'cached_tokens': 0}}, 'model_name': 'gpt-4.1-mini-2025-04-14', 'system_fingerprint': 'fp_c064fdde7c', 'id': 'chatcmpl-CPIYHQpoTEjkQVtlFEsZr2W0GdjaP', 'service_tier': 'default', 'finish_reason': 'stop', 'logprobs': None}, id='run--279ca7bf-6f7f-4ee6-9c98-9cb4e07f5e1a-0', usage_metadata={'input_tokens': 15, 'output_tokens': 46, 'total_tokens': 61, 'input_token_details': {'audio': 0, 'cache_read': 0}, 'output_token_details': {'audio': 0, 'reasoning': 0}})"
      ]
     },
     "execution_count": 6,
     "metadata": {},
     "output_type": "execute_result"
    }
   ],
   "source": [
    "model.invoke(\"What is the weather in hyderabad?\")"
   ]
  },
  {
   "cell_type": "markdown",
   "id": "42059d8f",
   "metadata": {},
   "source": [
    "## Part 1 : Access to tools "
   ]
  },
  {
   "cell_type": "code",
   "execution_count": 7,
   "id": "f0fa182f",
   "metadata": {},
   "outputs": [
    {
     "data": {
      "text/plain": [
       "{'query': 'What is langgraph',\n",
       " 'follow_up_questions': None,\n",
       " 'answer': None,\n",
       " 'images': [],\n",
       " 'results': [{'url': 'https://www.ibm.com/think/topics/langgraph',\n",
       "   'title': 'What is LangGraph? - IBM',\n",
       "   'content': '*   [Overview](https://www.ibm.com/think/topics/ai-agents#7281535) *   [Overview](https://www.ibm.com/think/topics/components-of-ai-agents#498277090) *   [Learning](https://www.ibm.com/think/topics/ai-agent-learning#498277087) *   [Tutorial: LangGraph ReAct agent](https://www.ibm.com/think/tutorials/deploy-langgraph-react-agent-manage-it-support-tickets-watsonx-ai#1287801557) *   [Overview](https://www.ibm.com/think/topics/ai-agent-protocols#1509394340) *   [Tutorial: LangGraph ReAct agent](https://www.ibm.com/think/tutorials/deploy-langgraph-react-agent-manage-it-support-tickets-watsonx-ai#80364620) *   [Overview](https://www.ibm.com/think/insights/ai-agent-governance#1268897081) *   [Overview](https://www.ibm.com/think/topics/ai-agent-use-cases#257779831) *   [Human resources](https://www.ibm.com/think/topics/ai-agents-in-human-resources#257779835) LangGraph, created by [LangChain](https://www.ibm.com/think/topics/langchain), is an open source AI agent framework designed to build, deploy and manage complex generative AI agent workflows. At its core, LangGraph uses the power of graph-based architectures to model and manage the intricate relationships between various components of an [AI agent workflow](https://www.ibm.com/think/topics/ai-agents). LangGraph is also built on several key technologies, including [LangChain,](https://www.ibm.com/think/topics/langchain) a Python framework for building AI applications. By combining these technologies with a set of APIs and tools, LangGraph provides users with a versatile platform for developing AI solutions and workflows including [chatbots](https://www.ibm.com/think/topics/chatbots), state graphs and [other agent-based systems](https://www.ibm.com/think/topics/multiagent-system).',\n",
       "   'score': 0.935964,\n",
       "   'raw_content': None},\n",
       "  {'url': 'https://www.youtube.com/watch?v=qaWOwbFw3cs',\n",
       "   'title': \"LangGraph 101: it's better than LangChain - YouTube\",\n",
       "   'content': 'LangGraph is a special LangChain-built library that builds intelligent AI Agents using graphs. Ie, agentic state machines.',\n",
       "   'score': 0.933534,\n",
       "   'raw_content': None}],\n",
       " 'response_time': 0.84,\n",
       " 'request_id': 'd67a0bb6-3c8c-409b-91d7-9751e79de24e'}"
      ]
     },
     "execution_count": 7,
     "metadata": {},
     "output_type": "execute_result"
    }
   ],
   "source": [
    "# tavily seaarch tool ---> for api go to https://app.tavily.com/home and generate an api key\n",
    "from langchain_tavily import TavilySearch\n",
    "\n",
    "search_tool=TavilySearch(max_results=2)\n",
    "search_tool.invoke(\"What is langgraph\")"
   ]
  },
  {
   "cell_type": "code",
   "execution_count": 8,
   "id": "f3ff9125",
   "metadata": {},
   "outputs": [
    {
     "data": {
      "text/plain": [
       "{'query': 'What is the weather in bangalore today',\n",
       " 'follow_up_questions': None,\n",
       " 'answer': None,\n",
       " 'images': [],\n",
       " 'results': [{'title': 'Weather in Bangalore',\n",
       "   'url': 'https://www.weatherapi.com/',\n",
       "   'content': \"{'location': {'name': 'Bangalore', 'region': 'Karnataka', 'country': 'India', 'lat': 12.9833, 'lon': 77.5833, 'tz_id': 'Asia/Kolkata', 'localtime_epoch': 1760145684, 'localtime': '2025-10-11 06:51'}, 'current': {'last_updated_epoch': 1760145300, 'last_updated': '2025-10-11 06:45', 'temp_c': 20.3, 'temp_f': 68.5, 'is_day': 1, 'condition': {'text': 'Mist', 'icon': '//cdn.weatherapi.com/weather/64x64/day/143.png', 'code': 1030}, 'wind_mph': 4.0, 'wind_kph': 6.5, 'wind_degree': 49, 'wind_dir': 'NE', 'pressure_mb': 1015.0, 'pressure_in': 29.97, 'precip_mm': 1.26, 'precip_in': 0.05, 'humidity': 94, 'cloud': 75, 'feelslike_c': 20.3, 'feelslike_f': 68.5, 'windchill_c': 20.5, 'windchill_f': 68.9, 'heatindex_c': 20.5, 'heatindex_f': 68.9, 'dewpoint_c': 19.0, 'dewpoint_f': 66.2, 'vis_km': 5.0, 'vis_miles': 3.0, 'uv': 0.0, 'gust_mph': 7.0, 'gust_kph': 11.3}}\",\n",
       "   'score': 0.9781165,\n",
       "   'raw_content': None},\n",
       "  {'url': 'https://www.easeweather.com/asia/india/karnataka/bangalore-urban/bengaluru/october',\n",
       "   'title': 'Weather in Bengaluru in October 2025 - Detailed Forecast',\n",
       "   'content': 'Weather in Bengaluru for October 2025 · The forecast for the next days in Bengaluru predicts temperatures to be around 28 °C, close to the historical average.',\n",
       "   'score': 0.9197076,\n",
       "   'raw_content': None}],\n",
       " 'response_time': 1.8,\n",
       " 'request_id': 'e4672589-b1ad-4c7f-b41e-aa3c6cc36fab'}"
      ]
     },
     "execution_count": 8,
     "metadata": {},
     "output_type": "execute_result"
    }
   ],
   "source": [
    "search_tool.invoke(\"What is the weather in bangalore today\")"
   ]
  },
  {
   "cell_type": "markdown",
   "id": "5ec3900c",
   "metadata": {},
   "source": [
    "## Lets create 6 tools"
   ]
  },
  {
   "cell_type": "code",
   "execution_count": 9,
   "id": "9a6f6516",
   "metadata": {},
   "outputs": [],
   "source": [
    "\n",
    "#defining search tool\n",
    "search_tool = TavilySearch(max_results=2)\n",
    "\n",
    "\n",
    "def search_web(user_question):\n",
    "    \"\"\"\n",
    "    This function will search a web search for the user question\n",
    "    Args:\n",
    "        user_question (str): The question to search\n",
    "    Returns:\n",
    "        search_results (list): The search results\n",
    "    \"\"\"\n",
    "    search_results = search_tool.invoke(user_question)[\"results\"]\n",
    "    return search_results\n",
    "\n",
    "#mathematical tool - addition\n",
    "def add_numbers(a,b):\n",
    "    \"\"\"\n",
    "    This function will add two numbers\n",
    "    Args:\n",
    "        a (int): The first number\n",
    "        b (int): The second number\n",
    "    Returns:\n",
    "        result (int): The sum of the two numbers\n",
    "    \"\"\"\n",
    "    return a+b\n",
    "\n",
    "#mathematical tool - subtraction\n",
    "def subtract_numbers(a,b):\n",
    "    \"\"\"\n",
    "    This function will subtract two numbers\n",
    "    Args:\n",
    "        a (int): The first number\n",
    "        b (int): The second number\n",
    "    Returns:\n",
    "        result (int): The difference of the two numbers\n",
    "    \"\"\"\n",
    "    return a-b\n",
    "\n",
    "#mathematical tool - multiplication\n",
    "def multiply_numbers(a,b):\n",
    "    \"\"\"\n",
    "    This function will multiply two numbers\n",
    "    Args:\n",
    "        a (int): The first number\n",
    "        b (int): The second number\n",
    "    Returns:\n",
    "        result (int): The product of the two numbers\n",
    "    \"\"\"\n",
    "    return a*b\n",
    "\n",
    "#mathematical tool - division\n",
    "def divide_numbers(a,b):\n",
    "    \"\"\"\n",
    "    This function will divide two numbers\n",
    "    Args:\n",
    "        a (int): The first number\n",
    "        b (int): The second number\n",
    "    Returns:\n",
    "        result (int): The quotient of the two numbers\n",
    "    \"\"\"\n",
    "    return a/b\n",
    "\n",
    "\n",
    "# tool to get the current time\n",
    "def get_current_time():\n",
    "    \"\"\"\n",
    "    This function will get the current time\n",
    "    Returns:\n",
    "        result (str): The current time\n",
    "    \"\"\"\n",
    "    return datetime.now().strftime(\"%H:%M:%S\")\n"
   ]
  },
  {
   "cell_type": "code",
   "execution_count": 10,
   "id": "5e3c849f",
   "metadata": {},
   "outputs": [],
   "source": [
    "tools_list = [search_web, add_numbers, subtract_numbers, multiply_numbers, divide_numbers, get_current_time]"
   ]
  },
  {
   "cell_type": "code",
   "execution_count": 11,
   "id": "4f1ebea5",
   "metadata": {},
   "outputs": [],
   "source": [
    "#bind the tools with llm\n",
    "llm_with_tool = model.bind_tools(tools_list)"
   ]
  },
  {
   "cell_type": "code",
   "execution_count": 12,
   "id": "00c532e6",
   "metadata": {},
   "outputs": [
    {
     "data": {
      "text/plain": [
       "AIMessage(content='', additional_kwargs={'tool_calls': [{'id': 'call_4Xb5z7crT7AFdnVBAQBZsaUK', 'function': {'arguments': '{\"user_question\":\"weather of Bangalore today\"}', 'name': 'search_web'}, 'type': 'function'}], 'refusal': None}, response_metadata={'token_usage': {'completion_tokens': 18, 'prompt_tokens': 348, 'total_tokens': 366, 'completion_tokens_details': {'accepted_prediction_tokens': 0, 'audio_tokens': 0, 'reasoning_tokens': 0, 'rejected_prediction_tokens': 0}, 'prompt_tokens_details': {'audio_tokens': 0, 'cached_tokens': 0}}, 'model_name': 'gpt-4.1-mini-2025-04-14', 'system_fingerprint': 'fp_c064fdde7c', 'id': 'chatcmpl-CPIb09usbh8tsx1cdBc9WZhelroQl', 'service_tier': 'default', 'finish_reason': 'tool_calls', 'logprobs': None}, id='run--d5481b2d-28ae-48a4-9a30-7604f06cb270-0', tool_calls=[{'name': 'search_web', 'args': {'user_question': 'weather of Bangalore today'}, 'id': 'call_4Xb5z7crT7AFdnVBAQBZsaUK', 'type': 'tool_call'}], usage_metadata={'input_tokens': 348, 'output_tokens': 18, 'total_tokens': 366, 'input_token_details': {'audio': 0, 'cache_read': 0}, 'output_token_details': {'audio': 0, 'reasoning': 0}})"
      ]
     },
     "execution_count": 12,
     "metadata": {},
     "output_type": "execute_result"
    }
   ],
   "source": [
    "llm_with_tool.invoke(\"What is the weather of bangalore today?\")"
   ]
  },
  {
   "cell_type": "code",
   "execution_count": 13,
   "id": "89885fa3",
   "metadata": {},
   "outputs": [],
   "source": [
    "def tool_calling_llm(state: State):\n",
    "\n",
    "    response = llm_with_tool.invoke(state[\"messages\"])\n",
    "    return {\"messages\": [response]}"
   ]
  },
  {
   "cell_type": "code",
   "execution_count": 14,
   "id": "6a02eed0",
   "metadata": {},
   "outputs": [],
   "source": [
    "#define the workflow\n",
    "from langgraph.graph import StateGraph,START,END\n",
    "from langgraph.prebuilt import ToolNode\n",
    "from langgraph.prebuilt import tools_condition\n",
    "\n",
    "graph = StateGraph(State)\n",
    "\n",
    "graph.add_node(\"LLM binded with tools\" , tool_calling_llm)\n",
    "graph.add_node(\"tools\" , ToolNode(tools_list))\n",
    "\n",
    "graph.add_edge(START, \"LLM binded with tools\")\n",
    "graph.add_conditional_edges(\n",
    "    \"LLM binded with tools\",\n",
    "    #if the tool is called then it will go to the next node else it will go to the end node\n",
    "    tools_condition\n",
    ")\n",
    "\n",
    "graph.add_edge(\"tools\" , END)\n",
    "\n",
    "app = graph.compile()"
   ]
  },
  {
   "cell_type": "code",
   "execution_count": 15,
   "id": "2d640cab",
   "metadata": {},
   "outputs": [
    {
     "data": {
      "image/png": "[encoded data removed]",
      "text/plain": [
       "<IPython.core.display.Image object>"
      ]
     },
     "metadata": {},
     "output_type": "display_data"
    }
   ],
   "source": [
    "display_graph(app)"
   ]
  },
  {
   "cell_type": "code",
   "execution_count": 16,
   "id": "139d1509",
   "metadata": {},
   "outputs": [],
   "source": [
    "response = app.invoke({\n",
    "    \"messages\": [\"hey how are you\"]\n",
    "})"
   ]
  },
  {
   "cell_type": "code",
   "execution_count": 17,
   "id": "16c2e425",
   "metadata": {},
   "outputs": [
    {
     "name": "stdout",
     "output_type": "stream",
     "text": [
      "================================\u001b[1m Human Message \u001b[0m=================================\n",
      "\n",
      "hey how are you\n",
      "==================================\u001b[1m Ai Message \u001b[0m==================================\n",
      "\n",
      "Hello! I'm just a bunch of code, so I don't have feelings, but I'm here and ready to help you. How can I assist you today?\n"
     ]
    }
   ],
   "source": [
    "for m in response['messages']:\n",
    "    m.pretty_print()"
   ]
  },
  {
   "cell_type": "code",
   "execution_count": 18,
   "id": "991f6a8f",
   "metadata": {},
   "outputs": [],
   "source": [
    "response = app.invoke({\n",
    "    \"messages\": [\"What is the weather in bangalore today?\"]\n",
    "})"
   ]
  },
  {
   "cell_type": "code",
   "execution_count": 19,
   "id": "17149af7",
   "metadata": {},
   "outputs": [
    {
     "name": "stdout",
     "output_type": "stream",
     "text": [
      "================================\u001b[1m Human Message \u001b[0m=================================\n",
      "\n",
      "What is the weather in bangalore today?\n",
      "==================================\u001b[1m Ai Message \u001b[0m==================================\n",
      "Tool Calls:\n",
      "  search_web (call_XJuZ1wNLVgVr8PXPUYYkb6lX)\n",
      " Call ID: call_XJuZ1wNLVgVr8PXPUYYkb6lX\n",
      "  Args:\n",
      "    user_question: weather in Bangalore today\n",
      "=================================\u001b[1m Tool Message \u001b[0m=================================\n",
      "Name: search_web\n",
      "\n",
      "[{\"title\": \"Weather in Bangalore\", \"url\": \"https://www.weatherapi.com/\", \"content\": \"{'location': {'name': 'Bangalore', 'region': 'Karnataka', 'country': 'India', 'lat': 12.9833, 'lon': 77.5833, 'tz_id': 'Asia/Kolkata', 'localtime_epoch': 1760145684, 'localtime': '2025-10-11 06:51'}, 'current': {'last_updated_epoch': 1760145300, 'last_updated': '2025-10-11 06:45', 'temp_c': 20.3, 'temp_f': 68.5, 'is_day': 1, 'condition': {'text': 'Mist', 'icon': '//cdn.weatherapi.com/weather/64x64/day/143.png', 'code': 1030}, 'wind_mph': 4.0, 'wind_kph': 6.5, 'wind_degree': 49, 'wind_dir': 'NE', 'pressure_mb': 1015.0, 'pressure_in': 29.97, 'precip_mm': 1.26, 'precip_in': 0.05, 'humidity': 94, 'cloud': 75, 'feelslike_c': 20.3, 'feelslike_f': 68.5, 'windchill_c': 20.5, 'windchill_f': 68.9, 'heatindex_c': 20.5, 'heatindex_f': 68.9, 'dewpoint_c': 19.0, 'dewpoint_f': 66.2, 'vis_km': 5.0, 'vis_miles': 3.0, 'uv': 0.0, 'gust_mph': 7.0, 'gust_kph': 11.3}}\", \"score\": 0.9979265, \"raw_content\": null}, {\"url\": \"https://www.weather25.com/asia/india/karnataka/bangalore?page=month&month=October\", \"title\": \"Bangalore weather in October 2025 - Weather25.com\", \"content\": \"The temperatures in Bangalore in October are comfortable with low of 66°F and and high up to 82°F. You can expect rain for roughly half of the month.\", \"score\": 0.9857, \"raw_content\": null}]\n"
     ]
    }
   ],
   "source": [
    "for m in response['messages']:\n",
    "    m.pretty_print()"
   ]
  },
  {
   "cell_type": "code",
   "execution_count": 20,
   "id": "53a39863",
   "metadata": {},
   "outputs": [
    {
     "name": "stdout",
     "output_type": "stream",
     "text": [
      "================================\u001b[1m Human Message \u001b[0m=================================\n",
      "\n",
      "What is 5 multiplied by 4\n",
      "==================================\u001b[1m Ai Message \u001b[0m==================================\n",
      "Tool Calls:\n",
      "  multiply_numbers (call_7TvgQdsgJW9M270nHfCIHSfm)\n",
      " Call ID: call_7TvgQdsgJW9M270nHfCIHSfm\n",
      "  Args:\n",
      "    a: 5\n",
      "    b: 4\n",
      "=================================\u001b[1m Tool Message \u001b[0m=================================\n",
      "Name: multiply_numbers\n",
      "\n",
      "20\n"
     ]
    }
   ],
   "source": [
    "response=app.invoke({\"messages\":\"What is 5 multiplied by 4\"})\n",
    "for m in response['messages']:\n",
    "    m.pretty_print()"
   ]
  },
  {
   "cell_type": "code",
   "execution_count": 21,
   "id": "bc027a11",
   "metadata": {},
   "outputs": [
    {
     "name": "stdout",
     "output_type": "stream",
     "text": [
      "================================\u001b[1m Human Message \u001b[0m=================================\n",
      "\n",
      "What is 5 multiplied by 4 and where is taj mahal\n",
      "==================================\u001b[1m Ai Message \u001b[0m==================================\n",
      "Tool Calls:\n",
      "  multiply_numbers (call_qg8K1yj8ecyef4pJPTP9JxPD)\n",
      " Call ID: call_qg8K1yj8ecyef4pJPTP9JxPD\n",
      "  Args:\n",
      "    a: 5\n",
      "    b: 4\n",
      "  search_web (call_Rlk2bTpE0TtcVq0VOpvcrLiD)\n",
      " Call ID: call_Rlk2bTpE0TtcVq0VOpvcrLiD\n",
      "  Args:\n",
      "    user_question: Where is Taj Mahal located?\n",
      "=================================\u001b[1m Tool Message \u001b[0m=================================\n",
      "Name: multiply_numbers\n",
      "\n",
      "20\n",
      "=================================\u001b[1m Tool Message \u001b[0m=================================\n",
      "Name: search_web\n",
      "\n",
      "[{\"url\": \"https://www.corinthiantravel.co.uk/blog/everything-you-need-to-know-about-visiting-the-taj-mahal-india/\", \"title\": \"Everything you need to know about visiting the Taj Mahal\", \"content\": \"*   [Where is the Taj Mahal](https://www.corinthiantravel.co.uk/blog/everything-you-need-to-know-about-visiting-the-taj-mahal-india/#where-is-taj-mahal) *   [History of the Taj Mahal](https://www.corinthiantravel.co.uk/blog/everything-you-need-to-know-about-visiting-the-taj-mahal-india/#history-taj-mahal) *   [How to get to the Taj Mahal](https://www.corinthiantravel.co.uk/blog/everything-you-need-to-know-about-visiting-the-taj-mahal-india/#getting-to-taj-mahal) *   [How long do you need in Agra?](https://www.corinthiantravel.co.uk/blog/everything-you-need-to-know-about-visiting-the-taj-mahal-india/#time-in-agra) *   [Where to stay in Agra](https://www.corinthiantravel.co.uk/blog/everything-you-need-to-know-about-visiting-the-taj-mahal-india/#where-to-stay-agra) *   [Best time to visit the Taj and opening hours](https://www.corinthiantravel.co.uk/blog/everything-you-need-to-know-about-visiting-the-taj-mahal-india/#best-time-to-visit) *   [Visiting the Taj Mahal at Full Moon](https://www.corinthiantravel.co.uk/blog/everything-you-need-to-know-about-visiting-the-taj-mahal-india/#full-moon-visit) *   [How much are tickets for the Taj Mahal?](https://www.corinthiantravel.co.uk/blog/everything-you-need-to-know-about-visiting-the-taj-mahal-india/#taj-mahal-tickets) *   [What to wear at the Taj Mahal](https://www.corinthiantravel.co.uk/blog/everything-you-need-to-know-about-visiting-the-taj-mahal-india/#what-to-wear) *   [Best things to see at the Taj Mahal](https://www.corinthiantravel.co.uk/blog/everything-you-need-to-know-about-visiting-the-taj-mahal-india/#things-to-see) *   [Best places to eat and drink in Agra](https://www.corinthiantravel.co.uk/blog/everything-you-need-to-know-about-visiting-the-taj-mahal-india/#places-to-eat-agra) *   [Scams to avoid and insider tips](https://www.corinthiantravel.co.uk/blog/everything-you-need-to-know-about-visiting-the-taj-mahal-india/#scams-and-tips) The Taj Mahal is located in the spectacular city of [Agra](https://www.corinthiantravel.co.uk/where-to-travel/agra/)in North India’s state of Uttar Pradesh. *   [Fairouz el Nil Dahabiya Cruise](https://www.corinthiantravel.co.uk/blog/everything-you-need-to-know-about-visiting-the-taj-mahal-india/#)\", \"score\": 0.8793233, \"raw_content\": null}, {\"url\": \"https://www.facebook.com/Exithamster/videos/the-taj-mahal-located-in-agra-india-is-one-of-the-most-iconic-monuments-in-the-w/1421861702061321/\", \"title\": \"The Taj Mahal, located in Agra, India, is one of the most ... - Facebook\", \"content\": \"The Taj Mahal, located in Agra, India, is one of the most iconic monuments in the world — a marble mausoleum built by Mughal emperor Shah Jahan\", \"score\": 0.8700796, \"raw_content\": null}]\n"
     ]
    }
   ],
   "source": [
    "## this is something to note about \n",
    "response=app.invoke({\"messages\":\"What is 5 multiplied by 4 and where is taj mahal\"})\n",
    "for m in response['messages']:\n",
    "    m.pretty_print()"
   ]
  },
  {
   "cell_type": "markdown",
   "id": "abdf7692",
   "metadata": {},
   "source": [
    "## Part 2: Improving the workflow by passing the tools output back to llm - ReACT agent"
   ]
  },
  {
   "cell_type": "code",
   "execution_count": 22,
   "id": "14ae50e0",
   "metadata": {},
   "outputs": [],
   "source": [
    "# define the workflow\n",
    "from langgraph.graph import StateGraph,START,END\n",
    "from langgraph.prebuilt import ToolNode\n",
    "from langgraph.prebuilt import tools_condition\n",
    "\n",
    "workflow = StateGraph(State)\n",
    "\n",
    "workflow.add_node(\"LLM binded with tools\", tool_calling_llm)\n",
    "workflow.add_node(\"tools\" , ToolNode(tools_list))\n",
    "\n",
    "workflow.add_edge(START, \"LLM binded with tools\")\n",
    "workflow.add_conditional_edges(\n",
    "    \"LLM binded with tools\",\n",
    "    tools_condition\n",
    ")\n",
    "workflow.add_edge(\"tools\", \"LLM binded with tools\")\n",
    "\n",
    "app2 = workflow.compile()"
   ]
  },
  {
   "cell_type": "code",
   "execution_count": 23,
   "id": "e615e4eb",
   "metadata": {},
   "outputs": [
    {
     "data": {
      "image/png": "[encoded data removed]",
      "text/plain": [
       "<IPython.core.display.Image object>"
      ]
     },
     "metadata": {},
     "output_type": "display_data"
    }
   ],
   "source": [
    "display_graph(app2)"
   ]
  },
  {
   "cell_type": "code",
   "execution_count": 24,
   "id": "c4c768c7",
   "metadata": {},
   "outputs": [],
   "source": [
    "response = app2.invoke(\n",
    "    {\n",
    "        \"messages\" : [\" What is 4 multiplied by 5 and who built tajamahal?\"]\n",
    "    }\n",
    ")"
   ]
  },
  {
   "cell_type": "code",
   "execution_count": 25,
   "id": "338eccdd",
   "metadata": {},
   "outputs": [
    {
     "name": "stdout",
     "output_type": "stream",
     "text": [
      "================================\u001b[1m Human Message \u001b[0m=================================\n",
      "\n",
      " What is 4 multiplied by 5 and who built tajamahal?\n",
      "==================================\u001b[1m Ai Message \u001b[0m==================================\n",
      "Tool Calls:\n",
      "  multiply_numbers (call_7AZdlwAIQcGOimchlxv4zpbs)\n",
      " Call ID: call_7AZdlwAIQcGOimchlxv4zpbs\n",
      "  Args:\n",
      "    a: 4\n",
      "    b: 5\n",
      "  search_web (call_tq3CuzFyEo82N6hoY5ABPtI7)\n",
      " Call ID: call_tq3CuzFyEo82N6hoY5ABPtI7\n",
      "  Args:\n",
      "    user_question: Who built Taj Mahal?\n",
      "=================================\u001b[1m Tool Message \u001b[0m=================================\n",
      "Name: multiply_numbers\n",
      "\n",
      "20\n",
      "=================================\u001b[1m Tool Message \u001b[0m=================================\n",
      "Name: search_web\n",
      "\n",
      "[{\"url\": \"https://www.ebsco.com/research-starters/architecture/shah-jahan-builds-taj-mahal\", \"title\": \"Shah Jahan Builds the Taj Mahal | Research Starters - EBSCO\", \"content\": \"# Shah Jahan Builds the Taj Mahal # Shah Jahan Builds the Taj Mahal *The grand Taj Mahal was built by Mughal emperor Shah Jahan, according to one popular legend, to remember the love he shared with his favorite wife, Mumtaz Mahal. * Mumtaz Mahal (1593–1631), Shah Jahan’s favorite wife, for whom he built the Taj Mahal Mumtaz was buried temporarily, while the grief-stricken Shah Jahan proceeded to build the most beautiful mausoleum possible: the Taj Mahal, constructed as a lasting symbol of the love between himself and Mumtaz. Shah Jahan also built the Moti Masjid (the Pearl Mosque) within Āgra Fort, northwest of the Taj Mahal. Shah Jahan’s architectural masterpiece, the Taj Mahal, is considered one of the world’s most beautiful buildings and is a popular tourist attraction.\", \"score\": 0.8803145, \"raw_content\": null}, {\"url\": \"https://www.youtube.com/watch?v=7783OO_MtQY\", \"title\": \"Taj Mahal in 60 Seconds | Quick History - YouTube\", \"content\": \"Taj Mahal in 60 Seconds | Quick History\\nRainbow Parrot Art\\n19800 subscribers\\n47 likes\\n18296 views\\n28 Oct 2024\\nDiscover the heartbreaking love story behind one of the world’s most famous monuments, the Taj Mahal. Built nearly 400 years ago by Emperor Shah Jahan in memory of his beloved wife, this architectural masterpiece is rich with history and symbolism. In just 60 seconds, learn the key facts about this iconic structure’s creation and significance.\\n\\n👉More of my fascinating Crash Courses, Artist Bios & Mini-Documentaries here:\\nhttps://www.youtube.com/playlist?list=PL-PoO0zgd6rI3suVvxmxHVeN55TIEb_Zi\\n\\n👉Watch my fun Taj Mahal drawing tutorial here:\\nhttps://www.youtube.com/watch?v=clmjXFxvUr4\\n5 comments\\n\", \"score\": 0.78944516, \"raw_content\": null}]\n",
      "==================================\u001b[1m Ai Message \u001b[0m==================================\n",
      "\n",
      "4 multiplied by 5 is 20.\n",
      "\n",
      "The Taj Mahal was built by the Mughal emperor Shah Jahan. He constructed it as a lasting symbol of love for his favorite wife, Mumtaz Mahal.\n"
     ]
    }
   ],
   "source": [
    "for m in response['messages']:\n",
    "    m.pretty_print()\n"
   ]
  },
  {
   "cell_type": "markdown",
   "id": "e65a8d5d",
   "metadata": {},
   "source": [
    "## Part 3: Inbuilt ReACT agent by langgraph"
   ]
  },
  {
   "cell_type": "code",
   "execution_count": 26,
   "id": "353ba071",
   "metadata": {},
   "outputs": [],
   "source": [
    "from langgraph.prebuilt import create_react_agent"
   ]
  },
  {
   "cell_type": "code",
   "execution_count": 27,
   "id": "6becea8c",
   "metadata": {},
   "outputs": [],
   "source": [
    "react_agent = create_react_agent(\n",
    "    model=model,\n",
    "    tools=tools_list\n",
    ")"
   ]
  },
  {
   "cell_type": "code",
   "execution_count": 28,
   "id": "38c3a892",
   "metadata": {},
   "outputs": [
    {
     "name": "stdout",
     "output_type": "stream",
     "text": [
      "================================\u001b[1m Human Message \u001b[0m=================================\n",
      "\n",
      "What is 5 multiplied by 4 and who built taj mahal\n",
      "==================================\u001b[1m Ai Message \u001b[0m==================================\n",
      "Tool Calls:\n",
      "  multiply_numbers (call_7Kvpk7j4gkR0dWGfgPPjExIV)\n",
      " Call ID: call_7Kvpk7j4gkR0dWGfgPPjExIV\n",
      "  Args:\n",
      "    a: 5\n",
      "    b: 4\n",
      "  search_web (call_SgTukDSa5UFmtu71tmKkmLMm)\n",
      " Call ID: call_SgTukDSa5UFmtu71tmKkmLMm\n",
      "  Args:\n",
      "    user_question: Who built the Taj Mahal?\n",
      "=================================\u001b[1m Tool Message \u001b[0m=================================\n",
      "Name: multiply_numbers\n",
      "\n",
      "20\n",
      "=================================\u001b[1m Tool Message \u001b[0m=================================\n",
      "Name: search_web\n",
      "\n",
      "[{\"url\": \"https://www.ebsco.com/research-starters/architecture/shah-jahan-builds-taj-mahal\", \"title\": \"Shah Jahan Builds the Taj Mahal | Research Starters - EBSCO\", \"content\": \"# Shah Jahan Builds the Taj Mahal # Shah Jahan Builds the Taj Mahal *The grand Taj Mahal was built by Mughal emperor Shah Jahan, according to one popular legend, to remember the love he shared with his favorite wife, Mumtaz Mahal. * Mumtaz Mahal (1593–1631), Shah Jahan’s favorite wife, for whom he built the Taj Mahal Mumtaz was buried temporarily, while the grief-stricken Shah Jahan proceeded to build the most beautiful mausoleum possible: the Taj Mahal, constructed as a lasting symbol of the love between himself and Mumtaz. Shah Jahan also built the Moti Masjid (the Pearl Mosque) within Āgra Fort, northwest of the Taj Mahal. Shah Jahan’s architectural masterpiece, the Taj Mahal, is considered one of the world’s most beautiful buildings and is a popular tourist attraction.\", \"score\": 0.890761, \"raw_content\": null}, {\"url\": \"https://www.tajmahal.gov.in/creation-history-of-taj-mahal.aspx\", \"title\": \"Creation History - Taj Mahal\", \"content\": \"*   Nearby Attractions Agra Beyond Taj *   Views of Taj *   About Taj Mahal The Taj Mahal is actually an integrated complex of structures with the white domed marble mausoleum being its most significant component. Entrusted to a board-of-architects by the Emperor Shah Jahan, the construction of the Taj Complex began about 1631 AD. The vegetative tracery, inlay work and most obviously the lotus dome and finial of the Taj Mahal are all testament to this synthesis. History obscures precisely who designed the Taj Mahal. Some of the builders involved in construction of Taj Mahal under the master supervision of the Emperor Shah Jahan himself are: This is the official Website of Taj Mahal - Department of Tourism, Government of Uttar Pradesh, India.\", \"score\": 0.8033131, \"raw_content\": null}]\n",
      "==================================\u001b[1m Ai Message \u001b[0m==================================\n",
      "\n",
      "5 multiplied by 4 is 20.\n",
      "\n",
      "The Taj Mahal was built by the Mughal emperor Shah Jahan. He constructed it as a mausoleum for his favorite wife, Mumtaz Mahal, as a lasting symbol of their love.\n"
     ]
    }
   ],
   "source": [
    "response = react_agent.invoke({\"messages\":\"What is 5 multiplied by 4 and who built taj mahal\"})\n",
    "for m in response['messages']:\n",
    "    m.pretty_print()"
   ]
  },
  {
   "cell_type": "code",
   "execution_count": 29,
   "id": "a327453e",
   "metadata": {},
   "outputs": [
    {
     "data": {
      "image/png": "[encoded data removed]",
      "text/plain": [
       "<IPython.core.display.Image object>"
      ]
     },
     "metadata": {},
     "output_type": "display_data"
    }
   ],
   "source": [
    "display_graph(react_agent)"
   ]
  },
  {
   "cell_type": "markdown",
   "id": "b676a9e9",
   "metadata": {},
   "source": [
    "## Part 4 : Memory in langgraphs"
   ]
  },
  {
   "cell_type": "code",
   "execution_count": 30,
   "id": "093272fe",
   "metadata": {},
   "outputs": [
    {
     "data": {
      "text/plain": [
       "{'messages': [HumanMessage(content='Hey my name is Suman', additional_kwargs={}, response_metadata={}, id='05c293e1-8c13-48ce-9f8c-c8fb9be5b143'),\n",
       "  AIMessage(content='Hello Suman! How can I assist you today?', additional_kwargs={'refusal': None}, response_metadata={'token_usage': {'completion_tokens': 12, 'prompt_tokens': 345, 'total_tokens': 357, 'completion_tokens_details': {'accepted_prediction_tokens': 0, 'audio_tokens': 0, 'reasoning_tokens': 0, 'rejected_prediction_tokens': 0}, 'prompt_tokens_details': {'audio_tokens': 0, 'cached_tokens': 0}}, 'model_name': 'gpt-4.1-mini-2025-04-14', 'system_fingerprint': 'fp_c064fdde7c', 'id': 'chatcmpl-CPIhDMp1YtkZGUdOcrdnPBbkyBax2', 'service_tier': 'default', 'finish_reason': 'stop', 'logprobs': None}, id='run--ad23ee6e-e62e-4002-b5a3-540ac30a88d0-0', usage_metadata={'input_tokens': 345, 'output_tokens': 12, 'total_tokens': 357, 'input_token_details': {'audio': 0, 'cache_read': 0}, 'output_token_details': {'audio': 0, 'reasoning': 0}})]}"
      ]
     },
     "execution_count": 30,
     "metadata": {},
     "output_type": "execute_result"
    }
   ],
   "source": [
    "app2.invoke({\"messages\":\"Hey my name is Suman\"})"
   ]
  },
  {
   "cell_type": "code",
   "execution_count": 31,
   "id": "b3efa1fb",
   "metadata": {},
   "outputs": [
    {
     "data": {
      "text/plain": [
       "{'messages': [HumanMessage(content='Hey what is my name', additional_kwargs={}, response_metadata={}, id='e584d194-bc3e-474c-8b77-cbc7778acc83'),\n",
       "  AIMessage(content=\"I don't have access to your personal information, so I don't know your name. If you'd like, you can tell me your name!\", additional_kwargs={'refusal': None}, response_metadata={'token_usage': {'completion_tokens': 28, 'prompt_tokens': 344, 'total_tokens': 372, 'completion_tokens_details': {'accepted_prediction_tokens': 0, 'audio_tokens': 0, 'reasoning_tokens': 0, 'rejected_prediction_tokens': 0}, 'prompt_tokens_details': {'audio_tokens': 0, 'cached_tokens': 0}}, 'model_name': 'gpt-4.1-mini-2025-04-14', 'system_fingerprint': 'fp_c064fdde7c', 'id': 'chatcmpl-CPIhFQRNRKBK7wbsgImHXcGsVK40y', 'service_tier': 'default', 'finish_reason': 'stop', 'logprobs': None}, id='run--8c963c22-c127-4869-aa31-e8183c0a8dfd-0', usage_metadata={'input_tokens': 344, 'output_tokens': 28, 'total_tokens': 372, 'input_token_details': {'audio': 0, 'cache_read': 0}, 'output_token_details': {'audio': 0, 'reasoning': 0}})]}"
      ]
     },
     "execution_count": 31,
     "metadata": {},
     "output_type": "execute_result"
    }
   ],
   "source": [
    "app2.invoke({\"messages\":\"Hey what is my name\"})"
   ]
  },
  {
   "cell_type": "code",
   "execution_count": 32,
   "id": "e58f9455",
   "metadata": {},
   "outputs": [],
   "source": [
    "from langgraph.checkpoint.memory import MemorySaver\n",
    "\n",
    "# define the workflow\n",
    "from langgraph.graph import StateGraph,START,END\n",
    "from langgraph.prebuilt import ToolNode\n",
    "from langgraph.prebuilt import tools_condition\n",
    "\n",
    "#inmemory checkpoint\n",
    "memory = MemorySaver()\n",
    "\n",
    "workflow = StateGraph(State)\n",
    "\n",
    "workflow.add_node(\"LLM binded with tools\", tool_calling_llm)\n",
    "workflow.add_node(\"tools\" , ToolNode(tools_list))\n",
    "\n",
    "workflow.add_edge(START, \"LLM binded with tools\")\n",
    "workflow.add_conditional_edges(\n",
    "    \"LLM binded with tools\",\n",
    "    tools_condition\n",
    ")\n",
    "workflow.add_edge(\"tools\", \"LLM binded with tools\")\n",
    "\n",
    "app2 = workflow.compile(checkpointer=memory)"
   ]
  },
  {
   "cell_type": "code",
   "execution_count": 33,
   "id": "05c5834b",
   "metadata": {},
   "outputs": [
    {
     "name": "stdout",
     "output_type": "stream",
     "text": [
      "Hello Suman! How can I assist you today?\n"
     ]
    }
   ],
   "source": [
    "config={\"configurable\":{\"thread_id\":\"1\"}}\n",
    "response=app2.invoke({\"messages\":\"Hi my name is Suman\"},config=config)\n",
    "print(response[\"messages\"][-1].content)"
   ]
  },
  {
   "cell_type": "code",
   "execution_count": 34,
   "id": "33ed3cca",
   "metadata": {},
   "outputs": [
    {
     "name": "stdout",
     "output_type": "stream",
     "text": [
      "Your name is Suman. How can I help you further?\n"
     ]
    }
   ],
   "source": [
    "response=app2.invoke({\"messages\":\"Hi what is my name?\"},config=config)\n",
    "print(response[\"messages\"][-1].content)"
   ]
  },
  {
   "cell_type": "markdown",
   "id": "9a0cc977",
   "metadata": {},
   "source": [
    "## Part 6 : Streaming in Langgraph "
   ]
  },
  {
   "cell_type": "markdown",
   "id": "83de36fc",
   "metadata": {},
   "source": [
    "Methods: .stream() and astream()\n",
    "\n",
    "These methods are sync and async methods for streaming back results.\n",
    "Additional parameters in streaming modes for graph state\n",
    "\n",
    "for stream based events \n",
    "\n",
    "values : This streams the full state of the graph after each node is called. \\\n",
    "updates : This streams updates to the state of the graph after each node is called."
   ]
  },
  {
   "cell_type": "markdown",
   "id": "d839af82",
   "metadata": {},
   "source": [
    "### for 'value' based astream modes"
   ]
  },
  {
   "cell_type": "code",
   "execution_count": 35,
   "id": "63e12942",
   "metadata": {},
   "outputs": [
    {
     "name": "stdout",
     "output_type": "stream",
     "text": [
      "{'messages': [HumanMessage(content='Hi,My name is Suman And I like cricket', additional_kwargs={}, response_metadata={}, id='103df631-84f9-4cf0-b758-2461aab4d4be')]}\n",
      "{'messages': [HumanMessage(content='Hi,My name is Suman And I like cricket', additional_kwargs={}, response_metadata={}, id='103df631-84f9-4cf0-b758-2461aab4d4be'), AIMessage(content=\"Hi Suman! It's great to meet you. Cricket is a fantastic sport. Do you have a favorite team or player? Or maybe you play cricket yourself?\", additional_kwargs={'refusal': None}, response_metadata={'token_usage': {'completion_tokens': 33, 'prompt_tokens': 350, 'total_tokens': 383, 'completion_tokens_details': {'accepted_prediction_tokens': 0, 'audio_tokens': 0, 'reasoning_tokens': 0, 'rejected_prediction_tokens': 0}, 'prompt_tokens_details': {'audio_tokens': 0, 'cached_tokens': 0}}, 'model_name': 'gpt-4.1-mini-2025-04-14', 'system_fingerprint': 'fp_c064fdde7c', 'id': 'chatcmpl-CPIlfK4aIoORPpYXdDwmkYJoHhLuB', 'service_tier': 'default', 'finish_reason': 'stop', 'logprobs': None}, id='run--7184b302-6ccd-48e3-baed-e515e108ff9e-0', usage_metadata={'input_tokens': 350, 'output_tokens': 33, 'total_tokens': 383, 'input_token_details': {'audio': 0, 'cache_read': 0}, 'output_token_details': {'audio': 0, 'reasoning': 0}})]}\n"
     ]
    }
   ],
   "source": [
    "# Create a thread\n",
    "config = {\"configurable\": {\"thread_id\": \"2\"}}\n",
    "\n",
    "chunks  = app2.stream({'messages':\"Hi,My name is Suman And I like cricket\"},config,stream_mode=\"values\")\n",
    "\n",
    "for chunk in chunks:\n",
    "    print(chunk)"
   ]
  },
  {
   "cell_type": "code",
   "execution_count": 36,
   "id": "603e19cd",
   "metadata": {},
   "outputs": [
    {
     "name": "stdout",
     "output_type": "stream",
     "text": [
      "{'messages': [HumanMessage(content='Hi,My name is Suman And I like cricket', additional_kwargs={}, response_metadata={}, id='103df631-84f9-4cf0-b758-2461aab4d4be'), AIMessage(content=\"Hi Suman! It's great to meet you. Cricket is a fantastic sport. Do you have a favorite team or player? Or maybe you play cricket yourself?\", additional_kwargs={'refusal': None}, response_metadata={'token_usage': {'completion_tokens': 33, 'prompt_tokens': 350, 'total_tokens': 383, 'completion_tokens_details': {'accepted_prediction_tokens': 0, 'audio_tokens': 0, 'reasoning_tokens': 0, 'rejected_prediction_tokens': 0}, 'prompt_tokens_details': {'audio_tokens': 0, 'cached_tokens': 0}}, 'model_name': 'gpt-4.1-mini-2025-04-14', 'system_fingerprint': 'fp_c064fdde7c', 'id': 'chatcmpl-CPIlfK4aIoORPpYXdDwmkYJoHhLuB', 'service_tier': 'default', 'finish_reason': 'stop', 'logprobs': None}, id='run--7184b302-6ccd-48e3-baed-e515e108ff9e-0', usage_metadata={'input_tokens': 350, 'output_tokens': 33, 'total_tokens': 383, 'input_token_details': {'audio': 0, 'cache_read': 0}, 'output_token_details': {'audio': 0, 'reasoning': 0}}), HumanMessage(content='Ohh  I like movies too', additional_kwargs={}, response_metadata={}, id='1559d86a-6c1f-40f3-9957-0dc9dbfb181a')]}\n",
      "{'messages': [HumanMessage(content='Hi,My name is Suman And I like cricket', additional_kwargs={}, response_metadata={}, id='103df631-84f9-4cf0-b758-2461aab4d4be'), AIMessage(content=\"Hi Suman! It's great to meet you. Cricket is a fantastic sport. Do you have a favorite team or player? Or maybe you play cricket yourself?\", additional_kwargs={'refusal': None}, response_metadata={'token_usage': {'completion_tokens': 33, 'prompt_tokens': 350, 'total_tokens': 383, 'completion_tokens_details': {'accepted_prediction_tokens': 0, 'audio_tokens': 0, 'reasoning_tokens': 0, 'rejected_prediction_tokens': 0}, 'prompt_tokens_details': {'audio_tokens': 0, 'cached_tokens': 0}}, 'model_name': 'gpt-4.1-mini-2025-04-14', 'system_fingerprint': 'fp_c064fdde7c', 'id': 'chatcmpl-CPIlfK4aIoORPpYXdDwmkYJoHhLuB', 'service_tier': 'default', 'finish_reason': 'stop', 'logprobs': None}, id='run--7184b302-6ccd-48e3-baed-e515e108ff9e-0', usage_metadata={'input_tokens': 350, 'output_tokens': 33, 'total_tokens': 383, 'input_token_details': {'audio': 0, 'cache_read': 0}, 'output_token_details': {'audio': 0, 'reasoning': 0}}), HumanMessage(content='Ohh  I like movies too', additional_kwargs={}, response_metadata={}, id='1559d86a-6c1f-40f3-9957-0dc9dbfb181a'), AIMessage(content=\"That's awesome, Suman! Movies are a great way to relax and enjoy some storytelling. What kind of movies do you like? Any favorite genres or films?\", additional_kwargs={'refusal': None}, response_metadata={'token_usage': {'completion_tokens': 33, 'prompt_tokens': 397, 'total_tokens': 430, 'completion_tokens_details': {'accepted_prediction_tokens': 0, 'audio_tokens': 0, 'reasoning_tokens': 0, 'rejected_prediction_tokens': 0}, 'prompt_tokens_details': {'audio_tokens': 0, 'cached_tokens': 0}}, 'model_name': 'gpt-4.1-mini-2025-04-14', 'system_fingerprint': 'fp_c064fdde7c', 'id': 'chatcmpl-CPIm9xUr3hSRZCO4fbhfadIwpTOXm', 'service_tier': 'default', 'finish_reason': 'stop', 'logprobs': None}, id='run--38b14e6b-80f5-43c0-b7de-18d76d7ed4f6-0', usage_metadata={'input_tokens': 397, 'output_tokens': 33, 'total_tokens': 430, 'input_token_details': {'audio': 0, 'cache_read': 0}, 'output_token_details': {'audio': 0, 'reasoning': 0}})]}\n"
     ]
    }
   ],
   "source": [
    "# Create a thread\n",
    "config = {\"configurable\": {\"thread_id\": \"2\"}}\n",
    "\n",
    "chunks  = app2.stream({'messages':\"Ohh  I like movies too\"},config,stream_mode=\"values\")\n",
    "\n",
    "for chunk in chunks:\n",
    "    print(chunk)"
   ]
  },
  {
   "cell_type": "markdown",
   "id": "a2da8aea",
   "metadata": {},
   "source": [
    "### for 'update' based astream modes"
   ]
  },
  {
   "cell_type": "code",
   "execution_count": 37,
   "id": "94589de4",
   "metadata": {},
   "outputs": [
    {
     "name": "stdout",
     "output_type": "stream",
     "text": [
      "{'LLM binded with tools': {'messages': [AIMessage(content=\"Hi Suman! It's great to meet you. Cricket is a fantastic sport. Do you have a favorite team or player? Or maybe you like playing cricket yourself?\", additional_kwargs={'refusal': None}, response_metadata={'token_usage': {'completion_tokens': 34, 'prompt_tokens': 350, 'total_tokens': 384, 'completion_tokens_details': {'accepted_prediction_tokens': 0, 'audio_tokens': 0, 'reasoning_tokens': 0, 'rejected_prediction_tokens': 0}, 'prompt_tokens_details': {'audio_tokens': 0, 'cached_tokens': 0}}, 'model_name': 'gpt-4.1-mini-2025-04-14', 'system_fingerprint': 'fp_c064fdde7c', 'id': 'chatcmpl-CPImwVhwVY5TTAktfrOn1qbeBQUm7', 'service_tier': 'default', 'finish_reason': 'stop', 'logprobs': None}, id='run--fa09b973-7c37-4352-8de5-8b904e1f00a1-0', usage_metadata={'input_tokens': 350, 'output_tokens': 34, 'total_tokens': 384, 'input_token_details': {'audio': 0, 'cache_read': 0}, 'output_token_details': {'audio': 0, 'reasoning': 0}})]}}\n"
     ]
    }
   ],
   "source": [
    "# using updates method : only the recent values are reflected\n",
    "# Create a thread\n",
    "config = {\"configurable\": {\"thread_id\": \"3\"}}\n",
    "\n",
    "chunks = app2.stream({'messages':\"Hi,My name is Suman And I like cricket\"},config,stream_mode=\"updates\")\n",
    "for chunk in chunks:\n",
    "    print(chunk)"
   ]
  },
  {
   "cell_type": "code",
   "execution_count": 38,
   "id": "ab242baa",
   "metadata": {},
   "outputs": [
    {
     "name": "stdout",
     "output_type": "stream",
     "text": [
      "{'LLM binded with tools': {'messages': [AIMessage(content=\"That's awesome, Suman! Movies are a great way to relax and enjoy some storytelling. What kind of movies do you like? Any favorite genres or films?\", additional_kwargs={'refusal': None}, response_metadata={'token_usage': {'completion_tokens': 33, 'prompt_tokens': 398, 'total_tokens': 431, 'completion_tokens_details': {'accepted_prediction_tokens': 0, 'audio_tokens': 0, 'reasoning_tokens': 0, 'rejected_prediction_tokens': 0}, 'prompt_tokens_details': {'audio_tokens': 0, 'cached_tokens': 0}}, 'model_name': 'gpt-4.1-mini-2025-04-14', 'system_fingerprint': 'fp_c064fdde7c', 'id': 'chatcmpl-CPInHxu7ojoyNkeEQRdiye6jNKsSA', 'service_tier': 'default', 'finish_reason': 'stop', 'logprobs': None}, id='run--70ee1646-628a-4f05-9272-a73238692f6f-0', usage_metadata={'input_tokens': 398, 'output_tokens': 33, 'total_tokens': 431, 'input_token_details': {'audio': 0, 'cache_read': 0}, 'output_token_details': {'audio': 0, 'reasoning': 0}})]}}\n"
     ]
    }
   ],
   "source": [
    "config = {\"configurable\": {\"thread_id\": \"3\"}}\n",
    "\n",
    "chunks = app2.stream({'messages':\"Ohh  I like movies too\"},config,stream_mode=\"updates\")\n",
    "for chunk in chunks:\n",
    "    print(chunk)"
   ]
  },
  {
   "cell_type": "markdown",
   "id": "cef127bd",
   "metadata": {},
   "source": [
    "## astream events "
   ]
  },
  {
   "cell_type": "code",
   "execution_count": 39,
   "id": "5e90cce7",
   "metadata": {},
   "outputs": [
    {
     "name": "stdout",
     "output_type": "stream",
     "text": [
      "{'event': 'on_chain_start', 'data': {'input': {'messages': ['HI How are you doing?']}}, 'name': 'LangGraph', 'tags': [], 'run_id': '6afde17d-582c-4300-8acd-a3af9d5607b6', 'metadata': {'thread_id': '3'}, 'parent_ids': []}\n",
      "{'event': 'on_chain_start', 'data': {'input': {'messages': [HumanMessage(content='Hi,My name is Suman And I like cricket', additional_kwargs={}, response_metadata={}, id='dd9b3c1b-59c7-491d-be25-2fb5a5123318'), AIMessage(content=\"Hi Suman! It's great to meet you. Cricket is a fantastic sport. Do you have a favorite team or player? Or maybe you like playing cricket yourself?\", additional_kwargs={'refusal': None}, response_metadata={'token_usage': {'completion_tokens': 34, 'prompt_tokens': 350, 'total_tokens': 384, 'completion_tokens_details': {'accepted_prediction_tokens': 0, 'audio_tokens': 0, 'reasoning_tokens': 0, 'rejected_prediction_tokens': 0}, 'prompt_tokens_details': {'audio_tokens': 0, 'cached_tokens': 0}}, 'model_name': 'gpt-4.1-mini-2025-04-14', 'system_fingerprint': 'fp_c064fdde7c', 'id': 'chatcmpl-CPImwVhwVY5TTAktfrOn1qbeBQUm7', 'service_tier': 'default', 'finish_reason': 'stop', 'logprobs': None}, id='run--fa09b973-7c37-4352-8de5-8b904e1f00a1-0', usage_metadata={'input_tokens': 350, 'output_tokens': 34, 'total_tokens': 384, 'input_token_details': {'audio': 0, 'cache_read': 0}, 'output_token_details': {'audio': 0, 'reasoning': 0}}), HumanMessage(content='Ohh  I like movies too', additional_kwargs={}, response_metadata={}, id='566c6612-54c5-4ad3-acef-0a7366aa5fbc'), AIMessage(content=\"That's awesome, Suman! Movies are a great way to relax and enjoy some storytelling. What kind of movies do you like? Any favorite genres or films?\", additional_kwargs={'refusal': None}, response_metadata={'token_usage': {'completion_tokens': 33, 'prompt_tokens': 398, 'total_tokens': 431, 'completion_tokens_details': {'accepted_prediction_tokens': 0, 'audio_tokens': 0, 'reasoning_tokens': 0, 'rejected_prediction_tokens': 0}, 'prompt_tokens_details': {'audio_tokens': 0, 'cached_tokens': 0}}, 'model_name': 'gpt-4.1-mini-2025-04-14', 'system_fingerprint': 'fp_c064fdde7c', 'id': 'chatcmpl-CPInHxu7ojoyNkeEQRdiye6jNKsSA', 'service_tier': 'default', 'finish_reason': 'stop', 'logprobs': None}, id='run--70ee1646-628a-4f05-9272-a73238692f6f-0', usage_metadata={'input_tokens': 398, 'output_tokens': 33, 'total_tokens': 431, 'input_token_details': {'audio': 0, 'cache_read': 0}, 'output_token_details': {'audio': 0, 'reasoning': 0}}), HumanMessage(content='HI How are you doing?', additional_kwargs={}, response_metadata={}, id='d0c0d9e6-301c-4cdd-be74-d3af4bb02066')]}}, 'name': 'LLM binded with tools', 'tags': ['graph:step:7'], 'run_id': 'aaf85f4e-9fdc-4b56-a3a8-93a95057f61d', 'metadata': {'thread_id': '3', 'langgraph_step': 7, 'langgraph_node': 'LLM binded with tools', 'langgraph_triggers': ('branch:to:LLM binded with tools',), 'langgraph_path': ('__pregel_pull', 'LLM binded with tools'), 'langgraph_checkpoint_ns': 'LLM binded with tools:7199504e-3c69-7289-d808-2745aa036300'}, 'parent_ids': ['6afde17d-582c-4300-8acd-a3af9d5607b6']}\n",
      "{'event': 'on_chat_model_start', 'data': {'input': {'messages': [[HumanMessage(content='Hi,My name is Suman And I like cricket', additional_kwargs={}, response_metadata={}, id='dd9b3c1b-59c7-491d-be25-2fb5a5123318'), AIMessage(content=\"Hi Suman! It's great to meet you. Cricket is a fantastic sport. Do you have a favorite team or player? Or maybe you like playing cricket yourself?\", additional_kwargs={'refusal': None}, response_metadata={'token_usage': {'completion_tokens': 34, 'prompt_tokens': 350, 'total_tokens': 384, 'completion_tokens_details': {'accepted_prediction_tokens': 0, 'audio_tokens': 0, 'reasoning_tokens': 0, 'rejected_prediction_tokens': 0}, 'prompt_tokens_details': {'audio_tokens': 0, 'cached_tokens': 0}}, 'model_name': 'gpt-4.1-mini-2025-04-14', 'system_fingerprint': 'fp_c064fdde7c', 'id': 'chatcmpl-CPImwVhwVY5TTAktfrOn1qbeBQUm7', 'service_tier': 'default', 'finish_reason': 'stop', 'logprobs': None}, id='run--fa09b973-7c37-4352-8de5-8b904e1f00a1-0', usage_metadata={'input_tokens': 350, 'output_tokens': 34, 'total_tokens': 384, 'input_token_details': {'audio': 0, 'cache_read': 0}, 'output_token_details': {'audio': 0, 'reasoning': 0}}), HumanMessage(content='Ohh  I like movies too', additional_kwargs={}, response_metadata={}, id='566c6612-54c5-4ad3-acef-0a7366aa5fbc'), AIMessage(content=\"That's awesome, Suman! Movies are a great way to relax and enjoy some storytelling. What kind of movies do you like? Any favorite genres or films?\", additional_kwargs={'refusal': None}, response_metadata={'token_usage': {'completion_tokens': 33, 'prompt_tokens': 398, 'total_tokens': 431, 'completion_tokens_details': {'accepted_prediction_tokens': 0, 'audio_tokens': 0, 'reasoning_tokens': 0, 'rejected_prediction_tokens': 0}, 'prompt_tokens_details': {'audio_tokens': 0, 'cached_tokens': 0}}, 'model_name': 'gpt-4.1-mini-2025-04-14', 'system_fingerprint': 'fp_c064fdde7c', 'id': 'chatcmpl-CPInHxu7ojoyNkeEQRdiye6jNKsSA', 'service_tier': 'default', 'finish_reason': 'stop', 'logprobs': None}, id='run--70ee1646-628a-4f05-9272-a73238692f6f-0', usage_metadata={'input_tokens': 398, 'output_tokens': 33, 'total_tokens': 431, 'input_token_details': {'audio': 0, 'cache_read': 0}, 'output_token_details': {'audio': 0, 'reasoning': 0}}), HumanMessage(content='HI How are you doing?', additional_kwargs={}, response_metadata={}, id='d0c0d9e6-301c-4cdd-be74-d3af4bb02066')]]}}, 'name': 'ChatOpenAI', 'tags': ['seq:step:1'], 'run_id': 'a07e0085-11b4-45c4-8bbd-42744bddebab', 'metadata': {'thread_id': '3', 'langgraph_step': 7, 'langgraph_node': 'LLM binded with tools', 'langgraph_triggers': ('branch:to:LLM binded with tools',), 'langgraph_path': ('__pregel_pull', 'LLM binded with tools'), 'langgraph_checkpoint_ns': 'LLM binded with tools:7199504e-3c69-7289-d808-2745aa036300', 'checkpoint_ns': 'LLM binded with tools:7199504e-3c69-7289-d808-2745aa036300', 'ls_provider': 'openai', 'ls_model_name': 'gpt-4.1-mini', 'ls_model_type': 'chat', 'ls_temperature': 0.0}, 'parent_ids': ['6afde17d-582c-4300-8acd-a3af9d5607b6', 'aaf85f4e-9fdc-4b56-a3a8-93a95057f61d']}\n",
      "{'event': 'on_chat_model_stream', 'data': {'chunk': AIMessageChunk(content='', additional_kwargs={}, response_metadata={}, id='run--a07e0085-11b4-45c4-8bbd-42744bddebab')}, 'run_id': 'a07e0085-11b4-45c4-8bbd-42744bddebab', 'name': 'ChatOpenAI', 'tags': ['seq:step:1'], 'metadata': {'thread_id': '3', 'langgraph_step': 7, 'langgraph_node': 'LLM binded with tools', 'langgraph_triggers': ('branch:to:LLM binded with tools',), 'langgraph_path': ('__pregel_pull', 'LLM binded with tools'), 'langgraph_checkpoint_ns': 'LLM binded with tools:7199504e-3c69-7289-d808-2745aa036300', 'checkpoint_ns': 'LLM binded with tools:7199504e-3c69-7289-d808-2745aa036300', 'ls_provider': 'openai', 'ls_model_name': 'gpt-4.1-mini', 'ls_model_type': 'chat', 'ls_temperature': 0.0}, 'parent_ids': ['6afde17d-582c-4300-8acd-a3af9d5607b6', 'aaf85f4e-9fdc-4b56-a3a8-93a95057f61d']}\n",
      "{'event': 'on_chat_model_stream', 'data': {'chunk': AIMessageChunk(content='Hi', additional_kwargs={}, response_metadata={}, id='run--a07e0085-11b4-45c4-8bbd-42744bddebab')}, 'run_id': 'a07e0085-11b4-45c4-8bbd-42744bddebab', 'name': 'ChatOpenAI', 'tags': ['seq:step:1'], 'metadata': {'thread_id': '3', 'langgraph_step': 7, 'langgraph_node': 'LLM binded with tools', 'langgraph_triggers': ('branch:to:LLM binded with tools',), 'langgraph_path': ('__pregel_pull', 'LLM binded with tools'), 'langgraph_checkpoint_ns': 'LLM binded with tools:7199504e-3c69-7289-d808-2745aa036300', 'checkpoint_ns': 'LLM binded with tools:7199504e-3c69-7289-d808-2745aa036300', 'ls_provider': 'openai', 'ls_model_name': 'gpt-4.1-mini', 'ls_model_type': 'chat', 'ls_temperature': 0.0}, 'parent_ids': ['6afde17d-582c-4300-8acd-a3af9d5607b6', 'aaf85f4e-9fdc-4b56-a3a8-93a95057f61d']}\n",
      "{'event': 'on_chat_model_stream', 'data': {'chunk': AIMessageChunk(content=' S', additional_kwargs={}, response_metadata={}, id='run--a07e0085-11b4-45c4-8bbd-42744bddebab')}, 'run_id': 'a07e0085-11b4-45c4-8bbd-42744bddebab', 'name': 'ChatOpenAI', 'tags': ['seq:step:1'], 'metadata': {'thread_id': '3', 'langgraph_step': 7, 'langgraph_node': 'LLM binded with tools', 'langgraph_triggers': ('branch:to:LLM binded with tools',), 'langgraph_path': ('__pregel_pull', 'LLM binded with tools'), 'langgraph_checkpoint_ns': 'LLM binded with tools:7199504e-3c69-7289-d808-2745aa036300', 'checkpoint_ns': 'LLM binded with tools:7199504e-3c69-7289-d808-2745aa036300', 'ls_provider': 'openai', 'ls_model_name': 'gpt-4.1-mini', 'ls_model_type': 'chat', 'ls_temperature': 0.0}, 'parent_ids': ['6afde17d-582c-4300-8acd-a3af9d5607b6', 'aaf85f4e-9fdc-4b56-a3a8-93a95057f61d']}\n",
      "{'event': 'on_chat_model_stream', 'data': {'chunk': AIMessageChunk(content='uman', additional_kwargs={}, response_metadata={}, id='run--a07e0085-11b4-45c4-8bbd-42744bddebab')}, 'run_id': 'a07e0085-11b4-45c4-8bbd-42744bddebab', 'name': 'ChatOpenAI', 'tags': ['seq:step:1'], 'metadata': {'thread_id': '3', 'langgraph_step': 7, 'langgraph_node': 'LLM binded with tools', 'langgraph_triggers': ('branch:to:LLM binded with tools',), 'langgraph_path': ('__pregel_pull', 'LLM binded with tools'), 'langgraph_checkpoint_ns': 'LLM binded with tools:7199504e-3c69-7289-d808-2745aa036300', 'checkpoint_ns': 'LLM binded with tools:7199504e-3c69-7289-d808-2745aa036300', 'ls_provider': 'openai', 'ls_model_name': 'gpt-4.1-mini', 'ls_model_type': 'chat', 'ls_temperature': 0.0}, 'parent_ids': ['6afde17d-582c-4300-8acd-a3af9d5607b6', 'aaf85f4e-9fdc-4b56-a3a8-93a95057f61d']}\n",
      "{'event': 'on_chat_model_stream', 'data': {'chunk': AIMessageChunk(content='!', additional_kwargs={}, response_metadata={}, id='run--a07e0085-11b4-45c4-8bbd-42744bddebab')}, 'run_id': 'a07e0085-11b4-45c4-8bbd-42744bddebab', 'name': 'ChatOpenAI', 'tags': ['seq:step:1'], 'metadata': {'thread_id': '3', 'langgraph_step': 7, 'langgraph_node': 'LLM binded with tools', 'langgraph_triggers': ('branch:to:LLM binded with tools',), 'langgraph_path': ('__pregel_pull', 'LLM binded with tools'), 'langgraph_checkpoint_ns': 'LLM binded with tools:7199504e-3c69-7289-d808-2745aa036300', 'checkpoint_ns': 'LLM binded with tools:7199504e-3c69-7289-d808-2745aa036300', 'ls_provider': 'openai', 'ls_model_name': 'gpt-4.1-mini', 'ls_model_type': 'chat', 'ls_temperature': 0.0}, 'parent_ids': ['6afde17d-582c-4300-8acd-a3af9d5607b6', 'aaf85f4e-9fdc-4b56-a3a8-93a95057f61d']}\n",
      "{'event': 'on_chat_model_stream', 'data': {'chunk': AIMessageChunk(content=\" I'm\", additional_kwargs={}, response_metadata={}, id='run--a07e0085-11b4-45c4-8bbd-42744bddebab')}, 'run_id': 'a07e0085-11b4-45c4-8bbd-42744bddebab', 'name': 'ChatOpenAI', 'tags': ['seq:step:1'], 'metadata': {'thread_id': '3', 'langgraph_step': 7, 'langgraph_node': 'LLM binded with tools', 'langgraph_triggers': ('branch:to:LLM binded with tools',), 'langgraph_path': ('__pregel_pull', 'LLM binded with tools'), 'langgraph_checkpoint_ns': 'LLM binded with tools:7199504e-3c69-7289-d808-2745aa036300', 'checkpoint_ns': 'LLM binded with tools:7199504e-3c69-7289-d808-2745aa036300', 'ls_provider': 'openai', 'ls_model_name': 'gpt-4.1-mini', 'ls_model_type': 'chat', 'ls_temperature': 0.0}, 'parent_ids': ['6afde17d-582c-4300-8acd-a3af9d5607b6', 'aaf85f4e-9fdc-4b56-a3a8-93a95057f61d']}\n",
      "{'event': 'on_chat_model_stream', 'data': {'chunk': AIMessageChunk(content=' just', additional_kwargs={}, response_metadata={}, id='run--a07e0085-11b4-45c4-8bbd-42744bddebab')}, 'run_id': 'a07e0085-11b4-45c4-8bbd-42744bddebab', 'name': 'ChatOpenAI', 'tags': ['seq:step:1'], 'metadata': {'thread_id': '3', 'langgraph_step': 7, 'langgraph_node': 'LLM binded with tools', 'langgraph_triggers': ('branch:to:LLM binded with tools',), 'langgraph_path': ('__pregel_pull', 'LLM binded with tools'), 'langgraph_checkpoint_ns': 'LLM binded with tools:7199504e-3c69-7289-d808-2745aa036300', 'checkpoint_ns': 'LLM binded with tools:7199504e-3c69-7289-d808-2745aa036300', 'ls_provider': 'openai', 'ls_model_name': 'gpt-4.1-mini', 'ls_model_type': 'chat', 'ls_temperature': 0.0}, 'parent_ids': ['6afde17d-582c-4300-8acd-a3af9d5607b6', 'aaf85f4e-9fdc-4b56-a3a8-93a95057f61d']}\n",
      "{'event': 'on_chat_model_stream', 'data': {'chunk': AIMessageChunk(content=' a', additional_kwargs={}, response_metadata={}, id='run--a07e0085-11b4-45c4-8bbd-42744bddebab')}, 'run_id': 'a07e0085-11b4-45c4-8bbd-42744bddebab', 'name': 'ChatOpenAI', 'tags': ['seq:step:1'], 'metadata': {'thread_id': '3', 'langgraph_step': 7, 'langgraph_node': 'LLM binded with tools', 'langgraph_triggers': ('branch:to:LLM binded with tools',), 'langgraph_path': ('__pregel_pull', 'LLM binded with tools'), 'langgraph_checkpoint_ns': 'LLM binded with tools:7199504e-3c69-7289-d808-2745aa036300', 'checkpoint_ns': 'LLM binded with tools:7199504e-3c69-7289-d808-2745aa036300', 'ls_provider': 'openai', 'ls_model_name': 'gpt-4.1-mini', 'ls_model_type': 'chat', 'ls_temperature': 0.0}, 'parent_ids': ['6afde17d-582c-4300-8acd-a3af9d5607b6', 'aaf85f4e-9fdc-4b56-a3a8-93a95057f61d']}\n",
      "{'event': 'on_chat_model_stream', 'data': {'chunk': AIMessageChunk(content=' virtual', additional_kwargs={}, response_metadata={}, id='run--a07e0085-11b4-45c4-8bbd-42744bddebab')}, 'run_id': 'a07e0085-11b4-45c4-8bbd-42744bddebab', 'name': 'ChatOpenAI', 'tags': ['seq:step:1'], 'metadata': {'thread_id': '3', 'langgraph_step': 7, 'langgraph_node': 'LLM binded with tools', 'langgraph_triggers': ('branch:to:LLM binded with tools',), 'langgraph_path': ('__pregel_pull', 'LLM binded with tools'), 'langgraph_checkpoint_ns': 'LLM binded with tools:7199504e-3c69-7289-d808-2745aa036300', 'checkpoint_ns': 'LLM binded with tools:7199504e-3c69-7289-d808-2745aa036300', 'ls_provider': 'openai', 'ls_model_name': 'gpt-4.1-mini', 'ls_model_type': 'chat', 'ls_temperature': 0.0}, 'parent_ids': ['6afde17d-582c-4300-8acd-a3af9d5607b6', 'aaf85f4e-9fdc-4b56-a3a8-93a95057f61d']}\n",
      "{'event': 'on_chat_model_stream', 'data': {'chunk': AIMessageChunk(content=' assistant', additional_kwargs={}, response_metadata={}, id='run--a07e0085-11b4-45c4-8bbd-42744bddebab')}, 'run_id': 'a07e0085-11b4-45c4-8bbd-42744bddebab', 'name': 'ChatOpenAI', 'tags': ['seq:step:1'], 'metadata': {'thread_id': '3', 'langgraph_step': 7, 'langgraph_node': 'LLM binded with tools', 'langgraph_triggers': ('branch:to:LLM binded with tools',), 'langgraph_path': ('__pregel_pull', 'LLM binded with tools'), 'langgraph_checkpoint_ns': 'LLM binded with tools:7199504e-3c69-7289-d808-2745aa036300', 'checkpoint_ns': 'LLM binded with tools:7199504e-3c69-7289-d808-2745aa036300', 'ls_provider': 'openai', 'ls_model_name': 'gpt-4.1-mini', 'ls_model_type': 'chat', 'ls_temperature': 0.0}, 'parent_ids': ['6afde17d-582c-4300-8acd-a3af9d5607b6', 'aaf85f4e-9fdc-4b56-a3a8-93a95057f61d']}\n",
      "{'event': 'on_chat_model_stream', 'data': {'chunk': AIMessageChunk(content=',', additional_kwargs={}, response_metadata={}, id='run--a07e0085-11b4-45c4-8bbd-42744bddebab')}, 'run_id': 'a07e0085-11b4-45c4-8bbd-42744bddebab', 'name': 'ChatOpenAI', 'tags': ['seq:step:1'], 'metadata': {'thread_id': '3', 'langgraph_step': 7, 'langgraph_node': 'LLM binded with tools', 'langgraph_triggers': ('branch:to:LLM binded with tools',), 'langgraph_path': ('__pregel_pull', 'LLM binded with tools'), 'langgraph_checkpoint_ns': 'LLM binded with tools:7199504e-3c69-7289-d808-2745aa036300', 'checkpoint_ns': 'LLM binded with tools:7199504e-3c69-7289-d808-2745aa036300', 'ls_provider': 'openai', 'ls_model_name': 'gpt-4.1-mini', 'ls_model_type': 'chat', 'ls_temperature': 0.0}, 'parent_ids': ['6afde17d-582c-4300-8acd-a3af9d5607b6', 'aaf85f4e-9fdc-4b56-a3a8-93a95057f61d']}\n",
      "{'event': 'on_chat_model_stream', 'data': {'chunk': AIMessageChunk(content=' so', additional_kwargs={}, response_metadata={}, id='run--a07e0085-11b4-45c4-8bbd-42744bddebab')}, 'run_id': 'a07e0085-11b4-45c4-8bbd-42744bddebab', 'name': 'ChatOpenAI', 'tags': ['seq:step:1'], 'metadata': {'thread_id': '3', 'langgraph_step': 7, 'langgraph_node': 'LLM binded with tools', 'langgraph_triggers': ('branch:to:LLM binded with tools',), 'langgraph_path': ('__pregel_pull', 'LLM binded with tools'), 'langgraph_checkpoint_ns': 'LLM binded with tools:7199504e-3c69-7289-d808-2745aa036300', 'checkpoint_ns': 'LLM binded with tools:7199504e-3c69-7289-d808-2745aa036300', 'ls_provider': 'openai', 'ls_model_name': 'gpt-4.1-mini', 'ls_model_type': 'chat', 'ls_temperature': 0.0}, 'parent_ids': ['6afde17d-582c-4300-8acd-a3af9d5607b6', 'aaf85f4e-9fdc-4b56-a3a8-93a95057f61d']}\n",
      "{'event': 'on_chat_model_stream', 'data': {'chunk': AIMessageChunk(content=' I', additional_kwargs={}, response_metadata={}, id='run--a07e0085-11b4-45c4-8bbd-42744bddebab')}, 'run_id': 'a07e0085-11b4-45c4-8bbd-42744bddebab', 'name': 'ChatOpenAI', 'tags': ['seq:step:1'], 'metadata': {'thread_id': '3', 'langgraph_step': 7, 'langgraph_node': 'LLM binded with tools', 'langgraph_triggers': ('branch:to:LLM binded with tools',), 'langgraph_path': ('__pregel_pull', 'LLM binded with tools'), 'langgraph_checkpoint_ns': 'LLM binded with tools:7199504e-3c69-7289-d808-2745aa036300', 'checkpoint_ns': 'LLM binded with tools:7199504e-3c69-7289-d808-2745aa036300', 'ls_provider': 'openai', 'ls_model_name': 'gpt-4.1-mini', 'ls_model_type': 'chat', 'ls_temperature': 0.0}, 'parent_ids': ['6afde17d-582c-4300-8acd-a3af9d5607b6', 'aaf85f4e-9fdc-4b56-a3a8-93a95057f61d']}\n",
      "{'event': 'on_chat_model_stream', 'data': {'chunk': AIMessageChunk(content=\" don't\", additional_kwargs={}, response_metadata={}, id='run--a07e0085-11b4-45c4-8bbd-42744bddebab')}, 'run_id': 'a07e0085-11b4-45c4-8bbd-42744bddebab', 'name': 'ChatOpenAI', 'tags': ['seq:step:1'], 'metadata': {'thread_id': '3', 'langgraph_step': 7, 'langgraph_node': 'LLM binded with tools', 'langgraph_triggers': ('branch:to:LLM binded with tools',), 'langgraph_path': ('__pregel_pull', 'LLM binded with tools'), 'langgraph_checkpoint_ns': 'LLM binded with tools:7199504e-3c69-7289-d808-2745aa036300', 'checkpoint_ns': 'LLM binded with tools:7199504e-3c69-7289-d808-2745aa036300', 'ls_provider': 'openai', 'ls_model_name': 'gpt-4.1-mini', 'ls_model_type': 'chat', 'ls_temperature': 0.0}, 'parent_ids': ['6afde17d-582c-4300-8acd-a3af9d5607b6', 'aaf85f4e-9fdc-4b56-a3a8-93a95057f61d']}\n",
      "{'event': 'on_chat_model_stream', 'data': {'chunk': AIMessageChunk(content=' have', additional_kwargs={}, response_metadata={}, id='run--a07e0085-11b4-45c4-8bbd-42744bddebab')}, 'run_id': 'a07e0085-11b4-45c4-8bbd-42744bddebab', 'name': 'ChatOpenAI', 'tags': ['seq:step:1'], 'metadata': {'thread_id': '3', 'langgraph_step': 7, 'langgraph_node': 'LLM binded with tools', 'langgraph_triggers': ('branch:to:LLM binded with tools',), 'langgraph_path': ('__pregel_pull', 'LLM binded with tools'), 'langgraph_checkpoint_ns': 'LLM binded with tools:7199504e-3c69-7289-d808-2745aa036300', 'checkpoint_ns': 'LLM binded with tools:7199504e-3c69-7289-d808-2745aa036300', 'ls_provider': 'openai', 'ls_model_name': 'gpt-4.1-mini', 'ls_model_type': 'chat', 'ls_temperature': 0.0}, 'parent_ids': ['6afde17d-582c-4300-8acd-a3af9d5607b6', 'aaf85f4e-9fdc-4b56-a3a8-93a95057f61d']}\n",
      "{'event': 'on_chat_model_stream', 'data': {'chunk': AIMessageChunk(content=' feelings', additional_kwargs={}, response_metadata={}, id='run--a07e0085-11b4-45c4-8bbd-42744bddebab')}, 'run_id': 'a07e0085-11b4-45c4-8bbd-42744bddebab', 'name': 'ChatOpenAI', 'tags': ['seq:step:1'], 'metadata': {'thread_id': '3', 'langgraph_step': 7, 'langgraph_node': 'LLM binded with tools', 'langgraph_triggers': ('branch:to:LLM binded with tools',), 'langgraph_path': ('__pregel_pull', 'LLM binded with tools'), 'langgraph_checkpoint_ns': 'LLM binded with tools:7199504e-3c69-7289-d808-2745aa036300', 'checkpoint_ns': 'LLM binded with tools:7199504e-3c69-7289-d808-2745aa036300', 'ls_provider': 'openai', 'ls_model_name': 'gpt-4.1-mini', 'ls_model_type': 'chat', 'ls_temperature': 0.0}, 'parent_ids': ['6afde17d-582c-4300-8acd-a3af9d5607b6', 'aaf85f4e-9fdc-4b56-a3a8-93a95057f61d']}\n",
      "{'event': 'on_chat_model_stream', 'data': {'chunk': AIMessageChunk(content=',', additional_kwargs={}, response_metadata={}, id='run--a07e0085-11b4-45c4-8bbd-42744bddebab')}, 'run_id': 'a07e0085-11b4-45c4-8bbd-42744bddebab', 'name': 'ChatOpenAI', 'tags': ['seq:step:1'], 'metadata': {'thread_id': '3', 'langgraph_step': 7, 'langgraph_node': 'LLM binded with tools', 'langgraph_triggers': ('branch:to:LLM binded with tools',), 'langgraph_path': ('__pregel_pull', 'LLM binded with tools'), 'langgraph_checkpoint_ns': 'LLM binded with tools:7199504e-3c69-7289-d808-2745aa036300', 'checkpoint_ns': 'LLM binded with tools:7199504e-3c69-7289-d808-2745aa036300', 'ls_provider': 'openai', 'ls_model_name': 'gpt-4.1-mini', 'ls_model_type': 'chat', 'ls_temperature': 0.0}, 'parent_ids': ['6afde17d-582c-4300-8acd-a3af9d5607b6', 'aaf85f4e-9fdc-4b56-a3a8-93a95057f61d']}\n",
      "{'event': 'on_chat_model_stream', 'data': {'chunk': AIMessageChunk(content=' but', additional_kwargs={}, response_metadata={}, id='run--a07e0085-11b4-45c4-8bbd-42744bddebab')}, 'run_id': 'a07e0085-11b4-45c4-8bbd-42744bddebab', 'name': 'ChatOpenAI', 'tags': ['seq:step:1'], 'metadata': {'thread_id': '3', 'langgraph_step': 7, 'langgraph_node': 'LLM binded with tools', 'langgraph_triggers': ('branch:to:LLM binded with tools',), 'langgraph_path': ('__pregel_pull', 'LLM binded with tools'), 'langgraph_checkpoint_ns': 'LLM binded with tools:7199504e-3c69-7289-d808-2745aa036300', 'checkpoint_ns': 'LLM binded with tools:7199504e-3c69-7289-d808-2745aa036300', 'ls_provider': 'openai', 'ls_model_name': 'gpt-4.1-mini', 'ls_model_type': 'chat', 'ls_temperature': 0.0}, 'parent_ids': ['6afde17d-582c-4300-8acd-a3af9d5607b6', 'aaf85f4e-9fdc-4b56-a3a8-93a95057f61d']}\n",
      "{'event': 'on_chat_model_stream', 'data': {'chunk': AIMessageChunk(content=\" I'm\", additional_kwargs={}, response_metadata={}, id='run--a07e0085-11b4-45c4-8bbd-42744bddebab')}, 'run_id': 'a07e0085-11b4-45c4-8bbd-42744bddebab', 'name': 'ChatOpenAI', 'tags': ['seq:step:1'], 'metadata': {'thread_id': '3', 'langgraph_step': 7, 'langgraph_node': 'LLM binded with tools', 'langgraph_triggers': ('branch:to:LLM binded with tools',), 'langgraph_path': ('__pregel_pull', 'LLM binded with tools'), 'langgraph_checkpoint_ns': 'LLM binded with tools:7199504e-3c69-7289-d808-2745aa036300', 'checkpoint_ns': 'LLM binded with tools:7199504e-3c69-7289-d808-2745aa036300', 'ls_provider': 'openai', 'ls_model_name': 'gpt-4.1-mini', 'ls_model_type': 'chat', 'ls_temperature': 0.0}, 'parent_ids': ['6afde17d-582c-4300-8acd-a3af9d5607b6', 'aaf85f4e-9fdc-4b56-a3a8-93a95057f61d']}\n",
      "{'event': 'on_chat_model_stream', 'data': {'chunk': AIMessageChunk(content=' here', additional_kwargs={}, response_metadata={}, id='run--a07e0085-11b4-45c4-8bbd-42744bddebab')}, 'run_id': 'a07e0085-11b4-45c4-8bbd-42744bddebab', 'name': 'ChatOpenAI', 'tags': ['seq:step:1'], 'metadata': {'thread_id': '3', 'langgraph_step': 7, 'langgraph_node': 'LLM binded with tools', 'langgraph_triggers': ('branch:to:LLM binded with tools',), 'langgraph_path': ('__pregel_pull', 'LLM binded with tools'), 'langgraph_checkpoint_ns': 'LLM binded with tools:7199504e-3c69-7289-d808-2745aa036300', 'checkpoint_ns': 'LLM binded with tools:7199504e-3c69-7289-d808-2745aa036300', 'ls_provider': 'openai', 'ls_model_name': 'gpt-4.1-mini', 'ls_model_type': 'chat', 'ls_temperature': 0.0}, 'parent_ids': ['6afde17d-582c-4300-8acd-a3af9d5607b6', 'aaf85f4e-9fdc-4b56-a3a8-93a95057f61d']}\n",
      "{'event': 'on_chat_model_stream', 'data': {'chunk': AIMessageChunk(content=' and', additional_kwargs={}, response_metadata={}, id='run--a07e0085-11b4-45c4-8bbd-42744bddebab')}, 'run_id': 'a07e0085-11b4-45c4-8bbd-42744bddebab', 'name': 'ChatOpenAI', 'tags': ['seq:step:1'], 'metadata': {'thread_id': '3', 'langgraph_step': 7, 'langgraph_node': 'LLM binded with tools', 'langgraph_triggers': ('branch:to:LLM binded with tools',), 'langgraph_path': ('__pregel_pull', 'LLM binded with tools'), 'langgraph_checkpoint_ns': 'LLM binded with tools:7199504e-3c69-7289-d808-2745aa036300', 'checkpoint_ns': 'LLM binded with tools:7199504e-3c69-7289-d808-2745aa036300', 'ls_provider': 'openai', 'ls_model_name': 'gpt-4.1-mini', 'ls_model_type': 'chat', 'ls_temperature': 0.0}, 'parent_ids': ['6afde17d-582c-4300-8acd-a3af9d5607b6', 'aaf85f4e-9fdc-4b56-a3a8-93a95057f61d']}\n",
      "{'event': 'on_chat_model_stream', 'data': {'chunk': AIMessageChunk(content=' ready', additional_kwargs={}, response_metadata={}, id='run--a07e0085-11b4-45c4-8bbd-42744bddebab')}, 'run_id': 'a07e0085-11b4-45c4-8bbd-42744bddebab', 'name': 'ChatOpenAI', 'tags': ['seq:step:1'], 'metadata': {'thread_id': '3', 'langgraph_step': 7, 'langgraph_node': 'LLM binded with tools', 'langgraph_triggers': ('branch:to:LLM binded with tools',), 'langgraph_path': ('__pregel_pull', 'LLM binded with tools'), 'langgraph_checkpoint_ns': 'LLM binded with tools:7199504e-3c69-7289-d808-2745aa036300', 'checkpoint_ns': 'LLM binded with tools:7199504e-3c69-7289-d808-2745aa036300', 'ls_provider': 'openai', 'ls_model_name': 'gpt-4.1-mini', 'ls_model_type': 'chat', 'ls_temperature': 0.0}, 'parent_ids': ['6afde17d-582c-4300-8acd-a3af9d5607b6', 'aaf85f4e-9fdc-4b56-a3a8-93a95057f61d']}\n",
      "{'event': 'on_chat_model_stream', 'data': {'chunk': AIMessageChunk(content=' to', additional_kwargs={}, response_metadata={}, id='run--a07e0085-11b4-45c4-8bbd-42744bddebab')}, 'run_id': 'a07e0085-11b4-45c4-8bbd-42744bddebab', 'name': 'ChatOpenAI', 'tags': ['seq:step:1'], 'metadata': {'thread_id': '3', 'langgraph_step': 7, 'langgraph_node': 'LLM binded with tools', 'langgraph_triggers': ('branch:to:LLM binded with tools',), 'langgraph_path': ('__pregel_pull', 'LLM binded with tools'), 'langgraph_checkpoint_ns': 'LLM binded with tools:7199504e-3c69-7289-d808-2745aa036300', 'checkpoint_ns': 'LLM binded with tools:7199504e-3c69-7289-d808-2745aa036300', 'ls_provider': 'openai', 'ls_model_name': 'gpt-4.1-mini', 'ls_model_type': 'chat', 'ls_temperature': 0.0}, 'parent_ids': ['6afde17d-582c-4300-8acd-a3af9d5607b6', 'aaf85f4e-9fdc-4b56-a3a8-93a95057f61d']}\n",
      "{'event': 'on_chat_model_stream', 'data': {'chunk': AIMessageChunk(content=' help', additional_kwargs={}, response_metadata={}, id='run--a07e0085-11b4-45c4-8bbd-42744bddebab')}, 'run_id': 'a07e0085-11b4-45c4-8bbd-42744bddebab', 'name': 'ChatOpenAI', 'tags': ['seq:step:1'], 'metadata': {'thread_id': '3', 'langgraph_step': 7, 'langgraph_node': 'LLM binded with tools', 'langgraph_triggers': ('branch:to:LLM binded with tools',), 'langgraph_path': ('__pregel_pull', 'LLM binded with tools'), 'langgraph_checkpoint_ns': 'LLM binded with tools:7199504e-3c69-7289-d808-2745aa036300', 'checkpoint_ns': 'LLM binded with tools:7199504e-3c69-7289-d808-2745aa036300', 'ls_provider': 'openai', 'ls_model_name': 'gpt-4.1-mini', 'ls_model_type': 'chat', 'ls_temperature': 0.0}, 'parent_ids': ['6afde17d-582c-4300-8acd-a3af9d5607b6', 'aaf85f4e-9fdc-4b56-a3a8-93a95057f61d']}\n",
      "{'event': 'on_chat_model_stream', 'data': {'chunk': AIMessageChunk(content=' you', additional_kwargs={}, response_metadata={}, id='run--a07e0085-11b4-45c4-8bbd-42744bddebab')}, 'run_id': 'a07e0085-11b4-45c4-8bbd-42744bddebab', 'name': 'ChatOpenAI', 'tags': ['seq:step:1'], 'metadata': {'thread_id': '3', 'langgraph_step': 7, 'langgraph_node': 'LLM binded with tools', 'langgraph_triggers': ('branch:to:LLM binded with tools',), 'langgraph_path': ('__pregel_pull', 'LLM binded with tools'), 'langgraph_checkpoint_ns': 'LLM binded with tools:7199504e-3c69-7289-d808-2745aa036300', 'checkpoint_ns': 'LLM binded with tools:7199504e-3c69-7289-d808-2745aa036300', 'ls_provider': 'openai', 'ls_model_name': 'gpt-4.1-mini', 'ls_model_type': 'chat', 'ls_temperature': 0.0}, 'parent_ids': ['6afde17d-582c-4300-8acd-a3af9d5607b6', 'aaf85f4e-9fdc-4b56-a3a8-93a95057f61d']}\n",
      "{'event': 'on_chat_model_stream', 'data': {'chunk': AIMessageChunk(content='.', additional_kwargs={}, response_metadata={}, id='run--a07e0085-11b4-45c4-8bbd-42744bddebab')}, 'run_id': 'a07e0085-11b4-45c4-8bbd-42744bddebab', 'name': 'ChatOpenAI', 'tags': ['seq:step:1'], 'metadata': {'thread_id': '3', 'langgraph_step': 7, 'langgraph_node': 'LLM binded with tools', 'langgraph_triggers': ('branch:to:LLM binded with tools',), 'langgraph_path': ('__pregel_pull', 'LLM binded with tools'), 'langgraph_checkpoint_ns': 'LLM binded with tools:7199504e-3c69-7289-d808-2745aa036300', 'checkpoint_ns': 'LLM binded with tools:7199504e-3c69-7289-d808-2745aa036300', 'ls_provider': 'openai', 'ls_model_name': 'gpt-4.1-mini', 'ls_model_type': 'chat', 'ls_temperature': 0.0}, 'parent_ids': ['6afde17d-582c-4300-8acd-a3af9d5607b6', 'aaf85f4e-9fdc-4b56-a3a8-93a95057f61d']}\n",
      "{'event': 'on_chat_model_stream', 'data': {'chunk': AIMessageChunk(content=' How', additional_kwargs={}, response_metadata={}, id='run--a07e0085-11b4-45c4-8bbd-42744bddebab')}, 'run_id': 'a07e0085-11b4-45c4-8bbd-42744bddebab', 'name': 'ChatOpenAI', 'tags': ['seq:step:1'], 'metadata': {'thread_id': '3', 'langgraph_step': 7, 'langgraph_node': 'LLM binded with tools', 'langgraph_triggers': ('branch:to:LLM binded with tools',), 'langgraph_path': ('__pregel_pull', 'LLM binded with tools'), 'langgraph_checkpoint_ns': 'LLM binded with tools:7199504e-3c69-7289-d808-2745aa036300', 'checkpoint_ns': 'LLM binded with tools:7199504e-3c69-7289-d808-2745aa036300', 'ls_provider': 'openai', 'ls_model_name': 'gpt-4.1-mini', 'ls_model_type': 'chat', 'ls_temperature': 0.0}, 'parent_ids': ['6afde17d-582c-4300-8acd-a3af9d5607b6', 'aaf85f4e-9fdc-4b56-a3a8-93a95057f61d']}\n",
      "{'event': 'on_chat_model_stream', 'data': {'chunk': AIMessageChunk(content=' are', additional_kwargs={}, response_metadata={}, id='run--a07e0085-11b4-45c4-8bbd-42744bddebab')}, 'run_id': 'a07e0085-11b4-45c4-8bbd-42744bddebab', 'name': 'ChatOpenAI', 'tags': ['seq:step:1'], 'metadata': {'thread_id': '3', 'langgraph_step': 7, 'langgraph_node': 'LLM binded with tools', 'langgraph_triggers': ('branch:to:LLM binded with tools',), 'langgraph_path': ('__pregel_pull', 'LLM binded with tools'), 'langgraph_checkpoint_ns': 'LLM binded with tools:7199504e-3c69-7289-d808-2745aa036300', 'checkpoint_ns': 'LLM binded with tools:7199504e-3c69-7289-d808-2745aa036300', 'ls_provider': 'openai', 'ls_model_name': 'gpt-4.1-mini', 'ls_model_type': 'chat', 'ls_temperature': 0.0}, 'parent_ids': ['6afde17d-582c-4300-8acd-a3af9d5607b6', 'aaf85f4e-9fdc-4b56-a3a8-93a95057f61d']}\n",
      "{'event': 'on_chat_model_stream', 'data': {'chunk': AIMessageChunk(content=' you', additional_kwargs={}, response_metadata={}, id='run--a07e0085-11b4-45c4-8bbd-42744bddebab')}, 'run_id': 'a07e0085-11b4-45c4-8bbd-42744bddebab', 'name': 'ChatOpenAI', 'tags': ['seq:step:1'], 'metadata': {'thread_id': '3', 'langgraph_step': 7, 'langgraph_node': 'LLM binded with tools', 'langgraph_triggers': ('branch:to:LLM binded with tools',), 'langgraph_path': ('__pregel_pull', 'LLM binded with tools'), 'langgraph_checkpoint_ns': 'LLM binded with tools:7199504e-3c69-7289-d808-2745aa036300', 'checkpoint_ns': 'LLM binded with tools:7199504e-3c69-7289-d808-2745aa036300', 'ls_provider': 'openai', 'ls_model_name': 'gpt-4.1-mini', 'ls_model_type': 'chat', 'ls_temperature': 0.0}, 'parent_ids': ['6afde17d-582c-4300-8acd-a3af9d5607b6', 'aaf85f4e-9fdc-4b56-a3a8-93a95057f61d']}\n",
      "{'event': 'on_chat_model_stream', 'data': {'chunk': AIMessageChunk(content=' doing', additional_kwargs={}, response_metadata={}, id='run--a07e0085-11b4-45c4-8bbd-42744bddebab')}, 'run_id': 'a07e0085-11b4-45c4-8bbd-42744bddebab', 'name': 'ChatOpenAI', 'tags': ['seq:step:1'], 'metadata': {'thread_id': '3', 'langgraph_step': 7, 'langgraph_node': 'LLM binded with tools', 'langgraph_triggers': ('branch:to:LLM binded with tools',), 'langgraph_path': ('__pregel_pull', 'LLM binded with tools'), 'langgraph_checkpoint_ns': 'LLM binded with tools:7199504e-3c69-7289-d808-2745aa036300', 'checkpoint_ns': 'LLM binded with tools:7199504e-3c69-7289-d808-2745aa036300', 'ls_provider': 'openai', 'ls_model_name': 'gpt-4.1-mini', 'ls_model_type': 'chat', 'ls_temperature': 0.0}, 'parent_ids': ['6afde17d-582c-4300-8acd-a3af9d5607b6', 'aaf85f4e-9fdc-4b56-a3a8-93a95057f61d']}\n",
      "{'event': 'on_chat_model_stream', 'data': {'chunk': AIMessageChunk(content=' today', additional_kwargs={}, response_metadata={}, id='run--a07e0085-11b4-45c4-8bbd-42744bddebab')}, 'run_id': 'a07e0085-11b4-45c4-8bbd-42744bddebab', 'name': 'ChatOpenAI', 'tags': ['seq:step:1'], 'metadata': {'thread_id': '3', 'langgraph_step': 7, 'langgraph_node': 'LLM binded with tools', 'langgraph_triggers': ('branch:to:LLM binded with tools',), 'langgraph_path': ('__pregel_pull', 'LLM binded with tools'), 'langgraph_checkpoint_ns': 'LLM binded with tools:7199504e-3c69-7289-d808-2745aa036300', 'checkpoint_ns': 'LLM binded with tools:7199504e-3c69-7289-d808-2745aa036300', 'ls_provider': 'openai', 'ls_model_name': 'gpt-4.1-mini', 'ls_model_type': 'chat', 'ls_temperature': 0.0}, 'parent_ids': ['6afde17d-582c-4300-8acd-a3af9d5607b6', 'aaf85f4e-9fdc-4b56-a3a8-93a95057f61d']}\n",
      "{'event': 'on_chat_model_stream', 'data': {'chunk': AIMessageChunk(content='?', additional_kwargs={}, response_metadata={}, id='run--a07e0085-11b4-45c4-8bbd-42744bddebab')}, 'run_id': 'a07e0085-11b4-45c4-8bbd-42744bddebab', 'name': 'ChatOpenAI', 'tags': ['seq:step:1'], 'metadata': {'thread_id': '3', 'langgraph_step': 7, 'langgraph_node': 'LLM binded with tools', 'langgraph_triggers': ('branch:to:LLM binded with tools',), 'langgraph_path': ('__pregel_pull', 'LLM binded with tools'), 'langgraph_checkpoint_ns': 'LLM binded with tools:7199504e-3c69-7289-d808-2745aa036300', 'checkpoint_ns': 'LLM binded with tools:7199504e-3c69-7289-d808-2745aa036300', 'ls_provider': 'openai', 'ls_model_name': 'gpt-4.1-mini', 'ls_model_type': 'chat', 'ls_temperature': 0.0}, 'parent_ids': ['6afde17d-582c-4300-8acd-a3af9d5607b6', 'aaf85f4e-9fdc-4b56-a3a8-93a95057f61d']}\n",
      "{'event': 'on_chat_model_stream', 'data': {'chunk': AIMessageChunk(content='', additional_kwargs={}, response_metadata={'finish_reason': 'stop', 'model_name': 'gpt-4.1-mini-2025-04-14', 'system_fingerprint': 'fp_c064fdde7c', 'service_tier': 'default'}, id='run--a07e0085-11b4-45c4-8bbd-42744bddebab')}, 'run_id': 'a07e0085-11b4-45c4-8bbd-42744bddebab', 'name': 'ChatOpenAI', 'tags': ['seq:step:1'], 'metadata': {'thread_id': '3', 'langgraph_step': 7, 'langgraph_node': 'LLM binded with tools', 'langgraph_triggers': ('branch:to:LLM binded with tools',), 'langgraph_path': ('__pregel_pull', 'LLM binded with tools'), 'langgraph_checkpoint_ns': 'LLM binded with tools:7199504e-3c69-7289-d808-2745aa036300', 'checkpoint_ns': 'LLM binded with tools:7199504e-3c69-7289-d808-2745aa036300', 'ls_provider': 'openai', 'ls_model_name': 'gpt-4.1-mini', 'ls_model_type': 'chat', 'ls_temperature': 0.0}, 'parent_ids': ['6afde17d-582c-4300-8acd-a3af9d5607b6', 'aaf85f4e-9fdc-4b56-a3a8-93a95057f61d']}\n",
      "{'event': 'on_chat_model_stream', 'data': {'chunk': AIMessageChunk(content='', additional_kwargs={}, response_metadata={}, id='run--a07e0085-11b4-45c4-8bbd-42744bddebab', usage_metadata={'input_tokens': 444, 'output_tokens': 32, 'total_tokens': 476, 'input_token_details': {'audio': 0, 'cache_read': 0}, 'output_token_details': {'audio': 0, 'reasoning': 0}})}, 'run_id': 'a07e0085-11b4-45c4-8bbd-42744bddebab', 'name': 'ChatOpenAI', 'tags': ['seq:step:1'], 'metadata': {'thread_id': '3', 'langgraph_step': 7, 'langgraph_node': 'LLM binded with tools', 'langgraph_triggers': ('branch:to:LLM binded with tools',), 'langgraph_path': ('__pregel_pull', 'LLM binded with tools'), 'langgraph_checkpoint_ns': 'LLM binded with tools:7199504e-3c69-7289-d808-2745aa036300', 'checkpoint_ns': 'LLM binded with tools:7199504e-3c69-7289-d808-2745aa036300', 'ls_provider': 'openai', 'ls_model_name': 'gpt-4.1-mini', 'ls_model_type': 'chat', 'ls_temperature': 0.0}, 'parent_ids': ['6afde17d-582c-4300-8acd-a3af9d5607b6', 'aaf85f4e-9fdc-4b56-a3a8-93a95057f61d']}\n",
      "{'event': 'on_chat_model_end', 'data': {'output': AIMessage(content=\"Hi Suman! I'm just a virtual assistant, so I don't have feelings, but I'm here and ready to help you. How are you doing today?\", additional_kwargs={}, response_metadata={'finish_reason': 'stop', 'model_name': 'gpt-4.1-mini-2025-04-14', 'system_fingerprint': 'fp_c064fdde7c', 'service_tier': 'default'}, id='run--a07e0085-11b4-45c4-8bbd-42744bddebab', usage_metadata={'input_tokens': 444, 'output_tokens': 32, 'total_tokens': 476, 'input_token_details': {'audio': 0, 'cache_read': 0}, 'output_token_details': {'audio': 0, 'reasoning': 0}}), 'input': {'messages': [[HumanMessage(content='Hi,My name is Suman And I like cricket', additional_kwargs={}, response_metadata={}, id='dd9b3c1b-59c7-491d-be25-2fb5a5123318'), AIMessage(content=\"Hi Suman! It's great to meet you. Cricket is a fantastic sport. Do you have a favorite team or player? Or maybe you like playing cricket yourself?\", additional_kwargs={'refusal': None}, response_metadata={'token_usage': {'completion_tokens': 34, 'prompt_tokens': 350, 'total_tokens': 384, 'completion_tokens_details': {'accepted_prediction_tokens': 0, 'audio_tokens': 0, 'reasoning_tokens': 0, 'rejected_prediction_tokens': 0}, 'prompt_tokens_details': {'audio_tokens': 0, 'cached_tokens': 0}}, 'model_name': 'gpt-4.1-mini-2025-04-14', 'system_fingerprint': 'fp_c064fdde7c', 'id': 'chatcmpl-CPImwVhwVY5TTAktfrOn1qbeBQUm7', 'service_tier': 'default', 'finish_reason': 'stop', 'logprobs': None}, id='run--fa09b973-7c37-4352-8de5-8b904e1f00a1-0', usage_metadata={'input_tokens': 350, 'output_tokens': 34, 'total_tokens': 384, 'input_token_details': {'audio': 0, 'cache_read': 0}, 'output_token_details': {'audio': 0, 'reasoning': 0}}), HumanMessage(content='Ohh  I like movies too', additional_kwargs={}, response_metadata={}, id='566c6612-54c5-4ad3-acef-0a7366aa5fbc'), AIMessage(content=\"That's awesome, Suman! Movies are a great way to relax and enjoy some storytelling. What kind of movies do you like? Any favorite genres or films?\", additional_kwargs={'refusal': None}, response_metadata={'token_usage': {'completion_tokens': 33, 'prompt_tokens': 398, 'total_tokens': 431, 'completion_tokens_details': {'accepted_prediction_tokens': 0, 'audio_tokens': 0, 'reasoning_tokens': 0, 'rejected_prediction_tokens': 0}, 'prompt_tokens_details': {'audio_tokens': 0, 'cached_tokens': 0}}, 'model_name': 'gpt-4.1-mini-2025-04-14', 'system_fingerprint': 'fp_c064fdde7c', 'id': 'chatcmpl-CPInHxu7ojoyNkeEQRdiye6jNKsSA', 'service_tier': 'default', 'finish_reason': 'stop', 'logprobs': None}, id='run--70ee1646-628a-4f05-9272-a73238692f6f-0', usage_metadata={'input_tokens': 398, 'output_tokens': 33, 'total_tokens': 431, 'input_token_details': {'audio': 0, 'cache_read': 0}, 'output_token_details': {'audio': 0, 'reasoning': 0}}), HumanMessage(content='HI How are you doing?', additional_kwargs={}, response_metadata={}, id='d0c0d9e6-301c-4cdd-be74-d3af4bb02066')]]}}, 'run_id': 'a07e0085-11b4-45c4-8bbd-42744bddebab', 'name': 'ChatOpenAI', 'tags': ['seq:step:1'], 'metadata': {'thread_id': '3', 'langgraph_step': 7, 'langgraph_node': 'LLM binded with tools', 'langgraph_triggers': ('branch:to:LLM binded with tools',), 'langgraph_path': ('__pregel_pull', 'LLM binded with tools'), 'langgraph_checkpoint_ns': 'LLM binded with tools:7199504e-3c69-7289-d808-2745aa036300', 'checkpoint_ns': 'LLM binded with tools:7199504e-3c69-7289-d808-2745aa036300', 'ls_provider': 'openai', 'ls_model_name': 'gpt-4.1-mini', 'ls_model_type': 'chat', 'ls_temperature': 0.0, 'LANGSMITH_PROJECT': 'langraph_tutorials', 'LANGSMITH_ENDPOINT': 'https://api.smith.langchain.com', 'revision_id': '63f7cb0-dirty'}, 'parent_ids': ['6afde17d-582c-4300-8acd-a3af9d5607b6', 'aaf85f4e-9fdc-4b56-a3a8-93a95057f61d']}\n",
      "{'event': 'on_chain_start', 'data': {'input': {'messages': [HumanMessage(content='Hi,My name is Suman And I like cricket', additional_kwargs={}, response_metadata={}, id='dd9b3c1b-59c7-491d-be25-2fb5a5123318'), AIMessage(content=\"Hi Suman! It's great to meet you. Cricket is a fantastic sport. Do you have a favorite team or player? Or maybe you like playing cricket yourself?\", additional_kwargs={'refusal': None}, response_metadata={'token_usage': {'completion_tokens': 34, 'prompt_tokens': 350, 'total_tokens': 384, 'completion_tokens_details': {'accepted_prediction_tokens': 0, 'audio_tokens': 0, 'reasoning_tokens': 0, 'rejected_prediction_tokens': 0}, 'prompt_tokens_details': {'audio_tokens': 0, 'cached_tokens': 0}}, 'model_name': 'gpt-4.1-mini-2025-04-14', 'system_fingerprint': 'fp_c064fdde7c', 'id': 'chatcmpl-CPImwVhwVY5TTAktfrOn1qbeBQUm7', 'service_tier': 'default', 'finish_reason': 'stop', 'logprobs': None}, id='run--fa09b973-7c37-4352-8de5-8b904e1f00a1-0', usage_metadata={'input_tokens': 350, 'output_tokens': 34, 'total_tokens': 384, 'input_token_details': {'audio': 0, 'cache_read': 0}, 'output_token_details': {'audio': 0, 'reasoning': 0}}), HumanMessage(content='Ohh  I like movies too', additional_kwargs={}, response_metadata={}, id='566c6612-54c5-4ad3-acef-0a7366aa5fbc'), AIMessage(content=\"That's awesome, Suman! Movies are a great way to relax and enjoy some storytelling. What kind of movies do you like? Any favorite genres or films?\", additional_kwargs={'refusal': None}, response_metadata={'token_usage': {'completion_tokens': 33, 'prompt_tokens': 398, 'total_tokens': 431, 'completion_tokens_details': {'accepted_prediction_tokens': 0, 'audio_tokens': 0, 'reasoning_tokens': 0, 'rejected_prediction_tokens': 0}, 'prompt_tokens_details': {'audio_tokens': 0, 'cached_tokens': 0}}, 'model_name': 'gpt-4.1-mini-2025-04-14', 'system_fingerprint': 'fp_c064fdde7c', 'id': 'chatcmpl-CPInHxu7ojoyNkeEQRdiye6jNKsSA', 'service_tier': 'default', 'finish_reason': 'stop', 'logprobs': None}, id='run--70ee1646-628a-4f05-9272-a73238692f6f-0', usage_metadata={'input_tokens': 398, 'output_tokens': 33, 'total_tokens': 431, 'input_token_details': {'audio': 0, 'cache_read': 0}, 'output_token_details': {'audio': 0, 'reasoning': 0}}), HumanMessage(content='HI How are you doing?', additional_kwargs={}, response_metadata={}, id='d0c0d9e6-301c-4cdd-be74-d3af4bb02066'), AIMessage(content=\"Hi Suman! I'm just a virtual assistant, so I don't have feelings, but I'm here and ready to help you. How are you doing today?\", additional_kwargs={}, response_metadata={'finish_reason': 'stop', 'model_name': 'gpt-4.1-mini-2025-04-14', 'system_fingerprint': 'fp_c064fdde7c', 'service_tier': 'default'}, id='run--a07e0085-11b4-45c4-8bbd-42744bddebab', usage_metadata={'input_tokens': 444, 'output_tokens': 32, 'total_tokens': 476, 'input_token_details': {'audio': 0, 'cache_read': 0}, 'output_token_details': {'audio': 0, 'reasoning': 0}})]}}, 'name': 'tools_condition', 'tags': ['seq:step:3'], 'run_id': '3f088311-a196-4d64-be34-ac0146a02639', 'metadata': {'thread_id': '3', 'langgraph_step': 7, 'langgraph_node': 'LLM binded with tools', 'langgraph_triggers': ('branch:to:LLM binded with tools',), 'langgraph_path': ('__pregel_pull', 'LLM binded with tools'), 'langgraph_checkpoint_ns': 'LLM binded with tools:7199504e-3c69-7289-d808-2745aa036300'}, 'parent_ids': ['6afde17d-582c-4300-8acd-a3af9d5607b6', 'aaf85f4e-9fdc-4b56-a3a8-93a95057f61d']}\n",
      "{'event': 'on_chain_end', 'data': {'output': '__end__', 'input': {'messages': [HumanMessage(content='Hi,My name is Suman And I like cricket', additional_kwargs={}, response_metadata={}, id='dd9b3c1b-59c7-491d-be25-2fb5a5123318'), AIMessage(content=\"Hi Suman! It's great to meet you. Cricket is a fantastic sport. Do you have a favorite team or player? Or maybe you like playing cricket yourself?\", additional_kwargs={'refusal': None}, response_metadata={'token_usage': {'completion_tokens': 34, 'prompt_tokens': 350, 'total_tokens': 384, 'completion_tokens_details': {'accepted_prediction_tokens': 0, 'audio_tokens': 0, 'reasoning_tokens': 0, 'rejected_prediction_tokens': 0}, 'prompt_tokens_details': {'audio_tokens': 0, 'cached_tokens': 0}}, 'model_name': 'gpt-4.1-mini-2025-04-14', 'system_fingerprint': 'fp_c064fdde7c', 'id': 'chatcmpl-CPImwVhwVY5TTAktfrOn1qbeBQUm7', 'service_tier': 'default', 'finish_reason': 'stop', 'logprobs': None}, id='run--fa09b973-7c37-4352-8de5-8b904e1f00a1-0', usage_metadata={'input_tokens': 350, 'output_tokens': 34, 'total_tokens': 384, 'input_token_details': {'audio': 0, 'cache_read': 0}, 'output_token_details': {'audio': 0, 'reasoning': 0}}), HumanMessage(content='Ohh  I like movies too', additional_kwargs={}, response_metadata={}, id='566c6612-54c5-4ad3-acef-0a7366aa5fbc'), AIMessage(content=\"That's awesome, Suman! Movies are a great way to relax and enjoy some storytelling. What kind of movies do you like? Any favorite genres or films?\", additional_kwargs={'refusal': None}, response_metadata={'token_usage': {'completion_tokens': 33, 'prompt_tokens': 398, 'total_tokens': 431, 'completion_tokens_details': {'accepted_prediction_tokens': 0, 'audio_tokens': 0, 'reasoning_tokens': 0, 'rejected_prediction_tokens': 0}, 'prompt_tokens_details': {'audio_tokens': 0, 'cached_tokens': 0}}, 'model_name': 'gpt-4.1-mini-2025-04-14', 'system_fingerprint': 'fp_c064fdde7c', 'id': 'chatcmpl-CPInHxu7ojoyNkeEQRdiye6jNKsSA', 'service_tier': 'default', 'finish_reason': 'stop', 'logprobs': None}, id='run--70ee1646-628a-4f05-9272-a73238692f6f-0', usage_metadata={'input_tokens': 398, 'output_tokens': 33, 'total_tokens': 431, 'input_token_details': {'audio': 0, 'cache_read': 0}, 'output_token_details': {'audio': 0, 'reasoning': 0}}), HumanMessage(content='HI How are you doing?', additional_kwargs={}, response_metadata={}, id='d0c0d9e6-301c-4cdd-be74-d3af4bb02066'), AIMessage(content=\"Hi Suman! I'm just a virtual assistant, so I don't have feelings, but I'm here and ready to help you. How are you doing today?\", additional_kwargs={}, response_metadata={'finish_reason': 'stop', 'model_name': 'gpt-4.1-mini-2025-04-14', 'system_fingerprint': 'fp_c064fdde7c', 'service_tier': 'default'}, id='run--a07e0085-11b4-45c4-8bbd-42744bddebab', usage_metadata={'input_tokens': 444, 'output_tokens': 32, 'total_tokens': 476, 'input_token_details': {'audio': 0, 'cache_read': 0}, 'output_token_details': {'audio': 0, 'reasoning': 0}})]}}, 'run_id': '3f088311-a196-4d64-be34-ac0146a02639', 'name': 'tools_condition', 'tags': ['seq:step:3'], 'metadata': {'thread_id': '3', 'langgraph_step': 7, 'langgraph_node': 'LLM binded with tools', 'langgraph_triggers': ('branch:to:LLM binded with tools',), 'langgraph_path': ('__pregel_pull', 'LLM binded with tools'), 'langgraph_checkpoint_ns': 'LLM binded with tools:7199504e-3c69-7289-d808-2745aa036300', 'LANGSMITH_PROJECT': 'langraph_tutorials', 'LANGSMITH_ENDPOINT': 'https://api.smith.langchain.com', 'revision_id': '63f7cb0-dirty'}, 'parent_ids': ['6afde17d-582c-4300-8acd-a3af9d5607b6', 'aaf85f4e-9fdc-4b56-a3a8-93a95057f61d']}\n",
      "{'event': 'on_chain_stream', 'run_id': 'aaf85f4e-9fdc-4b56-a3a8-93a95057f61d', 'name': 'LLM binded with tools', 'tags': ['graph:step:7'], 'metadata': {'thread_id': '3', 'langgraph_step': 7, 'langgraph_node': 'LLM binded with tools', 'langgraph_triggers': ('branch:to:LLM binded with tools',), 'langgraph_path': ('__pregel_pull', 'LLM binded with tools'), 'langgraph_checkpoint_ns': 'LLM binded with tools:7199504e-3c69-7289-d808-2745aa036300'}, 'data': {'chunk': {'messages': [AIMessage(content=\"Hi Suman! I'm just a virtual assistant, so I don't have feelings, but I'm here and ready to help you. How are you doing today?\", additional_kwargs={}, response_metadata={'finish_reason': 'stop', 'model_name': 'gpt-4.1-mini-2025-04-14', 'system_fingerprint': 'fp_c064fdde7c', 'service_tier': 'default'}, id='run--a07e0085-11b4-45c4-8bbd-42744bddebab', usage_metadata={'input_tokens': 444, 'output_tokens': 32, 'total_tokens': 476, 'input_token_details': {'audio': 0, 'cache_read': 0}, 'output_token_details': {'audio': 0, 'reasoning': 0}})]}}, 'parent_ids': ['6afde17d-582c-4300-8acd-a3af9d5607b6']}\n",
      "{'event': 'on_chain_end', 'data': {'output': {'messages': [AIMessage(content=\"Hi Suman! I'm just a virtual assistant, so I don't have feelings, but I'm here and ready to help you. How are you doing today?\", additional_kwargs={}, response_metadata={'finish_reason': 'stop', 'model_name': 'gpt-4.1-mini-2025-04-14', 'system_fingerprint': 'fp_c064fdde7c', 'service_tier': 'default'}, id='run--a07e0085-11b4-45c4-8bbd-42744bddebab', usage_metadata={'input_tokens': 444, 'output_tokens': 32, 'total_tokens': 476, 'input_token_details': {'audio': 0, 'cache_read': 0}, 'output_token_details': {'audio': 0, 'reasoning': 0}})]}, 'input': {'messages': [HumanMessage(content='Hi,My name is Suman And I like cricket', additional_kwargs={}, response_metadata={}, id='dd9b3c1b-59c7-491d-be25-2fb5a5123318'), AIMessage(content=\"Hi Suman! It's great to meet you. Cricket is a fantastic sport. Do you have a favorite team or player? Or maybe you like playing cricket yourself?\", additional_kwargs={'refusal': None}, response_metadata={'token_usage': {'completion_tokens': 34, 'prompt_tokens': 350, 'total_tokens': 384, 'completion_tokens_details': {'accepted_prediction_tokens': 0, 'audio_tokens': 0, 'reasoning_tokens': 0, 'rejected_prediction_tokens': 0}, 'prompt_tokens_details': {'audio_tokens': 0, 'cached_tokens': 0}}, 'model_name': 'gpt-4.1-mini-2025-04-14', 'system_fingerprint': 'fp_c064fdde7c', 'id': 'chatcmpl-CPImwVhwVY5TTAktfrOn1qbeBQUm7', 'service_tier': 'default', 'finish_reason': 'stop', 'logprobs': None}, id='run--fa09b973-7c37-4352-8de5-8b904e1f00a1-0', usage_metadata={'input_tokens': 350, 'output_tokens': 34, 'total_tokens': 384, 'input_token_details': {'audio': 0, 'cache_read': 0}, 'output_token_details': {'audio': 0, 'reasoning': 0}}), HumanMessage(content='Ohh  I like movies too', additional_kwargs={}, response_metadata={}, id='566c6612-54c5-4ad3-acef-0a7366aa5fbc'), AIMessage(content=\"That's awesome, Suman! Movies are a great way to relax and enjoy some storytelling. What kind of movies do you like? Any favorite genres or films?\", additional_kwargs={'refusal': None}, response_metadata={'token_usage': {'completion_tokens': 33, 'prompt_tokens': 398, 'total_tokens': 431, 'completion_tokens_details': {'accepted_prediction_tokens': 0, 'audio_tokens': 0, 'reasoning_tokens': 0, 'rejected_prediction_tokens': 0}, 'prompt_tokens_details': {'audio_tokens': 0, 'cached_tokens': 0}}, 'model_name': 'gpt-4.1-mini-2025-04-14', 'system_fingerprint': 'fp_c064fdde7c', 'id': 'chatcmpl-CPInHxu7ojoyNkeEQRdiye6jNKsSA', 'service_tier': 'default', 'finish_reason': 'stop', 'logprobs': None}, id='run--70ee1646-628a-4f05-9272-a73238692f6f-0', usage_metadata={'input_tokens': 398, 'output_tokens': 33, 'total_tokens': 431, 'input_token_details': {'audio': 0, 'cache_read': 0}, 'output_token_details': {'audio': 0, 'reasoning': 0}}), HumanMessage(content='HI How are you doing?', additional_kwargs={}, response_metadata={}, id='d0c0d9e6-301c-4cdd-be74-d3af4bb02066')]}}, 'run_id': 'aaf85f4e-9fdc-4b56-a3a8-93a95057f61d', 'name': 'LLM binded with tools', 'tags': ['graph:step:7'], 'metadata': {'thread_id': '3', 'langgraph_step': 7, 'langgraph_node': 'LLM binded with tools', 'langgraph_triggers': ('branch:to:LLM binded with tools',), 'langgraph_path': ('__pregel_pull', 'LLM binded with tools'), 'langgraph_checkpoint_ns': 'LLM binded with tools:7199504e-3c69-7289-d808-2745aa036300', 'LANGSMITH_PROJECT': 'langraph_tutorials', 'LANGSMITH_ENDPOINT': 'https://api.smith.langchain.com', 'revision_id': '63f7cb0-dirty'}, 'parent_ids': ['6afde17d-582c-4300-8acd-a3af9d5607b6']}\n",
      "{'event': 'on_chain_stream', 'run_id': '6afde17d-582c-4300-8acd-a3af9d5607b6', 'name': 'LangGraph', 'tags': [], 'metadata': {'thread_id': '3', 'LANGSMITH_PROJECT': 'langraph_tutorials', 'LANGSMITH_ENDPOINT': 'https://api.smith.langchain.com', 'revision_id': '63f7cb0-dirty'}, 'data': {'chunk': {'LLM binded with tools': {'messages': [AIMessage(content=\"Hi Suman! I'm just a virtual assistant, so I don't have feelings, but I'm here and ready to help you. How are you doing today?\", additional_kwargs={}, response_metadata={'finish_reason': 'stop', 'model_name': 'gpt-4.1-mini-2025-04-14', 'system_fingerprint': 'fp_c064fdde7c', 'service_tier': 'default'}, id='run--a07e0085-11b4-45c4-8bbd-42744bddebab', usage_metadata={'input_tokens': 444, 'output_tokens': 32, 'total_tokens': 476, 'input_token_details': {'audio': 0, 'cache_read': 0}, 'output_token_details': {'audio': 0, 'reasoning': 0}})]}}}, 'parent_ids': []}\n",
      "{'event': 'on_chain_end', 'data': {'output': {'messages': [HumanMessage(content='Hi,My name is Suman And I like cricket', additional_kwargs={}, response_metadata={}, id='dd9b3c1b-59c7-491d-be25-2fb5a5123318'), AIMessage(content=\"Hi Suman! It's great to meet you. Cricket is a fantastic sport. Do you have a favorite team or player? Or maybe you like playing cricket yourself?\", additional_kwargs={'refusal': None}, response_metadata={'token_usage': {'completion_tokens': 34, 'prompt_tokens': 350, 'total_tokens': 384, 'completion_tokens_details': {'accepted_prediction_tokens': 0, 'audio_tokens': 0, 'reasoning_tokens': 0, 'rejected_prediction_tokens': 0}, 'prompt_tokens_details': {'audio_tokens': 0, 'cached_tokens': 0}}, 'model_name': 'gpt-4.1-mini-2025-04-14', 'system_fingerprint': 'fp_c064fdde7c', 'id': 'chatcmpl-CPImwVhwVY5TTAktfrOn1qbeBQUm7', 'service_tier': 'default', 'finish_reason': 'stop', 'logprobs': None}, id='run--fa09b973-7c37-4352-8de5-8b904e1f00a1-0', usage_metadata={'input_tokens': 350, 'output_tokens': 34, 'total_tokens': 384, 'input_token_details': {'audio': 0, 'cache_read': 0}, 'output_token_details': {'audio': 0, 'reasoning': 0}}), HumanMessage(content='Ohh  I like movies too', additional_kwargs={}, response_metadata={}, id='566c6612-54c5-4ad3-acef-0a7366aa5fbc'), AIMessage(content=\"That's awesome, Suman! Movies are a great way to relax and enjoy some storytelling. What kind of movies do you like? Any favorite genres or films?\", additional_kwargs={'refusal': None}, response_metadata={'token_usage': {'completion_tokens': 33, 'prompt_tokens': 398, 'total_tokens': 431, 'completion_tokens_details': {'accepted_prediction_tokens': 0, 'audio_tokens': 0, 'reasoning_tokens': 0, 'rejected_prediction_tokens': 0}, 'prompt_tokens_details': {'audio_tokens': 0, 'cached_tokens': 0}}, 'model_name': 'gpt-4.1-mini-2025-04-14', 'system_fingerprint': 'fp_c064fdde7c', 'id': 'chatcmpl-CPInHxu7ojoyNkeEQRdiye6jNKsSA', 'service_tier': 'default', 'finish_reason': 'stop', 'logprobs': None}, id='run--70ee1646-628a-4f05-9272-a73238692f6f-0', usage_metadata={'input_tokens': 398, 'output_tokens': 33, 'total_tokens': 431, 'input_token_details': {'audio': 0, 'cache_read': 0}, 'output_token_details': {'audio': 0, 'reasoning': 0}}), HumanMessage(content='HI How are you doing?', additional_kwargs={}, response_metadata={}, id='d0c0d9e6-301c-4cdd-be74-d3af4bb02066'), AIMessage(content=\"Hi Suman! I'm just a virtual assistant, so I don't have feelings, but I'm here and ready to help you. How are you doing today?\", additional_kwargs={}, response_metadata={'finish_reason': 'stop', 'model_name': 'gpt-4.1-mini-2025-04-14', 'system_fingerprint': 'fp_c064fdde7c', 'service_tier': 'default'}, id='run--a07e0085-11b4-45c4-8bbd-42744bddebab', usage_metadata={'input_tokens': 444, 'output_tokens': 32, 'total_tokens': 476, 'input_token_details': {'audio': 0, 'cache_read': 0}, 'output_token_details': {'audio': 0, 'reasoning': 0}})]}}, 'run_id': '6afde17d-582c-4300-8acd-a3af9d5607b6', 'name': 'LangGraph', 'tags': [], 'metadata': {'thread_id': '3', 'LANGSMITH_PROJECT': 'langraph_tutorials', 'LANGSMITH_ENDPOINT': 'https://api.smith.langchain.com', 'revision_id': '63f7cb0-dirty'}, 'parent_ids': []}\n"
     ]
    }
   ],
   "source": [
    "config = {\"configurable\": {\"thread_id\": \"3\"}}\n",
    "\n",
    "async for event in app2.astream_events({\"messages\":[\"HI How are you doing?\"]},config,version=\"v2\"):\n",
    "    print(event)"
   ]
  },
  {
   "cell_type": "code",
   "execution_count": 40,
   "id": "2cddf379",
   "metadata": {},
   "outputs": [
    {
     "name": "stdout",
     "output_type": "stream",
     "text": [
      "The 2011 ICC Cricket World Cup was the tenth edition of the Cricket World Cup. It was jointly hosted by India, Sri Lanka, and Bangladesh, with Bangladesh hosting World Cup matches for the first time. The final match was held at Wankhede Stadium in Mumbai, India, where India defeated Sri Lanka by six wickets. This victory made India the first country to win the Cricket World Cup final on home soil.\n",
      "\n",
      "The tournament featured 18 umpires from various countries, including Australia, England, India, New Zealand, Pakistan, Sri Lanka, South Africa, and the West Indies.\n",
      "\n",
      "If you want more specific details like match results, key players, or statistics, please let me know!"
     ]
    }
   ],
   "source": [
    "config = {\"configurable\": {\"thread_id\": \"8\"}}\n",
    "input = {\n",
    "    \"messages\": [\"give me details about cricket world cup 2011?\"]\n",
    "}\n",
    "\n",
    "events = app2.astream_events(input=input, config = config,version=\"v2\")\n",
    "\n",
    "async for event in events: \n",
    "    if event[\"event\"] == \"on_chat_model_stream\":\n",
    "        print(event[\"data\"][\"chunk\"].content, end=\"\", flush=True)"
   ]
  },
  {
   "cell_type": "markdown",
   "id": "4b6ebe63",
   "metadata": {},
   "source": [
    "## Small experiment : using the weather api as a tool"
   ]
  },
  {
   "cell_type": "code",
   "execution_count": 41,
   "id": "81ae763a",
   "metadata": {},
   "outputs": [],
   "source": [
    "load_dotenv()\n",
    "weather_api = os.getenv(\"WEATHER_API_KEY\")"
   ]
  },
  {
   "cell_type": "code",
   "execution_count": 42,
   "id": "5eece37f",
   "metadata": {},
   "outputs": [
    {
     "name": "stdout",
     "output_type": "stream",
     "text": [
      "Weather in Bengaluru, India:\n",
      "- Condition: Light rain\n",
      "- Temperature: 20.1°C (Feels like: 20.1°C)\n",
      "- Wind: 6.1 kph, Direction: E\n",
      "- Humidity: 94%\n",
      "- Cloudiness: 75%\n",
      "- Last updated: 2025-10-11 07:00\n",
      "\n",
      "Air Quality Index (AQI):\n",
      "- CO (Carbon Monoxide): 715.85 µg/m³\n",
      "- NO2 (Nitrogen Dioxide): 30.55 µg/m³\n",
      "- O3 (Ozone): 38.0 µg/m³\n",
      "- PM10 (Particulate Matter <10µm): 16.65 µg/m³\n",
      "- PM2.5 (Particulate Matter <2.5µm): 16.55 µg/m³\n",
      "- SO2 (Sulfur Dioxide): 14.05 µg/m³\n"
     ]
    }
   ],
   "source": [
    "import requests\n",
    "def get_detailed_weather_weatherapi(city: str):\n",
    "    \"\"\"\n",
    "    Fetches an extended weather report, including air quality, for a given city using WeatherAPI.\n",
    "\n",
    "    Parameters:\n",
    "        city (str): The name of the city to get the weather for.\n",
    "        api_key (str): Your WeatherAPI key.\n",
    "\n",
    "    Returns:\n",
    "        str: A detailed weather and air quality report as a text message.\n",
    "    \"\"\"\n",
    "    base_url = \"http://api.weatherapi.com/v1/current.json\"\n",
    "    params = {\n",
    "        \"key\": weather_api,\n",
    "        \"q\": city,\n",
    "        \"aqi\": \"yes\"  # Include air quality data\n",
    "    }\n",
    "    \n",
    "    try:\n",
    "        response = requests.get(base_url, params=params)\n",
    "        data = response.json()\n",
    "        \n",
    "        if response.status_code == 200:\n",
    "            # Extract key weather details\n",
    "            location = data[\"location\"][\"name\"]\n",
    "            country = data[\"location\"][\"country\"]\n",
    "            temperature = data[\"current\"][\"temp_c\"]\n",
    "            feels_like = data[\"current\"][\"feelslike_c\"]\n",
    "            condition = data[\"current\"][\"condition\"][\"text\"]\n",
    "            wind_speed = data[\"current\"][\"wind_kph\"]\n",
    "            wind_direction = data[\"current\"][\"wind_dir\"]\n",
    "            humidity = data[\"current\"][\"humidity\"]\n",
    "            cloudiness = data[\"current\"][\"cloud\"]\n",
    "            last_updated = data[\"current\"][\"last_updated\"]\n",
    "\n",
    "            # Extract air quality data\n",
    "            aqi_data = data[\"current\"][\"air_quality\"]\n",
    "            co = aqi_data.get(\"co\", \"N/A\")  # Carbon Monoxide\n",
    "            no2 = aqi_data.get(\"no2\", \"N/A\")  # Nitrogen Dioxide\n",
    "            o3 = aqi_data.get(\"o3\", \"N/A\")  # Ozone\n",
    "            pm10 = aqi_data.get(\"pm10\", \"N/A\")  # Particulate Matter 10\n",
    "            pm2_5 = aqi_data.get(\"pm2_5\", \"N/A\")  # Particulate Matter 2.5\n",
    "            so2 = aqi_data.get(\"so2\", \"N/A\")  # Sulfur Dioxide\n",
    "\n",
    "            # Build the detailed weather and air quality report\n",
    "            weather_report = (\n",
    "                f\"Weather in {location}, {country}:\\n\"\n",
    "                f\"- Condition: {condition}\\n\"\n",
    "                f\"- Temperature: {temperature}°C (Feels like: {feels_like}°C)\\n\"\n",
    "                f\"- Wind: {wind_speed} kph, Direction: {wind_direction}\\n\"\n",
    "                f\"- Humidity: {humidity}%\\n\"\n",
    "                f\"- Cloudiness: {cloudiness}%\\n\"\n",
    "                f\"- Last updated: {last_updated}\\n\\n\"\n",
    "                f\"Air Quality Index (AQI):\\n\"\n",
    "                f\"- CO (Carbon Monoxide): {co} µg/m³\\n\"\n",
    "                f\"- NO2 (Nitrogen Dioxide): {no2} µg/m³\\n\"\n",
    "                f\"- O3 (Ozone): {o3} µg/m³\\n\"\n",
    "                f\"- PM10 (Particulate Matter <10µm): {pm10} µg/m³\\n\"\n",
    "                f\"- PM2.5 (Particulate Matter <2.5µm): {pm2_5} µg/m³\\n\"\n",
    "                f\"- SO2 (Sulfur Dioxide): {so2} µg/m³\"\n",
    "            )\n",
    "            return weather_report\n",
    "        else:\n",
    "            return f\"Error: {data.get('error', {}).get('message', 'Unable to fetch weather data')}\"\n",
    "    except Exception as e:\n",
    "        return f\"An error occurred: {str(e)}\"\n",
    "\n",
    "city_name = \"Bengaluru\"\n",
    "print(get_detailed_weather_weatherapi(city_name))"
   ]
  },
  {
   "cell_type": "code",
   "execution_count": 43,
   "id": "bc5c2805",
   "metadata": {},
   "outputs": [],
   "source": [
    "tools_list = [get_detailed_weather_weatherapi]"
   ]
  },
  {
   "cell_type": "code",
   "execution_count": 44,
   "id": "90b9103e",
   "metadata": {},
   "outputs": [],
   "source": [
    "llm_with_tool = model.bind_tools(tools_list)"
   ]
  },
  {
   "cell_type": "code",
   "execution_count": 45,
   "id": "0439c2d4",
   "metadata": {},
   "outputs": [],
   "source": [
    "#define the nodes\n",
    "def tool_calling_llm(state: State):\n",
    "    response = llm_with_tool.invoke(state[\"messages\"])\n",
    "    return {\"messages\": [response]}"
   ]
  },
  {
   "cell_type": "code",
   "execution_count": 46,
   "id": "61c4edad",
   "metadata": {},
   "outputs": [],
   "source": [
    "#define the workflow\n",
    "graph = StateGraph(State)\n",
    "graph.add_node(\"LLM binded with tools\" , tool_calling_llm)\n",
    "graph.add_node(\"tools\" , ToolNode(tools_list))\n",
    "\n",
    "graph.add_edge(START, \"LLM binded with tools\")\n",
    "graph.add_conditional_edges(\n",
    "    \"LLM binded with tools\",\n",
    "    tools_condition\n",
    ")\n",
    "\n",
    "graph.add_edge(\"tools\" , END)\n",
    "\n",
    "app = graph.compile()"
   ]
  },
  {
   "cell_type": "code",
   "execution_count": 47,
   "id": "b3e8a887",
   "metadata": {},
   "outputs": [
    {
     "data": {
      "image/png": "[encoded data removed]",
      "text/plain": [
       "<IPython.core.display.Image object>"
      ]
     },
     "metadata": {},
     "output_type": "display_data"
    }
   ],
   "source": [
    "display_graph(app)"
   ]
  },
  {
   "cell_type": "code",
   "execution_count": 48,
   "id": "c307f57a",
   "metadata": {},
   "outputs": [],
   "source": [
    "response = app.invoke({\n",
    "    \"messages\": [\"What is the weather in bangalore today?\"]\n",
    "})"
   ]
  },
  {
   "cell_type": "code",
   "execution_count": 49,
   "id": "c7e99acd",
   "metadata": {},
   "outputs": [
    {
     "name": "stdout",
     "output_type": "stream",
     "text": [
      "================================\u001b[1m Human Message \u001b[0m=================================\n",
      "\n",
      "What is the weather in bangalore today?\n",
      "==================================\u001b[1m Ai Message \u001b[0m==================================\n",
      "Tool Calls:\n",
      "  get_detailed_weather_weatherapi (call_d95rAbN131NnIyBL8QW4dFIc)\n",
      " Call ID: call_d95rAbN131NnIyBL8QW4dFIc\n",
      "  Args:\n",
      "    city: Bangalore\n",
      "=================================\u001b[1m Tool Message \u001b[0m=================================\n",
      "Name: get_detailed_weather_weatherapi\n",
      "\n",
      "Weather in Bangalore, India:\n",
      "- Condition: Light rain\n",
      "- Temperature: 20.1°C (Feels like: 20.1°C)\n",
      "- Wind: 6.1 kph, Direction: E\n",
      "- Humidity: 94%\n",
      "- Cloudiness: 75%\n",
      "- Last updated: 2025-10-11 07:00\n",
      "\n",
      "Air Quality Index (AQI):\n",
      "- CO (Carbon Monoxide): 715.85 µg/m³\n",
      "- NO2 (Nitrogen Dioxide): 30.55 µg/m³\n",
      "- O3 (Ozone): 38.0 µg/m³\n",
      "- PM10 (Particulate Matter <10µm): 16.65 µg/m³\n",
      "- PM2.5 (Particulate Matter <2.5µm): 16.55 µg/m³\n",
      "- SO2 (Sulfur Dioxide): 14.05 µg/m³\n"
     ]
    }
   ],
   "source": [
    "for m in response['messages']:\n",
    "    m.pretty_print()\n",
    "    \n",
    "    "
   ]
  },
  {
   "cell_type": "code",
   "execution_count": 50,
   "id": "94170e8a",
   "metadata": {},
   "outputs": [],
   "source": [
    "from langchain_core.prompts import PromptTemplate\n",
    "def generate_weather_report(state: State):\n",
    "    \"\"\"\n",
    "    generate a weather report for the user\n",
    "    \"\"\"\n",
    "\n",
    "    weather_data = state[\"messages\"][-1].content\n",
    "\n",
    "    # Prompt template\n",
    "    weather_template = PromptTemplate(\n",
    "        template=\"\"\"\n",
    "        You are a detailed weather report generator.\n",
    "\n",
    "        You will be given the weather data  {weather_data}\n",
    "\n",
    "        Your target is to generate a weather report for the user in a detailed manner.\n",
    "\n",
    "        1. Genrate the weather report in a manner that is easier to understand\n",
    "        2. Suggest some activities to be done during these weather.\n",
    "        3. Suggest some precautions to be taken during these weather.\n",
    "\n",
    "        \"\"\",\n",
    "\n",
    "        input_variables=['weather_data'],\n",
    "        validate_template=True\n",
    "    )\n",
    "\n",
    "    chain = weather_template | model\n",
    "\n",
    "    response = chain.invoke({\"weather_data\":weather_data})\n",
    "\n",
    "    return {\"messages\": [response]}"
   ]
  },
  {
   "cell_type": "code",
   "execution_count": 51,
   "id": "c73e7d61",
   "metadata": {},
   "outputs": [],
   "source": [
    "#define the workflow\n",
    "graph = StateGraph(State)\n",
    "\n",
    "graph.add_node(\"LLM binded with tools\" , tool_calling_llm)\n",
    "graph.add_node(\"tools\" , ToolNode(tools_list))\n",
    "graph.add_node(\"weather report generator\" , generate_weather_report)\n",
    "\n",
    "graph.add_edge(START, \"LLM binded with tools\")\n",
    "graph.add_conditional_edges(\n",
    "    \"LLM binded with tools\",\n",
    "    tools_condition\n",
    ")\n",
    "\n",
    "graph.add_edge(\"tools\" , \"weather report generator\")\n",
    "graph.add_edge(\"weather report generator\" , END)\n",
    "\n",
    "app = graph.compile()"
   ]
  },
  {
   "cell_type": "code",
   "execution_count": 56,
   "id": "ac2b402c",
   "metadata": {},
   "outputs": [
    {
     "data": {
      "image/png": "[encoded data removed]",
      "text/plain": [
       "<IPython.core.display.Image object>"
      ]
     },
     "metadata": {},
     "output_type": "display_data"
    }
   ],
   "source": [
    "display_graph(app)"
   ]
  },
  {
   "cell_type": "code",
   "execution_count": 52,
   "id": "270a6bd2",
   "metadata": {},
   "outputs": [],
   "source": [
    "response = app.invoke(\n",
    "    {\n",
    "        \"messages\": [\"What is the weather in bangalore today?\"]\n",
    "    }\n",
    ")"
   ]
  },
  {
   "cell_type": "code",
   "execution_count": 53,
   "id": "f4963e1f",
   "metadata": {},
   "outputs": [
    {
     "name": "stdout",
     "output_type": "stream",
     "text": [
      "================================\u001b[1m Human Message \u001b[0m=================================\n",
      "\n",
      "What is the weather in bangalore today?\n",
      "==================================\u001b[1m Ai Message \u001b[0m==================================\n",
      "Tool Calls:\n",
      "  get_detailed_weather_weatherapi (call_D9VZ4GqbkL4W3qsmh10LIPft)\n",
      " Call ID: call_D9VZ4GqbkL4W3qsmh10LIPft\n",
      "  Args:\n",
      "    city: Bangalore\n",
      "=================================\u001b[1m Tool Message \u001b[0m=================================\n",
      "Name: get_detailed_weather_weatherapi\n",
      "\n",
      "Weather in Bangalore, India:\n",
      "- Condition: Light rain\n",
      "- Temperature: 20.1°C (Feels like: 20.1°C)\n",
      "- Wind: 6.1 kph, Direction: E\n",
      "- Humidity: 94%\n",
      "- Cloudiness: 75%\n",
      "- Last updated: 2025-10-11 07:00\n",
      "\n",
      "Air Quality Index (AQI):\n",
      "- CO (Carbon Monoxide): 715.85 µg/m³\n",
      "- NO2 (Nitrogen Dioxide): 30.55 µg/m³\n",
      "- O3 (Ozone): 38.0 µg/m³\n",
      "- PM10 (Particulate Matter <10µm): 16.65 µg/m³\n",
      "- PM2.5 (Particulate Matter <2.5µm): 16.55 µg/m³\n",
      "- SO2 (Sulfur Dioxide): 14.05 µg/m³\n",
      "==================================\u001b[1m Ai Message \u001b[0m==================================\n",
      "\n",
      "**Detailed Weather Report for Bangalore, India**  \n",
      "*Date & Time of Report: October 11, 2025, 07:00 AM*\n",
      "\n",
      "---\n",
      "\n",
      "**Current Weather Conditions:**  \n",
      "Bangalore is experiencing light rain this morning, creating a cool and refreshing atmosphere. The temperature stands at 20.1°C, which is also how it feels outside, making it quite comfortable. Winds are gentle, blowing from the east at a speed of 6.1 kilometers per hour. The humidity level is quite high at 94%, contributing to the dampness in the air. The sky is mostly cloudy, with about 75% cloud cover, so you can expect overcast conditions throughout the morning.\n",
      "\n",
      "---\n",
      "\n",
      "**Air Quality Overview:**  \n",
      "The air quality in Bangalore shows some concerns, particularly with Carbon Monoxide (CO) levels being quite elevated at 715.85 µg/m³. Other pollutants such as Nitrogen Dioxide (NO2) at 30.55 µg/m³, Ozone (O3) at 38.0 µg/m³, Particulate Matter PM10 at 16.65 µg/m³, PM2.5 at 16.55 µg/m³, and Sulfur Dioxide (SO2) at 14.05 µg/m³ are within moderate ranges. The high CO level suggests that outdoor activities should be planned with caution, especially for sensitive groups like children, elderly, and those with respiratory conditions.\n",
      "\n",
      "---\n",
      "\n",
      "**Suggested Activities for Today:**  \n",
      "- **Indoor activities:** Given the light rain and high humidity, it’s a great day to enjoy indoor hobbies such as reading, cooking, or watching movies.  \n",
      "- **Light outdoor activities:** If you prefer being outside, consider a gentle walk with an umbrella or raincoat in nearby parks or gardens. The cool temperature and light rain can be quite refreshing.  \n",
      "- **Visit cafes or indoor markets:** Exploring local cafes or indoor shopping areas can be enjoyable without exposure to the damp weather.  \n",
      "- **Yoga or meditation:** Practicing yoga or meditation indoors can be calming and beneficial in this weather.\n",
      "\n",
      "---\n",
      "\n",
      "**Precautions to Take:**  \n",
      "- **Carry rain protection:** Use an umbrella or raincoat to stay dry and avoid catching a cold.  \n",
      "- **Wear appropriate footwear:** Since the ground may be slippery due to rain, wear shoes with good grip to prevent falls.  \n",
      "- **Limit strenuous outdoor activities:** Due to elevated Carbon Monoxide levels, avoid heavy exercise outdoors to reduce inhalation of pollutants.  \n",
      "- **Keep windows closed:** To minimize indoor pollution from outdoor air, keep windows and doors closed, especially if you live near busy roads.  \n",
      "- **Stay hydrated:** High humidity can sometimes make you feel dehydrated, so drink plenty of water.  \n",
      "- **Monitor air quality:** If you have respiratory issues, consider using air purifiers indoors and avoid prolonged exposure outside.\n",
      "\n",
      "---\n",
      "\n",
      "**Summary:**  \n",
      "Today in Bangalore, expect a cool and damp morning with light rain and mostly cloudy skies. While the weather is pleasant for light activities, the elevated Carbon Monoxide levels call for caution, especially for vulnerable individuals. Enjoy indoor activities or gentle outdoor strolls with proper rain gear, and take necessary precautions to stay safe and comfortable.\n",
      "\n",
      "Stay safe and have a pleasant day!\n"
     ]
    }
   ],
   "source": [
    "for m in response['messages']:\n",
    "    m.pretty_print()"
   ]
  },
  {
   "cell_type": "code",
   "execution_count": 54,
   "id": "0f6d738f",
   "metadata": {},
   "outputs": [],
   "source": [
    "response = app.invoke(\n",
    "    {\n",
    "        \"messages\": [\"What is the weather in new york today?\"]\n",
    "    }\n",
    ")"
   ]
  },
  {
   "cell_type": "code",
   "execution_count": 55,
   "id": "8b5a79a2",
   "metadata": {},
   "outputs": [
    {
     "data": {
      "text/plain": [
       "{'messages': [HumanMessage(content='What is the weather in new york today?', additional_kwargs={}, response_metadata={}, id='fb2806aa-5278-4259-a51c-05906d40a4f6'),\n",
       "  AIMessage(content='', additional_kwargs={'tool_calls': [{'id': 'call_DrFPAuQ5WJkoH1CPvnXZDc76', 'function': {'arguments': '{\"city\":\"New York\"}', 'name': 'get_detailed_weather_weatherapi'}, 'type': 'function'}], 'refusal': None}, response_metadata={'token_usage': {'completion_tokens': 19, 'prompt_tokens': 96, 'total_tokens': 115, 'completion_tokens_details': {'accepted_prediction_tokens': 0, 'audio_tokens': 0, 'reasoning_tokens': 0, 'rejected_prediction_tokens': 0}, 'prompt_tokens_details': {'audio_tokens': 0, 'cached_tokens': 0}}, 'model_name': 'gpt-4.1-mini-2025-04-14', 'system_fingerprint': 'fp_c064fdde7c', 'id': 'chatcmpl-CPIrFsxYbXSNLXLmnx7URnZDEJbUp', 'service_tier': 'default', 'finish_reason': 'tool_calls', 'logprobs': None}, id='run--2e730dd9-2074-4f68-b97f-44be6120ca0c-0', tool_calls=[{'name': 'get_detailed_weather_weatherapi', 'args': {'city': 'New York'}, 'id': 'call_DrFPAuQ5WJkoH1CPvnXZDc76', 'type': 'tool_call'}], usage_metadata={'input_tokens': 96, 'output_tokens': 19, 'total_tokens': 115, 'input_token_details': {'audio': 0, 'cache_read': 0}, 'output_token_details': {'audio': 0, 'reasoning': 0}}),\n",
       "  ToolMessage(content='Weather in New York, United States of America:\\n- Condition: Overcast\\n- Temperature: 15.2°C (Feels like: 15.2°C)\\n- Wind: 16.2 kph, Direction: S\\n- Humidity: 51%\\n- Cloudiness: 100%\\n- Last updated: 2025-10-10 21:30\\n\\nAir Quality Index (AQI):\\n- CO (Carbon Monoxide): 296.85 µg/m³\\n- NO2 (Nitrogen Dioxide): 47.65 µg/m³\\n- O3 (Ozone): 23.0 µg/m³\\n- PM10 (Particulate Matter <10µm): 16.85 µg/m³\\n- PM2.5 (Particulate Matter <2.5µm): 15.05 µg/m³\\n- SO2 (Sulfur Dioxide): 6.45 µg/m³', name='get_detailed_weather_weatherapi', id='aec9078e-845e-460d-9a1f-37be116d72d9', tool_call_id='call_DrFPAuQ5WJkoH1CPvnXZDc76'),\n",
       "  AIMessage(content='**Detailed Weather Report for New York, United States of America**  \\n*As of October 10, 2025, 9:30 PM*\\n\\n---\\n\\n**Current Weather Conditions:**  \\nThe sky over New York is completely overcast, with cloud cover at 100%, creating a gray and gloomy atmosphere. The temperature is a mild 15.2°C, and it feels just as cool as the thermometer reads. A steady wind is blowing from the south at 16.2 kilometers per hour, bringing a gentle breeze that might make it feel a bit cooler than the actual temperature. Humidity levels are moderate at 51%, which means the air is neither too dry nor too damp.\\n\\n---\\n\\n**Air Quality Overview:**  \\nThe air quality in New York shows some concerns, particularly with elevated levels of Carbon Monoxide (CO) at 296.85 µg/m³, which is relatively high and could affect sensitive groups such as children, the elderly, and those with respiratory conditions. Nitrogen Dioxide (NO2) is at 47.65 µg/m³, which is moderate but should be noted by people with asthma or other lung issues. Ozone (O3) levels are low at 23.0 µg/m³, which is good. Particulate matter levels (PM10 at 16.85 µg/m³ and PM2.5 at 15.05 µg/m³) are within acceptable limits but still warrant caution for sensitive individuals. Sulfur Dioxide (SO2) is low at 6.45 µg/m³.\\n\\n---\\n\\n**What You Can Do Today:**  \\n- **Indoor Activities:** Given the overcast skies and moderate temperature, it’s a great day to enjoy indoor hobbies such as reading, cooking, or watching movies.  \\n- **Light Outdoor Activities:** If you prefer being outside, consider a gentle walk in a nearby park or along a waterfront. The mild temperature and breeze make it comfortable, but keep in mind the air quality.  \\n- **Photography:** The overcast sky provides soft, diffused lighting, which is excellent for photography, especially portraits or nature shots without harsh shadows.  \\n- **Visit Museums or Cafes:** Take advantage of the weather to explore indoor cultural spots or cozy up in a café with friends.\\n\\n---\\n\\n**Precautions to Keep in Mind:**  \\n- **Air Quality Awareness:** If you have respiratory issues, limit prolonged outdoor exposure, especially near busy roads or industrial areas where CO and NO2 levels might be higher.  \\n- **Dress Appropriately:** Wear light layers to stay comfortable in the mild temperature and be prepared for the breeze from the south.  \\n- **Visibility:** Overcast conditions can reduce visibility slightly, so if you’re driving or cycling, use appropriate lights and stay alert.  \\n- **Stay Hydrated:** Even with moderate humidity, it’s important to drink enough water, especially if you engage in physical activity.  \\n- **Monitor Weather Updates:** Overcast skies can sometimes precede rain, so keep an eye on the forecast if you plan to be outdoors for extended periods.\\n\\n---\\n\\n**Summary:**  \\nNew York is experiencing a cool, fully overcast evening with a gentle southern breeze. The air quality is moderate with some pollutants at elevated levels, so sensitive individuals should take care. This weather is ideal for indoor relaxation or light outdoor activities with appropriate precautions.\\n\\nStay safe and enjoy your day!', additional_kwargs={'refusal': None}, response_metadata={'token_usage': {'completion_tokens': 689, 'prompt_tokens': 291, 'total_tokens': 980, 'completion_tokens_details': {'accepted_prediction_tokens': 0, 'audio_tokens': 0, 'reasoning_tokens': 0, 'rejected_prediction_tokens': 0}, 'prompt_tokens_details': {'audio_tokens': 0, 'cached_tokens': 0}}, 'model_name': 'gpt-4.1-mini-2025-04-14', 'system_fingerprint': 'fp_c064fdde7c', 'id': 'chatcmpl-CPIrGh45yjR8MhVKD9k9fS7jSJtsx', 'service_tier': 'default', 'finish_reason': 'stop', 'logprobs': None}, id='run--2130f9f7-419a-4177-b542-afc12fafd6d5-0', usage_metadata={'input_tokens': 291, 'output_tokens': 689, 'total_tokens': 980, 'input_token_details': {'audio': 0, 'cache_read': 0}, 'output_token_details': {'audio': 0, 'reasoning': 0}})]}"
      ]
     },
     "execution_count": 55,
     "metadata": {},
     "output_type": "execute_result"
    }
   ],
   "source": [
    "response"
   ]
  },
  {
   "cell_type": "code",
   "execution_count": null,
   "id": "53c1f642",
   "metadata": {},
   "outputs": [],
   "source": []
  },
  {
   "cell_type": "code",
   "execution_count": null,
   "id": "c0ac1afe",
   "metadata": {},
   "outputs": [],
   "source": []
  }
 ],
 "metadata": {
  "kernelspec": {
   "display_name": ".venv",
   "language": "python",
   "name": "python3"
  },
  "language_info": {
   "codemirror_mode": {
    "name": "ipython",
    "version": 3
   },
   "file_extension": ".py",
   "mimetype": "text/x-python",
   "name": "python",
   "nbconvert_exporter": "python",
   "pygments_lexer": "ipython3",
   "version": "3.11.13"
  }
 },
 "nbformat": 4,
 "nbformat_minor": 5
}
