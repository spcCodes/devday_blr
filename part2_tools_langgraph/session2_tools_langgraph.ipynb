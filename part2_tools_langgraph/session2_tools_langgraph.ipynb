{
 "cells": [
  {
   "cell_type": "markdown",
   "id": "40be8679",
   "metadata": {},
   "source": [
    "## Loading the environments"
   ]
  },
  {
   "cell_type": "code",
   "execution_count": 1,
   "id": "772aea92",
   "metadata": {},
   "outputs": [
    {
     "data": {
      "text/plain": [
       "True"
      ]
     },
     "execution_count": 1,
     "metadata": {},
     "output_type": "execute_result"
    }
   ],
   "source": [
    "import os\n",
    "from dotenv import load_dotenv\n",
    "load_dotenv()"
   ]
  },
  {
   "cell_type": "markdown",
   "id": "6651daf3",
   "metadata": {},
   "source": [
    "## Importing the packages"
   ]
  },
  {
   "cell_type": "code",
   "execution_count": 2,
   "id": "4e9d818e",
   "metadata": {},
   "outputs": [],
   "source": [
    "from dotenv import load_dotenv\n",
    "from langchain.prompts import ChatPromptTemplate\n",
    "from langchain_openai import ChatOpenAI\n",
    "from IPython.display import Image, display\n",
    "from langgraph.graph import StateGraph , START , END , MessageGraph \n",
    "from langchain_core.messages import HumanMessage , AIMessage , SystemMessage\n",
    "from typing import TypedDict\n",
    "from typing import Annotated\n",
    "from langgraph.graph.message import add_messages\n",
    "from langgraph.graph import MessagesState\n",
    "\n",
    "import datetime"
   ]
  },
  {
   "cell_type": "code",
   "execution_count": 3,
   "id": "bad0854d",
   "metadata": {},
   "outputs": [],
   "source": [
    "model = ChatOpenAI(model=\"gpt-4.1-mini\", temperature=0)"
   ]
  },
  {
   "cell_type": "markdown",
   "id": "4faab9c7",
   "metadata": {},
   "source": [
    "## Some utility functions "
   ]
  },
  {
   "cell_type": "code",
   "execution_count": null,
   "id": "a1cb4ab7",
   "metadata": {},
   "outputs": [],
   "source": [
    "# to display the graph\n",
    "def display_graph(app):\n",
    "    # this function will display the graph of the app\n",
    "    try:\n",
    "        display(Image(app.get_graph().draw_mermaid_png()))\n",
    "    except Exception as e:\n",
    "        # This requires some extra dependencies and is optional\n",
    "        print(e)\n",
    "\n",
    "\n",
    "# To stream the output of the app\n",
    "def stream_output(app, input):\n",
    "    for output in app.stream(input):\n",
    "        for key,value in output.items():\n",
    "            print(f\"here is output from {key}\")\n",
    "            print(\"_______\")\n",
    "            print(value)\n",
    "            print(\"\\n\")"
   ]
  },
  {
   "cell_type": "code",
   "execution_count": 5,
   "id": "de57c961",
   "metadata": {},
   "outputs": [],
   "source": [
    "#defining the state\n",
    "class State(TypedDict):\n",
    "    messages:Annotated[list,add_messages]"
   ]
  },
  {
   "cell_type": "code",
   "execution_count": 6,
   "id": "cff32b47",
   "metadata": {},
   "outputs": [
    {
     "data": {
      "text/plain": [
       "AIMessage(content=\"I don't have real-time access to current weather data. To get the latest weather information for Hyderabad, you can check a reliable weather website or app like Weather.com, AccuWeather, or use a voice assistant on your device. If you'd like, I can help you with general information about Hyderabad's climate!\", additional_kwargs={'refusal': None}, response_metadata={'token_usage': {'completion_tokens': 62, 'prompt_tokens': 15, 'total_tokens': 77, 'completion_tokens_details': {'accepted_prediction_tokens': 0, 'audio_tokens': 0, 'reasoning_tokens': 0, 'rejected_prediction_tokens': 0}, 'prompt_tokens_details': {'audio_tokens': 0, 'cached_tokens': 0}}, 'model_name': 'gpt-4.1-mini-2025-04-14', 'system_fingerprint': 'fp_c064fdde7c', 'id': 'chatcmpl-COOC6SMr4d8UuOs9m7GQVBffCOPrR', 'service_tier': 'default', 'finish_reason': 'stop', 'logprobs': None}, id='run--46229eec-3b75-4776-92bd-7624bf516aed-0', usage_metadata={'input_tokens': 15, 'output_tokens': 62, 'total_tokens': 77, 'input_token_details': {'audio': 0, 'cache_read': 0}, 'output_token_details': {'audio': 0, 'reasoning': 0}})"
      ]
     },
     "execution_count": 6,
     "metadata": {},
     "output_type": "execute_result"
    }
   ],
   "source": [
    "model.invoke(\"What is the weather in hyderabad?\")"
   ]
  },
  {
   "cell_type": "markdown",
   "id": "42059d8f",
   "metadata": {},
   "source": [
    "## Part 1 : Access to tools "
   ]
  },
  {
   "cell_type": "code",
   "execution_count": 7,
   "id": "f0fa182f",
   "metadata": {},
   "outputs": [
    {
     "data": {
      "text/plain": [
       "{'query': 'What is langgraph',\n",
       " 'follow_up_questions': None,\n",
       " 'answer': None,\n",
       " 'images': [],\n",
       " 'results': [{'url': 'https://www.ibm.com/think/topics/langgraph',\n",
       "   'title': 'What is LangGraph? - IBM',\n",
       "   'content': '*   [Overview](https://www.ibm.com/think/topics/ai-agents#7281535) *   [Overview](https://www.ibm.com/think/topics/components-of-ai-agents#498277090) *   [Learning](https://www.ibm.com/think/topics/ai-agent-learning#498277087) *   [Tutorial: LangGraph ReAct agent](https://www.ibm.com/think/tutorials/deploy-langgraph-react-agent-manage-it-support-tickets-watsonx-ai#1287801557) *   [Overview](https://www.ibm.com/think/topics/ai-agent-protocols#1509394340) *   [Tutorial: LangGraph ReAct agent](https://www.ibm.com/think/tutorials/deploy-langgraph-react-agent-manage-it-support-tickets-watsonx-ai#80364620) *   [Overview](https://www.ibm.com/think/insights/ai-agent-governance#1268897081) *   [Overview](https://www.ibm.com/think/topics/ai-agent-use-cases#257779831) *   [Human resources](https://www.ibm.com/think/topics/ai-agents-in-human-resources#257779835) LangGraph, created by [LangChain](https://www.ibm.com/think/topics/langchain), is an open source AI agent framework designed to build, deploy and manage complex generative AI agent workflows. At its core, LangGraph uses the power of graph-based architectures to model and manage the intricate relationships between various components of an [AI agent workflow](https://www.ibm.com/think/topics/ai-agents). LangGraph is also built on several key technologies, including [LangChain,](https://www.ibm.com/think/topics/langchain) a Python framework for building AI applications. By combining these technologies with a set of APIs and tools, LangGraph provides users with a versatile platform for developing AI solutions and workflows including [chatbots](https://www.ibm.com/think/topics/chatbots), state graphs and [other agent-based systems](https://www.ibm.com/think/topics/multiagent-system).',\n",
       "   'score': 0.98528,\n",
       "   'raw_content': None},\n",
       "  {'url': 'https://www.langchain.com/langgraph',\n",
       "   'title': 'LangGraph - LangChain',\n",
       "   'content': \"[___](https://www.langchain.com/langgraph#) [LangSmith](https://www.langchain.com/langsmith)[LangGraph Platform](https://www.langchain.com/langgraph-platform) [LangGraph](https://langchain-ai.github.io/langgraph/tutorials/introduction/)[LangSmith](https://docs.langchain.com/langsmith/home)[LangChain](https://python.langchain.com/docs/introduction/) [See LangGraph use cases in production](https://www.langchain.com/built-with-langgraph) ![Image 44](https://cdn.prod.website-files.com/65b8cd72835ceeacd4449a53/667b080e4b3ca12dc5d5d439_Langgraph%20UI-2.webp) [Read a conceptual guide](https://langchain-ai.github.io/langgraph/concepts/agentic_concepts/#human-in-the-loop) ![Image 47](https://cdn.prod.website-files.com/65b8cd72835ceeacd4449a53/6865b895f061b6f892568ff6_Modified-Customizable-Agent-Architectures_white.gif) [See different agent architectures](https://langchain-ai.github.io/langgraph/concepts/agentic_concepts/) [Learn about agent memory](https://langchain-ai.github.io/langgraph/concepts/memory/) [![Image 52](https://cdn.prod.website-files.com/65b8cd72835ceeacd4449a53/678e35d6c553c4fb20f9b753_Frame%2099644.webp)![Image 53](https://cdn.prod.website-files.com/65b8cd72835ceeacd4449a53/6787ae0bce5c99dd808545ce_card%202.webp)](https://academy.langchain.com/courses/intro-to-langgraph) Design agent-driven user experiences with LangGraph Platform's APIs. Quickly deploy and scale your application with infrastructure built for agents. [Hear how industry leaders use LangGraph](https://www.langchain.com/built-with-langgraph) The next chapter in building complex production-ready features with LLMs is agentic, and with LangGraph and LangSmith, LangChain delivers an out-of-the-box solution to iterate quickly, debug immediately, and scale effortlessly.” LangGraph Platform is a service for deploying and scaling LangGraph applications, with an opinionated API for building agent UXs, plus an integrated developer studio. For more information, see our [LangGraph Platform pricing page](https://www.langchain.com/pricing-langgraph-platform). ![Image 70](https://cdn.prod.website-files.com/65b8cd72835ceeacd4449a53/65c6a38f9c53ec71f5fc73de_langchain-word.svg)\",\n",
       "   'score': 0.98297,\n",
       "   'raw_content': None}],\n",
       " 'response_time': 1.47,\n",
       " 'request_id': '14599159-b804-432f-b228-6210ff95591c'}"
      ]
     },
     "execution_count": 7,
     "metadata": {},
     "output_type": "execute_result"
    }
   ],
   "source": [
    "# tavily seaarch tool ---> for api go to https://app.tavily.com/home and generate an api key\n",
    "from langchain_tavily import TavilySearch\n",
    "\n",
    "search_tool=TavilySearch(max_results=2)\n",
    "search_tool.invoke(\"What is langgraph\")"
   ]
  },
  {
   "cell_type": "code",
   "execution_count": 8,
   "id": "f3ff9125",
   "metadata": {},
   "outputs": [
    {
     "data": {
      "text/plain": [
       "{'query': 'What is the weather in bangalore today',\n",
       " 'follow_up_questions': None,\n",
       " 'answer': None,\n",
       " 'images': [],\n",
       " 'results': [{'title': 'Weather in bangalore',\n",
       "   'url': 'https://www.weatherapi.com/',\n",
       "   'content': \"{'location': {'name': 'Bangalore', 'region': 'Karnataka', 'country': 'India', 'lat': 12.9833, 'lon': 77.5833, 'tz_id': 'Asia/Kolkata', 'localtime_epoch': 1759929393, 'localtime': '2025-10-08 18:46'}, 'current': {'last_updated_epoch': 1759929300, 'last_updated': '2025-10-08 18:45', 'temp_c': 24.0, 'temp_f': 75.2, 'is_day': 0, 'condition': {'text': 'Partly cloudy', 'icon': '//cdn.weatherapi.com/weather/64x64/night/116.png', 'code': 1003}, 'wind_mph': 4.3, 'wind_kph': 6.8, 'wind_degree': 100, 'wind_dir': 'E', 'pressure_mb': 1014.0, 'pressure_in': 29.94, 'precip_mm': 0.03, 'precip_in': 0.0, 'humidity': 83, 'cloud': 75, 'feelslike_c': 25.8, 'feelslike_f': 78.5, 'windchill_c': 23.8, 'windchill_f': 74.8, 'heatindex_c': 25.6, 'heatindex_f': 78.2, 'dewpoint_c': 19.5, 'dewpoint_f': 67.1, 'vis_km': 6.0, 'vis_miles': 3.0, 'uv': 0.0, 'gust_mph': 7.3, 'gust_kph': 11.7}}\",\n",
       "   'score': 0.9914662,\n",
       "   'raw_content': None},\n",
       "  {'url': 'https://www.accuweather.com/en/in/bengaluru/204108/august-weather/204108',\n",
       "   'title': 'Bengaluru, Karnataka, India Monthly Weather | AccuWeather',\n",
       "   'content': 'Get the monthly weather forecast for Bengaluru, Karnataka, India, including daily high/low, historical averages, to help you plan ahead.',\n",
       "   'score': 0.98576,\n",
       "   'raw_content': None}],\n",
       " 'response_time': 2.21,\n",
       " 'request_id': 'b0b0f66b-9763-4aa3-b941-5d7eab00768d'}"
      ]
     },
     "execution_count": 8,
     "metadata": {},
     "output_type": "execute_result"
    }
   ],
   "source": [
    "search_tool.invoke(\"What is the weather in bangalore today\")"
   ]
  },
  {
   "cell_type": "markdown",
   "id": "5ec3900c",
   "metadata": {},
   "source": [
    "## Lets create 6 tools"
   ]
  },
  {
   "cell_type": "code",
   "execution_count": 10,
   "id": "9a6f6516",
   "metadata": {},
   "outputs": [],
   "source": [
    "\n",
    "#defining search tool\n",
    "search_tool = TavilySearch(max_results=2)\n",
    "\n",
    "\n",
    "def search_web(user_question):\n",
    "    \"\"\"\n",
    "    This function will search a web search for the user question\n",
    "    Args:\n",
    "        user_question (str): The question to search\n",
    "    Returns:\n",
    "        search_results (list): The search results\n",
    "    \"\"\"\n",
    "    search_results = search_tool.invoke(user_question)[\"results\"]\n",
    "    return search_results\n",
    "\n",
    "#mathematical tool - addition\n",
    "def add_numbers(a,b):\n",
    "    \"\"\"\n",
    "    This function will add two numbers\n",
    "    Args:\n",
    "        a (int): The first number\n",
    "        b (int): The second number\n",
    "    Returns:\n",
    "        result (int): The sum of the two numbers\n",
    "    \"\"\"\n",
    "    return a+b\n",
    "\n",
    "#mathematical tool - subtraction\n",
    "def subtract_numbers(a,b):\n",
    "    \"\"\"\n",
    "    This function will subtract two numbers\n",
    "    Args:\n",
    "        a (int): The first number\n",
    "        b (int): The second number\n",
    "    Returns:\n",
    "        result (int): The difference of the two numbers\n",
    "    \"\"\"\n",
    "    return a-b\n",
    "\n",
    "#mathematical tool - multiplication\n",
    "def multiply_numbers(a,b):\n",
    "    \"\"\"\n",
    "    This function will multiply two numbers\n",
    "    Args:\n",
    "        a (int): The first number\n",
    "        b (int): The second number\n",
    "    Returns:\n",
    "        result (int): The product of the two numbers\n",
    "    \"\"\"\n",
    "    return a*b\n",
    "\n",
    "#mathematical tool - division\n",
    "def divide_numbers(a,b):\n",
    "    \"\"\"\n",
    "    This function will divide two numbers\n",
    "    Args:\n",
    "        a (int): The first number\n",
    "        b (int): The second number\n",
    "    Returns:\n",
    "        result (int): The quotient of the two numbers\n",
    "    \"\"\"\n",
    "    return a/b\n",
    "\n",
    "\n",
    "# tool to get the current time\n",
    "def get_current_time():\n",
    "    \"\"\"\n",
    "    This function will get the current time\n",
    "    Returns:\n",
    "        result (str): The current time\n",
    "    \"\"\"\n",
    "    return datetime.now().strftime(\"%H:%M:%S\")\n"
   ]
  },
  {
   "cell_type": "code",
   "execution_count": 11,
   "id": "5e3c849f",
   "metadata": {},
   "outputs": [],
   "source": [
    "tools_list = [search_web, add_numbers, subtract_numbers, multiply_numbers, divide_numbers, get_current_time]"
   ]
  },
  {
   "cell_type": "code",
   "execution_count": 12,
   "id": "4f1ebea5",
   "metadata": {},
   "outputs": [],
   "source": [
    "#bind the tools with llm\n",
    "llm_with_tool = model.bind_tools(tools_list)"
   ]
  },
  {
   "cell_type": "code",
   "execution_count": 13,
   "id": "00c532e6",
   "metadata": {},
   "outputs": [
    {
     "data": {
      "text/plain": [
       "AIMessage(content='', additional_kwargs={'tool_calls': [{'id': 'call_ILyoYiUpTWpItrNuiGOg4R0P', 'function': {'arguments': '{\"user_question\":\"weather of Bangalore today\"}', 'name': 'search_web'}, 'type': 'function'}], 'refusal': None}, response_metadata={'token_usage': {'completion_tokens': 18, 'prompt_tokens': 348, 'total_tokens': 366, 'completion_tokens_details': {'accepted_prediction_tokens': 0, 'audio_tokens': 0, 'reasoning_tokens': 0, 'rejected_prediction_tokens': 0}, 'prompt_tokens_details': {'audio_tokens': 0, 'cached_tokens': 0}}, 'model_name': 'gpt-4.1-mini-2025-04-14', 'system_fingerprint': 'fp_95d112f245', 'id': 'chatcmpl-COOHAveErTxfWGJdW2GK1Y2yFkAqT', 'service_tier': 'default', 'finish_reason': 'tool_calls', 'logprobs': None}, id='run--5a5e5273-f4ee-4c2c-86cf-5e2878229a8e-0', tool_calls=[{'name': 'search_web', 'args': {'user_question': 'weather of Bangalore today'}, 'id': 'call_ILyoYiUpTWpItrNuiGOg4R0P', 'type': 'tool_call'}], usage_metadata={'input_tokens': 348, 'output_tokens': 18, 'total_tokens': 366, 'input_token_details': {'audio': 0, 'cache_read': 0}, 'output_token_details': {'audio': 0, 'reasoning': 0}})"
      ]
     },
     "execution_count": 13,
     "metadata": {},
     "output_type": "execute_result"
    }
   ],
   "source": [
    "llm_with_tool.invoke(\"What is the weather of bangalore today?\")"
   ]
  },
  {
   "cell_type": "code",
   "execution_count": 14,
   "id": "89885fa3",
   "metadata": {},
   "outputs": [],
   "source": [
    "def tool_calling_llm(state: State):\n",
    "\n",
    "    response = llm_with_tool.invoke(state[\"messages\"])\n",
    "    return {\"messages\": [response]}"
   ]
  },
  {
   "cell_type": "code",
   "execution_count": 15,
   "id": "6a02eed0",
   "metadata": {},
   "outputs": [],
   "source": [
    "#define the workflow\n",
    "from langgraph.graph import StateGraph,START,END\n",
    "from langgraph.prebuilt import ToolNode\n",
    "from langgraph.prebuilt import tools_condition\n",
    "\n",
    "graph = StateGraph(State)\n",
    "\n",
    "graph.add_node(\"LLM binded with tools\" , tool_calling_llm)\n",
    "graph.add_node(\"tools\" , ToolNode(tools_list))\n",
    "\n",
    "graph.add_edge(START, \"LLM binded with tools\")\n",
    "graph.add_conditional_edges(\n",
    "    \"LLM binded with tools\",\n",
    "    #if the tool is called then it will go to the next node else it will go to the end node\n",
    "    tools_condition\n",
    ")\n",
    "\n",
    "graph.add_edge(\"tools\" , END)\n",
    "\n",
    "app = graph.compile()"
   ]
  },
  {
   "cell_type": "code",
   "execution_count": 16,
   "id": "2d640cab",
   "metadata": {},
   "outputs": [
    {
     "data": {
      "image/png": "[encoded data removed]",
      "text/plain": [
       "<IPython.core.display.Image object>"
      ]
     },
     "metadata": {},
     "output_type": "display_data"
    }
   ],
   "source": [
    "display_graph(app)"
   ]
  },
  {
   "cell_type": "code",
   "execution_count": 19,
   "id": "139d1509",
   "metadata": {},
   "outputs": [],
   "source": [
    "response = app.invoke({\n",
    "    \"messages\": [\"hey how are you\"]\n",
    "})"
   ]
  },
  {
   "cell_type": "code",
   "execution_count": 20,
   "id": "16c2e425",
   "metadata": {},
   "outputs": [
    {
     "name": "stdout",
     "output_type": "stream",
     "text": [
      "================================\u001b[1m Human Message \u001b[0m=================================\n",
      "\n",
      "hey how are you\n",
      "==================================\u001b[1m Ai Message \u001b[0m==================================\n",
      "\n",
      "Hello! I'm just a bunch of code, so I don't have feelings, but I'm here and ready to help you. How can I assist you today?\n"
     ]
    }
   ],
   "source": [
    "for m in response['messages']:\n",
    "    m.pretty_print()"
   ]
  },
  {
   "cell_type": "code",
   "execution_count": 21,
   "id": "991f6a8f",
   "metadata": {},
   "outputs": [],
   "source": [
    "response = app.invoke({\n",
    "    \"messages\": [\"What is the weather in bangalore today?\"]\n",
    "})"
   ]
  },
  {
   "cell_type": "code",
   "execution_count": 22,
   "id": "17149af7",
   "metadata": {},
   "outputs": [
    {
     "name": "stdout",
     "output_type": "stream",
     "text": [
      "================================\u001b[1m Human Message \u001b[0m=================================\n",
      "\n",
      "What is the weather in bangalore today?\n",
      "==================================\u001b[1m Ai Message \u001b[0m==================================\n",
      "Tool Calls:\n",
      "  search_web (call_GywQOCiU9SBX7FKhQtRegpRN)\n",
      " Call ID: call_GywQOCiU9SBX7FKhQtRegpRN\n",
      "  Args:\n",
      "    user_question: weather in Bangalore today\n",
      "=================================\u001b[1m Tool Message \u001b[0m=================================\n",
      "Name: search_web\n",
      "\n",
      "[{\"title\": \"Weather in Bangalore\", \"url\": \"https://www.weatherapi.com/\", \"content\": \"{'location': {'name': 'Bangalore', 'region': 'Karnataka', 'country': 'India', 'lat': 12.9833, 'lon': 77.5833, 'tz_id': 'Asia/Kolkata', 'localtime_epoch': 1759929629, 'localtime': '2025-10-08 18:50'}, 'current': {'last_updated_epoch': 1759929300, 'last_updated': '2025-10-08 18:45', 'temp_c': 23.0, 'temp_f': 73.4, 'is_day': 0, 'condition': {'text': 'Partly cloudy', 'icon': '//cdn.weatherapi.com/weather/64x64/night/116.png', 'code': 1003}, 'wind_mph': 4.3, 'wind_kph': 6.8, 'wind_degree': 100, 'wind_dir': 'E', 'pressure_mb': 1015.0, 'pressure_in': 29.97, 'precip_mm': 0.03, 'precip_in': 0.0, 'humidity': 89, 'cloud': 75, 'feelslike_c': 25.1, 'feelslike_f': 77.1, 'windchill_c': 23.8, 'windchill_f': 74.8, 'heatindex_c': 25.6, 'heatindex_f': 78.2, 'dewpoint_c': 19.5, 'dewpoint_f': 67.1, 'vis_km': 6.0, 'vis_miles': 3.0, 'uv': 0.0, 'gust_mph': 7.3, 'gust_kph': 11.7}}\", \"score\": 0.9854867, \"raw_content\": null}, {\"url\": \"https://www.indiatoday.in/weather/bangalore-weather-forecast-today\", \"title\": \"Bangalore Weather Today (Wednesday, Oct 08, 2025) - India Today\", \"content\": \"The minimum temperature in Bangalore today is likely to hover around 21 degrees Celsius, while the maximum temperature might reach 28 degrees Celsius.\", \"score\": 0.95468557, \"raw_content\": null}]\n"
     ]
    }
   ],
   "source": [
    "for m in response['messages']:\n",
    "    m.pretty_print()"
   ]
  },
  {
   "cell_type": "code",
   "execution_count": 23,
   "id": "53a39863",
   "metadata": {},
   "outputs": [
    {
     "name": "stdout",
     "output_type": "stream",
     "text": [
      "================================\u001b[1m Human Message \u001b[0m=================================\n",
      "\n",
      "What is 5 multiplied by 4\n",
      "==================================\u001b[1m Ai Message \u001b[0m==================================\n",
      "Tool Calls:\n",
      "  multiply_numbers (call_Z6oLUknZHLVBsKEJvDakKKgK)\n",
      " Call ID: call_Z6oLUknZHLVBsKEJvDakKKgK\n",
      "  Args:\n",
      "    a: 5\n",
      "    b: 4\n",
      "=================================\u001b[1m Tool Message \u001b[0m=================================\n",
      "Name: multiply_numbers\n",
      "\n",
      "20\n"
     ]
    }
   ],
   "source": [
    "response=app.invoke({\"messages\":\"What is 5 multiplied by 4\"})\n",
    "for m in response['messages']:\n",
    "    m.pretty_print()"
   ]
  },
  {
   "cell_type": "code",
   "execution_count": 24,
   "id": "bc027a11",
   "metadata": {},
   "outputs": [
    {
     "name": "stdout",
     "output_type": "stream",
     "text": [
      "================================\u001b[1m Human Message \u001b[0m=================================\n",
      "\n",
      "What is 5 multiplied by 4 and where is taj mahal\n",
      "==================================\u001b[1m Ai Message \u001b[0m==================================\n",
      "Tool Calls:\n",
      "  multiply_numbers (call_NbV1YYO7DYsbN54D96Frpd1V)\n",
      " Call ID: call_NbV1YYO7DYsbN54D96Frpd1V\n",
      "  Args:\n",
      "    a: 5\n",
      "    b: 4\n",
      "  search_web (call_LoqCtQ2IDkkn3PMJbJM3T25Z)\n",
      " Call ID: call_LoqCtQ2IDkkn3PMJbJM3T25Z\n",
      "  Args:\n",
      "    user_question: Where is Taj Mahal?\n",
      "=================================\u001b[1m Tool Message \u001b[0m=================================\n",
      "Name: multiply_numbers\n",
      "\n",
      "20\n",
      "=================================\u001b[1m Tool Message \u001b[0m=================================\n",
      "Name: search_web\n",
      "\n",
      "[{\"url\": \"https://en.wikipedia.org/wiki/Taj_Mahal\", \"title\": \"Taj Mahal - Wikipedia\", \"content\": \"[Jump to content](https://en.wikipedia.org/wiki/Taj_Mahal#bodyContent) *   [Random article](https://en.wikipedia.org/wiki/Special:Random \\\"Visit a randomly selected article [x]\\\") [Search](https://en.wikipedia.org/wiki/Special:Search \\\"Search Wikipedia [f]\\\") *   [(Top)](https://en.wikipedia.org/wiki/Taj_Mahal#) *   [1 Etymology](https://en.wikipedia.org/wiki/Taj_Mahal#Etymology) *   [2 Inspiration](https://en.wikipedia.org/wiki/Taj_Mahal#Inspiration) *   [3.1 Exterior](https://en.wikipedia.org/wiki/Taj_Mahal#Exterior) *   [3.2 Interior](https://en.wikipedia.org/wiki/Taj_Mahal#Interior) *   [3.3 Garden](https://en.wikipedia.org/wiki/Taj_Mahal#Garden) *   [3.4 Outlying buildings](https://en.wikipedia.org/wiki/Taj_Mahal#Outlying_buildings) *   [4 Construction](https://en.wikipedia.org/wiki/Taj_Mahal#Construction) *   [5 Later years](https://en.wikipedia.org/wiki/Taj_Mahal#Later_years) *   [6 Symbolism](https://en.wikipedia.org/wiki/Taj_Mahal#Symbolism) *   [7 Tourism](https://en.wikipedia.org/wiki/Taj_Mahal#Tourism) *   [8 Myths](https://en.wikipedia.org/wiki/Taj_Mahal#Myths) *   [9 See also](https://en.wikipedia.org/wiki/Taj_Mahal#See_also) *   [10 Notes](https://en.wikipedia.org/wiki/Taj_Mahal#Notes) *   [11 References](https://en.wikipedia.org/wiki/Taj_Mahal#References)Toggle References subsection *   [11.1 Citations](https://en.wikipedia.org/wiki/Taj_Mahal#Citations) *   [11.2 General sources](https://en.wikipedia.org/wiki/Taj_Mahal#General_sources) *   [12 External links](https://en.wikipedia.org/wiki/Taj_Mahal#External_links) *   [Corsu](https://co.wikipedia.org/wiki/Taj_Mahal \\\"Taj Mahal – Corsican\\\") *   [Deutsch](https://de.wikipedia.org/wiki/Taj_Mahal \\\"Taj Mahal – German\\\") *   [Interlingue](https://ie.wikipedia.org/wiki/Taj_Mahal \\\"Taj Mahal – Interlingue\\\") *   [Íslenska](https://is.wikipedia.org/wiki/Taj_Mahal \\\"Taj Mahal – Icelandic\\\") *   [Italiano](https://it.wikipedia.org/wiki/Taj_Mahal \\\"Taj Mahal – Italian\\\") *   [Latina](https://la.wikipedia.org/wiki/Taj_Mahal \\\"Taj Mahal – Latin\\\") *   [Taj Mahal](https://en.wikipedia.org/wiki/Category:Taj_Mahal \\\"Category:Taj Mahal\\\") 166 languages[Add topic](https://en.wikipedia.org/wiki/Taj_Mahal#)\", \"score\": 0.98524, \"raw_content\": null}, {\"url\": \"https://whc.unesco.org/en/list/252/\", \"title\": \"Taj Mahal - UNESCO World Heritage Centre\", \"content\": \"[Browse all activities](https://whc.unesco.org/en/activities/)[World Heritage Canopy](https://whc.unesco.org/en/canopy/)[Heritage Solutions for Sustainable Futures](https://whc.unesco.org/en/canopy/) [Browse case studies](https://whc.unesco.org/en/canopy/) [Featured Activities](https://whc.unesco.org/en/activities/) [Indicators Culture|2030](https://whc.unesco.org/en/culture2030indicators/) [World Heritage Cities Programme](https://whc.unesco.org/en/cities/) [Recommendation on the Historic Urban Landscape](https://whc.unesco.org/en/hul/) [Cultural Landscapes](https://whc.unesco.org/en/culturallandscape/) [Capacity Building](https://whc.unesco.org/en/capacity-building/) [Category 2 Centres](https://whc.unesco.org/en/category2centres/)  [Natural World Heritage](https://whc.unesco.org/en/natural-world-heritage/) [Climate Change and World Heritage](https://whc.unesco.org/en/climatechange/) [World Heritage Marine Programme](https://whc.unesco.org/en/marine-programme/) [World Heritage and Biodiversity](https://whc.unesco.org/en/biodiversity/) [Corporate sector and the World Heritage ‘no-go’ commitment](https://whc.unesco.org/en/no-go-commitment/) [Reducing Disasters Risks at World Heritage Properties](https://whc.unesco.org/en/disaster-risk-reduction/) [World Heritage and Indigenous Peoples](https://whc.unesco.org/en/activities/496/)  [World Heritage Education Programme](https://whc.unesco.org/en/wheducation/) [World Heritage Volunteers Initiative](https://whc.unesco.org/en/whvolunteers/) [World Heritage and Sustainable Development](https://whc.unesco.org/en/sustainabledevelopment/) [Sustainable Tourism Programme](https://whc.unesco.org/en/tourism/) [World Heritage Programme for Small Island Developing States (SIDS)](https://whc.unesco.org/en/sids/) [Initiative on Heritage of Religious Interest](https://whc.unesco.org/en/religious-sacred-heritage/)     [The List](https://whc.unesco.org/en/list/)[Taj Mahal](https://whc.unesco.org/en/list/252/) [![Image 7: Taj Mahal](https://whc.unesco.org/uploads/thumbs/site_0252_0008-400-400-20250108121530.webp)](https://whc.unesco.org/en/list/252/gallery/) [Monnaie de Paris produces diamond-studded Taj Mahal coin](https://whc.unesco.org/en/news/687/) [play_arrow NHK World Heritage 100 Series](https://whc.unesco.org/en/list/252/video) [play_arrow Taj Mahal (UNESCO/NHK)](https://whc.unesco.org/en/list/252/video) 5.   [World Heritage List](https://whc.unesco.org/en/list/) [© UNESCO World Heritage Centre 1992-2025](https://whc.unesco.org/en/disclaimer/)\", \"score\": 0.98405, \"raw_content\": null}]\n"
     ]
    }
   ],
   "source": [
    "## this is something to note about \n",
    "response=app.invoke({\"messages\":\"What is 5 multiplied by 4 and where is taj mahal\"})\n",
    "for m in response['messages']:\n",
    "    m.pretty_print()"
   ]
  },
  {
   "cell_type": "markdown",
   "id": "abdf7692",
   "metadata": {},
   "source": [
    "## Part 2: Improving the workflow by passing the tools output back to llm - ReACT agent"
   ]
  },
  {
   "cell_type": "code",
   "execution_count": 25,
   "id": "14ae50e0",
   "metadata": {},
   "outputs": [],
   "source": [
    "# define the workflow\n",
    "from langgraph.graph import StateGraph,START,END\n",
    "from langgraph.prebuilt import ToolNode\n",
    "from langgraph.prebuilt import tools_condition\n",
    "\n",
    "workflow = StateGraph(State)\n",
    "\n",
    "workflow.add_node(\"LLM binded with tools\", tool_calling_llm)\n",
    "workflow.add_node(\"tools\" , ToolNode(tools_list))\n",
    "\n",
    "workflow.add_edge(START, \"LLM binded with tools\")\n",
    "workflow.add_conditional_edges(\n",
    "    \"LLM binded with tools\",\n",
    "    tools_condition\n",
    ")\n",
    "workflow.add_edge(\"tools\", \"LLM binded with tools\")\n",
    "\n",
    "app2 = workflow.compile()"
   ]
  },
  {
   "cell_type": "code",
   "execution_count": 26,
   "id": "e615e4eb",
   "metadata": {},
   "outputs": [
    {
     "data": {
      "image/png": "[encoded data removed]",
      "text/plain": [
       "<IPython.core.display.Image object>"
      ]
     },
     "metadata": {},
     "output_type": "display_data"
    }
   ],
   "source": [
    "display_graph(app2)"
   ]
  },
  {
   "cell_type": "code",
   "execution_count": 27,
   "id": "c4c768c7",
   "metadata": {},
   "outputs": [],
   "source": [
    "response = app2.invoke(\n",
    "    {\n",
    "        \"messages\" : [\" What is 4 multiplied by 5 and who built tajamahal?\"]\n",
    "    }\n",
    ")"
   ]
  },
  {
   "cell_type": "code",
   "execution_count": 28,
   "id": "338eccdd",
   "metadata": {},
   "outputs": [
    {
     "name": "stdout",
     "output_type": "stream",
     "text": [
      "================================\u001b[1m Human Message \u001b[0m=================================\n",
      "\n",
      " What is 4 multiplied by 5 and who built tajamahal?\n",
      "==================================\u001b[1m Ai Message \u001b[0m==================================\n",
      "Tool Calls:\n",
      "  multiply_numbers (call_tLF8GxRg9BRBJPjJFJ7h3jYU)\n",
      " Call ID: call_tLF8GxRg9BRBJPjJFJ7h3jYU\n",
      "  Args:\n",
      "    a: 4\n",
      "    b: 5\n",
      "  search_web (call_JdFmXW1ioxF9JjmnmMLGoVjl)\n",
      " Call ID: call_JdFmXW1ioxF9JjmnmMLGoVjl\n",
      "  Args:\n",
      "    user_question: Who built the Taj Mahal?\n",
      "=================================\u001b[1m Tool Message \u001b[0m=================================\n",
      "Name: multiply_numbers\n",
      "\n",
      "20\n",
      "=================================\u001b[1m Tool Message \u001b[0m=================================\n",
      "Name: search_web\n",
      "\n",
      "[{\"url\": \"https://www.ebsco.com/research-starters/architecture/shah-jahan-builds-taj-mahal\", \"title\": \"Shah Jahan Builds the Taj Mahal | Research Starters - EBSCO\", \"content\": \"# Shah Jahan Builds the Taj Mahal # Shah Jahan Builds the Taj Mahal *The grand Taj Mahal was built by Mughal emperor Shah Jahan, according to one popular legend, to remember the love he shared with his favorite wife, Mumtaz Mahal. * Mumtaz Mahal (1593–1631), Shah Jahan’s favorite wife, for whom he built the Taj Mahal Mumtaz was buried temporarily, while the grief-stricken Shah Jahan proceeded to build the most beautiful mausoleum possible: the Taj Mahal, constructed as a lasting symbol of the love between himself and Mumtaz. Shah Jahan also built the Moti Masjid (the Pearl Mosque) within Āgra Fort, northwest of the Taj Mahal. Shah Jahan’s architectural masterpiece, the Taj Mahal, is considered one of the world’s most beautiful buildings and is a popular tourist attraction.\", \"score\": 0.890761, \"raw_content\": null}, {\"url\": \"https://www.tajmahal.gov.in/creation-history-of-taj-mahal.aspx\", \"title\": \"Creation History - Taj Mahal\", \"content\": \"*   Nearby Attractions Agra Beyond Taj *   Views of Taj *   About Taj Mahal The Taj Mahal is actually an integrated complex of structures with the white domed marble mausoleum being its most significant component. Entrusted to a board-of-architects by the Emperor Shah Jahan, the construction of the Taj Complex began about 1631 AD. The vegetative tracery, inlay work and most obviously the lotus dome and finial of the Taj Mahal are all testament to this synthesis. History obscures precisely who designed the Taj Mahal. Some of the builders involved in construction of Taj Mahal under the master supervision of the Emperor Shah Jahan himself are: This is the official Website of Taj Mahal - Department of Tourism, Government of Uttar Pradesh, India.\", \"score\": 0.8033131, \"raw_content\": null}]\n",
      "==================================\u001b[1m Ai Message \u001b[0m==================================\n",
      "\n",
      "4 multiplied by 5 is 20. \n",
      "\n",
      "The Taj Mahal was built by the Mughal emperor Shah Jahan. It was constructed as a lasting symbol of love for his favorite wife, Mumtaz Mahal.\n"
     ]
    }
   ],
   "source": [
    "for m in response['messages']:\n",
    "    m.pretty_print()\n"
   ]
  },
  {
   "cell_type": "markdown",
   "id": "e65a8d5d",
   "metadata": {},
   "source": [
    "## Part 3: Inbuilt ReACT agent by langgraph"
   ]
  },
  {
   "cell_type": "code",
   "execution_count": 29,
   "id": "353ba071",
   "metadata": {},
   "outputs": [],
   "source": [
    "from langgraph.prebuilt import create_react_agent"
   ]
  },
  {
   "cell_type": "code",
   "execution_count": 30,
   "id": "6becea8c",
   "metadata": {},
   "outputs": [],
   "source": [
    "react_agent = create_react_agent(\n",
    "    model=model,\n",
    "    tools=tools_list\n",
    ")"
   ]
  },
  {
   "cell_type": "code",
   "execution_count": 31,
   "id": "38c3a892",
   "metadata": {},
   "outputs": [
    {
     "name": "stdout",
     "output_type": "stream",
     "text": [
      "================================\u001b[1m Human Message \u001b[0m=================================\n",
      "\n",
      "What is 5 multiplied by 4 and who built taj mahal\n",
      "==================================\u001b[1m Ai Message \u001b[0m==================================\n",
      "Tool Calls:\n",
      "  multiply_numbers (call_KteHFoocA4Y8cwTSb6taEZ9d)\n",
      " Call ID: call_KteHFoocA4Y8cwTSb6taEZ9d\n",
      "  Args:\n",
      "    a: 5\n",
      "    b: 4\n",
      "  search_web (call_SwgFrpIrPBLJR1lROPsIDVnF)\n",
      " Call ID: call_SwgFrpIrPBLJR1lROPsIDVnF\n",
      "  Args:\n",
      "    user_question: Who built Taj Mahal?\n",
      "=================================\u001b[1m Tool Message \u001b[0m=================================\n",
      "Name: multiply_numbers\n",
      "\n",
      "20\n",
      "=================================\u001b[1m Tool Message \u001b[0m=================================\n",
      "Name: search_web\n",
      "\n",
      "[{\"url\": \"https://en.wikipedia.org/wiki/Taj_Mahal\", \"title\": \"Taj Mahal - Wikipedia\", \"content\": \"[Jump to content](https://en.wikipedia.org/wiki/Taj_Mahal#bodyContent) *   [Random article](https://en.wikipedia.org/wiki/Special:Random \\\"Visit a randomly selected article [x]\\\") [Search](https://en.wikipedia.org/wiki/Special:Search \\\"Search Wikipedia [f]\\\") *   [(Top)](https://en.wikipedia.org/wiki/Taj_Mahal#) *   [1 Etymology](https://en.wikipedia.org/wiki/Taj_Mahal#Etymology) *   [2 Inspiration](https://en.wikipedia.org/wiki/Taj_Mahal#Inspiration) *   [3.1 Exterior](https://en.wikipedia.org/wiki/Taj_Mahal#Exterior) *   [3.2 Interior](https://en.wikipedia.org/wiki/Taj_Mahal#Interior) *   [3.3 Garden](https://en.wikipedia.org/wiki/Taj_Mahal#Garden) *   [3.4 Outlying buildings](https://en.wikipedia.org/wiki/Taj_Mahal#Outlying_buildings) *   [4 Construction](https://en.wikipedia.org/wiki/Taj_Mahal#Construction) *   [5 Later years](https://en.wikipedia.org/wiki/Taj_Mahal#Later_years) *   [6 Symbolism](https://en.wikipedia.org/wiki/Taj_Mahal#Symbolism) *   [7 Tourism](https://en.wikipedia.org/wiki/Taj_Mahal#Tourism) *   [8 Myths](https://en.wikipedia.org/wiki/Taj_Mahal#Myths) *   [9 See also](https://en.wikipedia.org/wiki/Taj_Mahal#See_also) *   [10 Notes](https://en.wikipedia.org/wiki/Taj_Mahal#Notes) *   [11 References](https://en.wikipedia.org/wiki/Taj_Mahal#References)Toggle References subsection *   [11.1 Citations](https://en.wikipedia.org/wiki/Taj_Mahal#Citations) *   [11.2 General sources](https://en.wikipedia.org/wiki/Taj_Mahal#General_sources) *   [12 External links](https://en.wikipedia.org/wiki/Taj_Mahal#External_links) *   [Corsu](https://co.wikipedia.org/wiki/Taj_Mahal \\\"Taj Mahal – Corsican\\\") *   [Deutsch](https://de.wikipedia.org/wiki/Taj_Mahal \\\"Taj Mahal – German\\\") *   [Interlingue](https://ie.wikipedia.org/wiki/Taj_Mahal \\\"Taj Mahal – Interlingue\\\") *   [Íslenska](https://is.wikipedia.org/wiki/Taj_Mahal \\\"Taj Mahal – Icelandic\\\") *   [Italiano](https://it.wikipedia.org/wiki/Taj_Mahal \\\"Taj Mahal – Italian\\\") *   [Latina](https://la.wikipedia.org/wiki/Taj_Mahal \\\"Taj Mahal – Latin\\\") *   [Taj Mahal](https://en.wikipedia.org/wiki/Category:Taj_Mahal \\\"Category:Taj Mahal\\\") 166 languages[Add topic](https://en.wikipedia.org/wiki/Taj_Mahal#)\", \"score\": 0.98551, \"raw_content\": null}, {\"url\": \"https://whc.unesco.org/en/list/252/\", \"title\": \"Taj Mahal - UNESCO World Heritage Centre\", \"content\": \"[Browse all activities](https://whc.unesco.org/en/activities/)[World Heritage Canopy](https://whc.unesco.org/en/canopy/)[Heritage Solutions for Sustainable Futures](https://whc.unesco.org/en/canopy/) [Browse case studies](https://whc.unesco.org/en/canopy/) [Featured Activities](https://whc.unesco.org/en/activities/) [Indicators Culture|2030](https://whc.unesco.org/en/culture2030indicators/) [World Heritage Cities Programme](https://whc.unesco.org/en/cities/) [Recommendation on the Historic Urban Landscape](https://whc.unesco.org/en/hul/) [Cultural Landscapes](https://whc.unesco.org/en/culturallandscape/) [Capacity Building](https://whc.unesco.org/en/capacity-building/) [Category 2 Centres](https://whc.unesco.org/en/category2centres/)  [Natural World Heritage](https://whc.unesco.org/en/natural-world-heritage/) [Climate Change and World Heritage](https://whc.unesco.org/en/climatechange/) [World Heritage Marine Programme](https://whc.unesco.org/en/marine-programme/) [World Heritage and Biodiversity](https://whc.unesco.org/en/biodiversity/) [Corporate sector and the World Heritage ‘no-go’ commitment](https://whc.unesco.org/en/no-go-commitment/) [Reducing Disasters Risks at World Heritage Properties](https://whc.unesco.org/en/disaster-risk-reduction/) [World Heritage and Indigenous Peoples](https://whc.unesco.org/en/activities/496/)  [World Heritage Education Programme](https://whc.unesco.org/en/wheducation/) [World Heritage Volunteers Initiative](https://whc.unesco.org/en/whvolunteers/) [World Heritage and Sustainable Development](https://whc.unesco.org/en/sustainabledevelopment/) [Sustainable Tourism Programme](https://whc.unesco.org/en/tourism/) [World Heritage Programme for Small Island Developing States (SIDS)](https://whc.unesco.org/en/sids/) [Initiative on Heritage of Religious Interest](https://whc.unesco.org/en/religious-sacred-heritage/)     [The List](https://whc.unesco.org/en/list/)[Taj Mahal](https://whc.unesco.org/en/list/252/) [![Image 7: Taj Mahal](https://whc.unesco.org/uploads/thumbs/site_0252_0008-400-400-20250108121530.webp)](https://whc.unesco.org/en/list/252/gallery/) [Monnaie de Paris produces diamond-studded Taj Mahal coin](https://whc.unesco.org/en/news/687/) [play_arrow NHK World Heritage 100 Series](https://whc.unesco.org/en/list/252/video) [play_arrow Taj Mahal (UNESCO/NHK)](https://whc.unesco.org/en/list/252/video) 5.   [World Heritage List](https://whc.unesco.org/en/list/) [© UNESCO World Heritage Centre 1992-2025](https://whc.unesco.org/en/disclaimer/)\", \"score\": 0.98365, \"raw_content\": null}]\n",
      "==================================\u001b[1m Ai Message \u001b[0m==================================\n",
      "\n",
      "5 multiplied by 4 is 20.\n",
      "\n",
      "The Taj Mahal was built by the Mughal Emperor Shah Jahan.\n"
     ]
    }
   ],
   "source": [
    "response = react_agent.invoke({\"messages\":\"What is 5 multiplied by 4 and who built taj mahal\"})\n",
    "for m in response['messages']:\n",
    "    m.pretty_print()"
   ]
  },
  {
   "cell_type": "markdown",
   "id": "b676a9e9",
   "metadata": {},
   "source": [
    "## Part 4 : Memory in langgraphs"
   ]
  },
  {
   "cell_type": "code",
   "execution_count": 32,
   "id": "093272fe",
   "metadata": {},
   "outputs": [
    {
     "data": {
      "text/plain": [
       "{'messages': [HumanMessage(content='Hey my name is Suman', additional_kwargs={}, response_metadata={}, id='20ecff68-ae69-4f08-8bdb-aa35c9ce43b7'),\n",
       "  AIMessage(content='Hello Suman! How can I assist you today?', additional_kwargs={'refusal': None}, response_metadata={'token_usage': {'completion_tokens': 12, 'prompt_tokens': 345, 'total_tokens': 357, 'completion_tokens_details': {'accepted_prediction_tokens': 0, 'audio_tokens': 0, 'reasoning_tokens': 0, 'rejected_prediction_tokens': 0}, 'prompt_tokens_details': {'audio_tokens': 0, 'cached_tokens': 0}}, 'model_name': 'gpt-4.1-mini-2025-04-14', 'system_fingerprint': 'fp_95d112f245', 'id': 'chatcmpl-COObTNUrv7rtNq5eek6KTF3021wp7', 'service_tier': 'default', 'finish_reason': 'stop', 'logprobs': None}, id='run--d5c09d53-1041-4c07-9b4b-7f403969c765-0', usage_metadata={'input_tokens': 345, 'output_tokens': 12, 'total_tokens': 357, 'input_token_details': {'audio': 0, 'cache_read': 0}, 'output_token_details': {'audio': 0, 'reasoning': 0}})]}"
      ]
     },
     "execution_count": 32,
     "metadata": {},
     "output_type": "execute_result"
    }
   ],
   "source": [
    "app2.invoke({\"messages\":\"Hey my name is Suman\"})"
   ]
  },
  {
   "cell_type": "code",
   "execution_count": 33,
   "id": "b3efa1fb",
   "metadata": {},
   "outputs": [
    {
     "data": {
      "text/plain": [
       "{'messages': [HumanMessage(content='Hey what is my name', additional_kwargs={}, response_metadata={}, id='55d42a4a-32d8-45b9-b0ef-2504893aac9e'),\n",
       "  AIMessage(content=\"I don't have access to your personal information, so I don't know your name. If you'd like, you can tell me your name!\", additional_kwargs={'refusal': None}, response_metadata={'token_usage': {'completion_tokens': 28, 'prompt_tokens': 344, 'total_tokens': 372, 'completion_tokens_details': {'accepted_prediction_tokens': 0, 'audio_tokens': 0, 'reasoning_tokens': 0, 'rejected_prediction_tokens': 0}, 'prompt_tokens_details': {'audio_tokens': 0, 'cached_tokens': 0}}, 'model_name': 'gpt-4.1-mini-2025-04-14', 'system_fingerprint': 'fp_95d112f245', 'id': 'chatcmpl-COObfEUXnXrln7dIW29pBIFFBOdzZ', 'service_tier': 'default', 'finish_reason': 'stop', 'logprobs': None}, id='run--99b29276-9071-4747-b3eb-683214f0c995-0', usage_metadata={'input_tokens': 344, 'output_tokens': 28, 'total_tokens': 372, 'input_token_details': {'audio': 0, 'cache_read': 0}, 'output_token_details': {'audio': 0, 'reasoning': 0}})]}"
      ]
     },
     "execution_count": 33,
     "metadata": {},
     "output_type": "execute_result"
    }
   ],
   "source": [
    "app2.invoke({\"messages\":\"Hey what is my name\"})"
   ]
  },
  {
   "cell_type": "code",
   "execution_count": 34,
   "id": "e58f9455",
   "metadata": {},
   "outputs": [],
   "source": [
    "from langgraph.checkpoint.memory import MemorySaver\n",
    "\n",
    "# define the workflow\n",
    "from langgraph.graph import StateGraph,START,END\n",
    "from langgraph.prebuilt import ToolNode\n",
    "from langgraph.prebuilt import tools_condition\n",
    "\n",
    "#inmemory checkpoint\n",
    "memory = MemorySaver()\n",
    "\n",
    "workflow = StateGraph(State)\n",
    "\n",
    "workflow.add_node(\"LLM binded with tools\", tool_calling_llm)\n",
    "workflow.add_node(\"tools\" , ToolNode(tools_list))\n",
    "\n",
    "workflow.add_edge(START, \"LLM binded with tools\")\n",
    "workflow.add_conditional_edges(\n",
    "    \"LLM binded with tools\",\n",
    "    tools_condition\n",
    ")\n",
    "workflow.add_edge(\"tools\", \"LLM binded with tools\")\n",
    "\n",
    "app2 = workflow.compile(checkpointer=memory)"
   ]
  },
  {
   "cell_type": "code",
   "execution_count": 35,
   "id": "05c5834b",
   "metadata": {},
   "outputs": [
    {
     "name": "stdout",
     "output_type": "stream",
     "text": [
      "Hello Suman! How can I assist you today?\n"
     ]
    }
   ],
   "source": [
    "config={\"configurable\":{\"thread_id\":\"1\"}}\n",
    "response=app2.invoke({\"messages\":\"Hi my name is Suman\"},config=config)\n",
    "print(response[\"messages\"][-1].content)"
   ]
  },
  {
   "cell_type": "code",
   "execution_count": 36,
   "id": "33ed3cca",
   "metadata": {},
   "outputs": [
    {
     "name": "stdout",
     "output_type": "stream",
     "text": [
      "Your name is Suman. How can I help you further?\n"
     ]
    }
   ],
   "source": [
    "response=app2.invoke({\"messages\":\"Hi what is my name?\"},config=config)\n",
    "print(response[\"messages\"][-1].content)"
   ]
  },
  {
   "cell_type": "markdown",
   "id": "9a0cc977",
   "metadata": {},
   "source": [
    "## Part 6 : Streaming in Langgraph "
   ]
  },
  {
   "cell_type": "markdown",
   "id": "83de36fc",
   "metadata": {},
   "source": [
    "Methods: .stream() and astream()\n",
    "\n",
    "These methods are sync and async methods for streaming back results.\n",
    "Additional parameters in streaming modes for graph state\n",
    "\n",
    "for stream based events \n",
    "\n",
    "values : This streams the full state of the graph after each node is called. \\\n",
    "updates : This streams updates to the state of the graph after each node is called."
   ]
  },
  {
   "cell_type": "markdown",
   "id": "d839af82",
   "metadata": {},
   "source": [
    "### for 'value' based astream modes"
   ]
  },
  {
   "cell_type": "code",
   "execution_count": 37,
   "id": "63e12942",
   "metadata": {},
   "outputs": [
    {
     "name": "stdout",
     "output_type": "stream",
     "text": [
      "{'messages': [HumanMessage(content='Hi,My name is Suman And I like cricket', additional_kwargs={}, response_metadata={}, id='26fca706-cff0-4040-a7e5-46bb07cf806b')]}\n",
      "{'messages': [HumanMessage(content='Hi,My name is Suman And I like cricket', additional_kwargs={}, response_metadata={}, id='26fca706-cff0-4040-a7e5-46bb07cf806b'), AIMessage(content=\"Hi Suman! It's great to meet you. Cricket is a fantastic sport. Do you have a favorite team or player?\", additional_kwargs={'refusal': None}, response_metadata={'token_usage': {'completion_tokens': 26, 'prompt_tokens': 350, 'total_tokens': 376, 'completion_tokens_details': {'accepted_prediction_tokens': 0, 'audio_tokens': 0, 'reasoning_tokens': 0, 'rejected_prediction_tokens': 0}, 'prompt_tokens_details': {'audio_tokens': 0, 'cached_tokens': 0}}, 'model_name': 'gpt-4.1-mini-2025-04-14', 'system_fingerprint': 'fp_95d112f245', 'id': 'chatcmpl-COOp6DJe9k634FHa4EuKkkPO2ZrWR', 'service_tier': 'default', 'finish_reason': 'stop', 'logprobs': None}, id='run--8fdb9151-bd18-4508-995c-380eb4b80ea1-0', usage_metadata={'input_tokens': 350, 'output_tokens': 26, 'total_tokens': 376, 'input_token_details': {'audio': 0, 'cache_read': 0}, 'output_token_details': {'audio': 0, 'reasoning': 0}})]}\n"
     ]
    }
   ],
   "source": [
    "# Create a thread\n",
    "config = {\"configurable\": {\"thread_id\": \"2\"}}\n",
    "\n",
    "chunks  = app2.stream({'messages':\"Hi,My name is Suman And I like cricket\"},config,stream_mode=\"values\")\n",
    "\n",
    "for chunk in chunks:\n",
    "    print(chunk)"
   ]
  },
  {
   "cell_type": "code",
   "execution_count": 39,
   "id": "603e19cd",
   "metadata": {},
   "outputs": [
    {
     "name": "stdout",
     "output_type": "stream",
     "text": [
      "{'messages': [HumanMessage(content='Hi,My name is Suman And I like cricket', additional_kwargs={}, response_metadata={}, id='26fca706-cff0-4040-a7e5-46bb07cf806b'), AIMessage(content=\"Hi Suman! It's great to meet you. Cricket is a fantastic sport. Do you have a favorite team or player?\", additional_kwargs={'refusal': None}, response_metadata={'token_usage': {'completion_tokens': 26, 'prompt_tokens': 350, 'total_tokens': 376, 'completion_tokens_details': {'accepted_prediction_tokens': 0, 'audio_tokens': 0, 'reasoning_tokens': 0, 'rejected_prediction_tokens': 0}, 'prompt_tokens_details': {'audio_tokens': 0, 'cached_tokens': 0}}, 'model_name': 'gpt-4.1-mini-2025-04-14', 'system_fingerprint': 'fp_95d112f245', 'id': 'chatcmpl-COOp6DJe9k634FHa4EuKkkPO2ZrWR', 'service_tier': 'default', 'finish_reason': 'stop', 'logprobs': None}, id='run--8fdb9151-bd18-4508-995c-380eb4b80ea1-0', usage_metadata={'input_tokens': 350, 'output_tokens': 26, 'total_tokens': 376, 'input_token_details': {'audio': 0, 'cache_read': 0}, 'output_token_details': {'audio': 0, 'reasoning': 0}}), HumanMessage(content='Ohh  I like movies too', additional_kwargs={}, response_metadata={}, id='f1731f27-f543-4aec-b732-81fd8d9cba1e')]}\n",
      "{'messages': [HumanMessage(content='Hi,My name is Suman And I like cricket', additional_kwargs={}, response_metadata={}, id='26fca706-cff0-4040-a7e5-46bb07cf806b'), AIMessage(content=\"Hi Suman! It's great to meet you. Cricket is a fantastic sport. Do you have a favorite team or player?\", additional_kwargs={'refusal': None}, response_metadata={'token_usage': {'completion_tokens': 26, 'prompt_tokens': 350, 'total_tokens': 376, 'completion_tokens_details': {'accepted_prediction_tokens': 0, 'audio_tokens': 0, 'reasoning_tokens': 0, 'rejected_prediction_tokens': 0}, 'prompt_tokens_details': {'audio_tokens': 0, 'cached_tokens': 0}}, 'model_name': 'gpt-4.1-mini-2025-04-14', 'system_fingerprint': 'fp_95d112f245', 'id': 'chatcmpl-COOp6DJe9k634FHa4EuKkkPO2ZrWR', 'service_tier': 'default', 'finish_reason': 'stop', 'logprobs': None}, id='run--8fdb9151-bd18-4508-995c-380eb4b80ea1-0', usage_metadata={'input_tokens': 350, 'output_tokens': 26, 'total_tokens': 376, 'input_token_details': {'audio': 0, 'cache_read': 0}, 'output_token_details': {'audio': 0, 'reasoning': 0}}), HumanMessage(content='Ohh  I like movies too', additional_kwargs={}, response_metadata={}, id='f1731f27-f543-4aec-b732-81fd8d9cba1e'), AIMessage(content=\"That's awesome, Suman! Movies are a great way to relax and enjoy some storytelling. What kind of movies do you like? Any favorite genres or films?\", additional_kwargs={'refusal': None}, response_metadata={'token_usage': {'completion_tokens': 33, 'prompt_tokens': 390, 'total_tokens': 423, 'completion_tokens_details': {'accepted_prediction_tokens': 0, 'audio_tokens': 0, 'reasoning_tokens': 0, 'rejected_prediction_tokens': 0}, 'prompt_tokens_details': {'audio_tokens': 0, 'cached_tokens': 0}}, 'model_name': 'gpt-4.1-mini-2025-04-14', 'system_fingerprint': 'fp_95d112f245', 'id': 'chatcmpl-COOpzdWcl8rGJEudTpQaeFzKjavgg', 'service_tier': 'default', 'finish_reason': 'stop', 'logprobs': None}, id='run--05954c0f-86f9-4039-8cf8-b5903ad7f927-0', usage_metadata={'input_tokens': 390, 'output_tokens': 33, 'total_tokens': 423, 'input_token_details': {'audio': 0, 'cache_read': 0}, 'output_token_details': {'audio': 0, 'reasoning': 0}})]}\n"
     ]
    }
   ],
   "source": [
    "# Create a thread\n",
    "config = {\"configurable\": {\"thread_id\": \"2\"}}\n",
    "\n",
    "chunks  = app2.stream({'messages':\"Ohh  I like movies too\"},config,stream_mode=\"values\")\n",
    "\n",
    "for chunk in chunks:\n",
    "    print(chunk)"
   ]
  },
  {
   "cell_type": "markdown",
   "id": "a2da8aea",
   "metadata": {},
   "source": [
    "### for 'update' based astream modes"
   ]
  },
  {
   "cell_type": "code",
   "execution_count": 40,
   "id": "94589de4",
   "metadata": {},
   "outputs": [
    {
     "name": "stdout",
     "output_type": "stream",
     "text": [
      "{'LLM binded with tools': {'messages': [AIMessage(content=\"Hi Suman! It's great to meet you. Cricket is a fantastic sport. Do you have a favorite team or player?\", additional_kwargs={'refusal': None}, response_metadata={'token_usage': {'completion_tokens': 26, 'prompt_tokens': 350, 'total_tokens': 376, 'completion_tokens_details': {'accepted_prediction_tokens': 0, 'audio_tokens': 0, 'reasoning_tokens': 0, 'rejected_prediction_tokens': 0}, 'prompt_tokens_details': {'audio_tokens': 0, 'cached_tokens': 0}}, 'model_name': 'gpt-4.1-mini-2025-04-14', 'system_fingerprint': 'fp_95d112f245', 'id': 'chatcmpl-COOqMVVd202Woyz2kgkSFpxGdb1yQ', 'service_tier': 'default', 'finish_reason': 'stop', 'logprobs': None}, id='run--435d6aa3-2cae-4ec8-b524-957038bfffdd-0', usage_metadata={'input_tokens': 350, 'output_tokens': 26, 'total_tokens': 376, 'input_token_details': {'audio': 0, 'cache_read': 0}, 'output_token_details': {'audio': 0, 'reasoning': 0}})]}}\n"
     ]
    }
   ],
   "source": [
    "# using updates method : only the recent values are reflected\n",
    "# Create a thread\n",
    "config = {\"configurable\": {\"thread_id\": \"6\"}}\n",
    "\n",
    "chunks = app2.stream({'messages':\"Hi,My name is Suman And I like cricket\"},config,stream_mode=\"updates\")\n",
    "for chunk in chunks:\n",
    "    print(chunk)"
   ]
  },
  {
   "cell_type": "code",
   "execution_count": 41,
   "id": "ab242baa",
   "metadata": {},
   "outputs": [
    {
     "name": "stdout",
     "output_type": "stream",
     "text": [
      "{'LLM binded with tools': {'messages': [AIMessage(content=\"That's awesome, Suman! Movies are a great way to relax and enjoy some storytelling. What kind of movies do you like? Any favorite genres or films?\", additional_kwargs={'refusal': None}, response_metadata={'token_usage': {'completion_tokens': 33, 'prompt_tokens': 390, 'total_tokens': 423, 'completion_tokens_details': {'accepted_prediction_tokens': 0, 'audio_tokens': 0, 'reasoning_tokens': 0, 'rejected_prediction_tokens': 0}, 'prompt_tokens_details': {'audio_tokens': 0, 'cached_tokens': 0}}, 'model_name': 'gpt-4.1-mini-2025-04-14', 'system_fingerprint': 'fp_95d112f245', 'id': 'chatcmpl-COOqYnxBFtGc9vV4wn4mjrRg1LeQA', 'service_tier': 'default', 'finish_reason': 'stop', 'logprobs': None}, id='run--d26e92a4-114b-4473-863a-c43c379f1d43-0', usage_metadata={'input_tokens': 390, 'output_tokens': 33, 'total_tokens': 423, 'input_token_details': {'audio': 0, 'cache_read': 0}, 'output_token_details': {'audio': 0, 'reasoning': 0}})]}}\n"
     ]
    }
   ],
   "source": [
    "config = {\"configurable\": {\"thread_id\": \"6\"}}\n",
    "\n",
    "chunks = app2.stream({'messages':\"Ohh  I like movies too\"},config,stream_mode=\"updates\")\n",
    "for chunk in chunks:\n",
    "    print(chunk)"
   ]
  },
  {
   "cell_type": "markdown",
   "id": "cef127bd",
   "metadata": {},
   "source": [
    "## astream events "
   ]
  },
  {
   "cell_type": "code",
   "execution_count": 42,
   "id": "5e90cce7",
   "metadata": {},
   "outputs": [
    {
     "name": "stdout",
     "output_type": "stream",
     "text": [
      "{'event': 'on_chain_start', 'data': {'input': {'messages': ['HI How are you doing?']}}, 'name': 'LangGraph', 'tags': [], 'run_id': '29b7ca31-3292-4226-b7a8-f89db4a7a6e6', 'metadata': {'thread_id': '3'}, 'parent_ids': []}\n",
      "{'event': 'on_chain_start', 'data': {'input': {'messages': [HumanMessage(content='HI How are you doing?', additional_kwargs={}, response_metadata={}, id='8932f158-e001-41d8-951b-e01433df18fd')]}}, 'name': 'LLM binded with tools', 'tags': ['graph:step:1'], 'run_id': '6546ca20-8e20-43fb-be60-e75ec735f4d7', 'metadata': {'thread_id': '3', 'langgraph_step': 1, 'langgraph_node': 'LLM binded with tools', 'langgraph_triggers': ('branch:to:LLM binded with tools',), 'langgraph_path': ('__pregel_pull', 'LLM binded with tools'), 'langgraph_checkpoint_ns': 'LLM binded with tools:1bb249a2-8a8c-583a-ffd3-3a4ebf011190'}, 'parent_ids': ['29b7ca31-3292-4226-b7a8-f89db4a7a6e6']}\n",
      "{'event': 'on_chat_model_start', 'data': {'input': {'messages': [[HumanMessage(content='HI How are you doing?', additional_kwargs={}, response_metadata={}, id='8932f158-e001-41d8-951b-e01433df18fd')]]}}, 'name': 'ChatOpenAI', 'tags': ['seq:step:1'], 'run_id': '49a0b902-1c3f-4d60-90d1-674904ec0d5b', 'metadata': {'thread_id': '3', 'langgraph_step': 1, 'langgraph_node': 'LLM binded with tools', 'langgraph_triggers': ('branch:to:LLM binded with tools',), 'langgraph_path': ('__pregel_pull', 'LLM binded with tools'), 'langgraph_checkpoint_ns': 'LLM binded with tools:1bb249a2-8a8c-583a-ffd3-3a4ebf011190', 'checkpoint_ns': 'LLM binded with tools:1bb249a2-8a8c-583a-ffd3-3a4ebf011190', 'ls_provider': 'openai', 'ls_model_name': 'gpt-4.1-mini', 'ls_model_type': 'chat', 'ls_temperature': 0.0}, 'parent_ids': ['29b7ca31-3292-4226-b7a8-f89db4a7a6e6', '6546ca20-8e20-43fb-be60-e75ec735f4d7']}\n",
      "{'event': 'on_chat_model_stream', 'data': {'chunk': AIMessageChunk(content='', additional_kwargs={}, response_metadata={}, id='run--49a0b902-1c3f-4d60-90d1-674904ec0d5b')}, 'run_id': '49a0b902-1c3f-4d60-90d1-674904ec0d5b', 'name': 'ChatOpenAI', 'tags': ['seq:step:1'], 'metadata': {'thread_id': '3', 'langgraph_step': 1, 'langgraph_node': 'LLM binded with tools', 'langgraph_triggers': ('branch:to:LLM binded with tools',), 'langgraph_path': ('__pregel_pull', 'LLM binded with tools'), 'langgraph_checkpoint_ns': 'LLM binded with tools:1bb249a2-8a8c-583a-ffd3-3a4ebf011190', 'checkpoint_ns': 'LLM binded with tools:1bb249a2-8a8c-583a-ffd3-3a4ebf011190', 'ls_provider': 'openai', 'ls_model_name': 'gpt-4.1-mini', 'ls_model_type': 'chat', 'ls_temperature': 0.0}, 'parent_ids': ['29b7ca31-3292-4226-b7a8-f89db4a7a6e6', '6546ca20-8e20-43fb-be60-e75ec735f4d7']}\n",
      "{'event': 'on_chat_model_stream', 'data': {'chunk': AIMessageChunk(content='Hello', additional_kwargs={}, response_metadata={}, id='run--49a0b902-1c3f-4d60-90d1-674904ec0d5b')}, 'run_id': '49a0b902-1c3f-4d60-90d1-674904ec0d5b', 'name': 'ChatOpenAI', 'tags': ['seq:step:1'], 'metadata': {'thread_id': '3', 'langgraph_step': 1, 'langgraph_node': 'LLM binded with tools', 'langgraph_triggers': ('branch:to:LLM binded with tools',), 'langgraph_path': ('__pregel_pull', 'LLM binded with tools'), 'langgraph_checkpoint_ns': 'LLM binded with tools:1bb249a2-8a8c-583a-ffd3-3a4ebf011190', 'checkpoint_ns': 'LLM binded with tools:1bb249a2-8a8c-583a-ffd3-3a4ebf011190', 'ls_provider': 'openai', 'ls_model_name': 'gpt-4.1-mini', 'ls_model_type': 'chat', 'ls_temperature': 0.0}, 'parent_ids': ['29b7ca31-3292-4226-b7a8-f89db4a7a6e6', '6546ca20-8e20-43fb-be60-e75ec735f4d7']}\n",
      "{'event': 'on_chat_model_stream', 'data': {'chunk': AIMessageChunk(content='!', additional_kwargs={}, response_metadata={}, id='run--49a0b902-1c3f-4d60-90d1-674904ec0d5b')}, 'run_id': '49a0b902-1c3f-4d60-90d1-674904ec0d5b', 'name': 'ChatOpenAI', 'tags': ['seq:step:1'], 'metadata': {'thread_id': '3', 'langgraph_step': 1, 'langgraph_node': 'LLM binded with tools', 'langgraph_triggers': ('branch:to:LLM binded with tools',), 'langgraph_path': ('__pregel_pull', 'LLM binded with tools'), 'langgraph_checkpoint_ns': 'LLM binded with tools:1bb249a2-8a8c-583a-ffd3-3a4ebf011190', 'checkpoint_ns': 'LLM binded with tools:1bb249a2-8a8c-583a-ffd3-3a4ebf011190', 'ls_provider': 'openai', 'ls_model_name': 'gpt-4.1-mini', 'ls_model_type': 'chat', 'ls_temperature': 0.0}, 'parent_ids': ['29b7ca31-3292-4226-b7a8-f89db4a7a6e6', '6546ca20-8e20-43fb-be60-e75ec735f4d7']}\n",
      "{'event': 'on_chat_model_stream', 'data': {'chunk': AIMessageChunk(content=\" I'm\", additional_kwargs={}, response_metadata={}, id='run--49a0b902-1c3f-4d60-90d1-674904ec0d5b')}, 'run_id': '49a0b902-1c3f-4d60-90d1-674904ec0d5b', 'name': 'ChatOpenAI', 'tags': ['seq:step:1'], 'metadata': {'thread_id': '3', 'langgraph_step': 1, 'langgraph_node': 'LLM binded with tools', 'langgraph_triggers': ('branch:to:LLM binded with tools',), 'langgraph_path': ('__pregel_pull', 'LLM binded with tools'), 'langgraph_checkpoint_ns': 'LLM binded with tools:1bb249a2-8a8c-583a-ffd3-3a4ebf011190', 'checkpoint_ns': 'LLM binded with tools:1bb249a2-8a8c-583a-ffd3-3a4ebf011190', 'ls_provider': 'openai', 'ls_model_name': 'gpt-4.1-mini', 'ls_model_type': 'chat', 'ls_temperature': 0.0}, 'parent_ids': ['29b7ca31-3292-4226-b7a8-f89db4a7a6e6', '6546ca20-8e20-43fb-be60-e75ec735f4d7']}\n",
      "{'event': 'on_chat_model_stream', 'data': {'chunk': AIMessageChunk(content=' doing', additional_kwargs={}, response_metadata={}, id='run--49a0b902-1c3f-4d60-90d1-674904ec0d5b')}, 'run_id': '49a0b902-1c3f-4d60-90d1-674904ec0d5b', 'name': 'ChatOpenAI', 'tags': ['seq:step:1'], 'metadata': {'thread_id': '3', 'langgraph_step': 1, 'langgraph_node': 'LLM binded with tools', 'langgraph_triggers': ('branch:to:LLM binded with tools',), 'langgraph_path': ('__pregel_pull', 'LLM binded with tools'), 'langgraph_checkpoint_ns': 'LLM binded with tools:1bb249a2-8a8c-583a-ffd3-3a4ebf011190', 'checkpoint_ns': 'LLM binded with tools:1bb249a2-8a8c-583a-ffd3-3a4ebf011190', 'ls_provider': 'openai', 'ls_model_name': 'gpt-4.1-mini', 'ls_model_type': 'chat', 'ls_temperature': 0.0}, 'parent_ids': ['29b7ca31-3292-4226-b7a8-f89db4a7a6e6', '6546ca20-8e20-43fb-be60-e75ec735f4d7']}\n",
      "{'event': 'on_chat_model_stream', 'data': {'chunk': AIMessageChunk(content=' great', additional_kwargs={}, response_metadata={}, id='run--49a0b902-1c3f-4d60-90d1-674904ec0d5b')}, 'run_id': '49a0b902-1c3f-4d60-90d1-674904ec0d5b', 'name': 'ChatOpenAI', 'tags': ['seq:step:1'], 'metadata': {'thread_id': '3', 'langgraph_step': 1, 'langgraph_node': 'LLM binded with tools', 'langgraph_triggers': ('branch:to:LLM binded with tools',), 'langgraph_path': ('__pregel_pull', 'LLM binded with tools'), 'langgraph_checkpoint_ns': 'LLM binded with tools:1bb249a2-8a8c-583a-ffd3-3a4ebf011190', 'checkpoint_ns': 'LLM binded with tools:1bb249a2-8a8c-583a-ffd3-3a4ebf011190', 'ls_provider': 'openai', 'ls_model_name': 'gpt-4.1-mini', 'ls_model_type': 'chat', 'ls_temperature': 0.0}, 'parent_ids': ['29b7ca31-3292-4226-b7a8-f89db4a7a6e6', '6546ca20-8e20-43fb-be60-e75ec735f4d7']}\n",
      "{'event': 'on_chat_model_stream', 'data': {'chunk': AIMessageChunk(content=',', additional_kwargs={}, response_metadata={}, id='run--49a0b902-1c3f-4d60-90d1-674904ec0d5b')}, 'run_id': '49a0b902-1c3f-4d60-90d1-674904ec0d5b', 'name': 'ChatOpenAI', 'tags': ['seq:step:1'], 'metadata': {'thread_id': '3', 'langgraph_step': 1, 'langgraph_node': 'LLM binded with tools', 'langgraph_triggers': ('branch:to:LLM binded with tools',), 'langgraph_path': ('__pregel_pull', 'LLM binded with tools'), 'langgraph_checkpoint_ns': 'LLM binded with tools:1bb249a2-8a8c-583a-ffd3-3a4ebf011190', 'checkpoint_ns': 'LLM binded with tools:1bb249a2-8a8c-583a-ffd3-3a4ebf011190', 'ls_provider': 'openai', 'ls_model_name': 'gpt-4.1-mini', 'ls_model_type': 'chat', 'ls_temperature': 0.0}, 'parent_ids': ['29b7ca31-3292-4226-b7a8-f89db4a7a6e6', '6546ca20-8e20-43fb-be60-e75ec735f4d7']}\n",
      "{'event': 'on_chat_model_stream', 'data': {'chunk': AIMessageChunk(content=' thank', additional_kwargs={}, response_metadata={}, id='run--49a0b902-1c3f-4d60-90d1-674904ec0d5b')}, 'run_id': '49a0b902-1c3f-4d60-90d1-674904ec0d5b', 'name': 'ChatOpenAI', 'tags': ['seq:step:1'], 'metadata': {'thread_id': '3', 'langgraph_step': 1, 'langgraph_node': 'LLM binded with tools', 'langgraph_triggers': ('branch:to:LLM binded with tools',), 'langgraph_path': ('__pregel_pull', 'LLM binded with tools'), 'langgraph_checkpoint_ns': 'LLM binded with tools:1bb249a2-8a8c-583a-ffd3-3a4ebf011190', 'checkpoint_ns': 'LLM binded with tools:1bb249a2-8a8c-583a-ffd3-3a4ebf011190', 'ls_provider': 'openai', 'ls_model_name': 'gpt-4.1-mini', 'ls_model_type': 'chat', 'ls_temperature': 0.0}, 'parent_ids': ['29b7ca31-3292-4226-b7a8-f89db4a7a6e6', '6546ca20-8e20-43fb-be60-e75ec735f4d7']}\n",
      "{'event': 'on_chat_model_stream', 'data': {'chunk': AIMessageChunk(content=' you', additional_kwargs={}, response_metadata={}, id='run--49a0b902-1c3f-4d60-90d1-674904ec0d5b')}, 'run_id': '49a0b902-1c3f-4d60-90d1-674904ec0d5b', 'name': 'ChatOpenAI', 'tags': ['seq:step:1'], 'metadata': {'thread_id': '3', 'langgraph_step': 1, 'langgraph_node': 'LLM binded with tools', 'langgraph_triggers': ('branch:to:LLM binded with tools',), 'langgraph_path': ('__pregel_pull', 'LLM binded with tools'), 'langgraph_checkpoint_ns': 'LLM binded with tools:1bb249a2-8a8c-583a-ffd3-3a4ebf011190', 'checkpoint_ns': 'LLM binded with tools:1bb249a2-8a8c-583a-ffd3-3a4ebf011190', 'ls_provider': 'openai', 'ls_model_name': 'gpt-4.1-mini', 'ls_model_type': 'chat', 'ls_temperature': 0.0}, 'parent_ids': ['29b7ca31-3292-4226-b7a8-f89db4a7a6e6', '6546ca20-8e20-43fb-be60-e75ec735f4d7']}\n",
      "{'event': 'on_chat_model_stream', 'data': {'chunk': AIMessageChunk(content='.', additional_kwargs={}, response_metadata={}, id='run--49a0b902-1c3f-4d60-90d1-674904ec0d5b')}, 'run_id': '49a0b902-1c3f-4d60-90d1-674904ec0d5b', 'name': 'ChatOpenAI', 'tags': ['seq:step:1'], 'metadata': {'thread_id': '3', 'langgraph_step': 1, 'langgraph_node': 'LLM binded with tools', 'langgraph_triggers': ('branch:to:LLM binded with tools',), 'langgraph_path': ('__pregel_pull', 'LLM binded with tools'), 'langgraph_checkpoint_ns': 'LLM binded with tools:1bb249a2-8a8c-583a-ffd3-3a4ebf011190', 'checkpoint_ns': 'LLM binded with tools:1bb249a2-8a8c-583a-ffd3-3a4ebf011190', 'ls_provider': 'openai', 'ls_model_name': 'gpt-4.1-mini', 'ls_model_type': 'chat', 'ls_temperature': 0.0}, 'parent_ids': ['29b7ca31-3292-4226-b7a8-f89db4a7a6e6', '6546ca20-8e20-43fb-be60-e75ec735f4d7']}\n",
      "{'event': 'on_chat_model_stream', 'data': {'chunk': AIMessageChunk(content=' How', additional_kwargs={}, response_metadata={}, id='run--49a0b902-1c3f-4d60-90d1-674904ec0d5b')}, 'run_id': '49a0b902-1c3f-4d60-90d1-674904ec0d5b', 'name': 'ChatOpenAI', 'tags': ['seq:step:1'], 'metadata': {'thread_id': '3', 'langgraph_step': 1, 'langgraph_node': 'LLM binded with tools', 'langgraph_triggers': ('branch:to:LLM binded with tools',), 'langgraph_path': ('__pregel_pull', 'LLM binded with tools'), 'langgraph_checkpoint_ns': 'LLM binded with tools:1bb249a2-8a8c-583a-ffd3-3a4ebf011190', 'checkpoint_ns': 'LLM binded with tools:1bb249a2-8a8c-583a-ffd3-3a4ebf011190', 'ls_provider': 'openai', 'ls_model_name': 'gpt-4.1-mini', 'ls_model_type': 'chat', 'ls_temperature': 0.0}, 'parent_ids': ['29b7ca31-3292-4226-b7a8-f89db4a7a6e6', '6546ca20-8e20-43fb-be60-e75ec735f4d7']}\n",
      "{'event': 'on_chat_model_stream', 'data': {'chunk': AIMessageChunk(content=' can', additional_kwargs={}, response_metadata={}, id='run--49a0b902-1c3f-4d60-90d1-674904ec0d5b')}, 'run_id': '49a0b902-1c3f-4d60-90d1-674904ec0d5b', 'name': 'ChatOpenAI', 'tags': ['seq:step:1'], 'metadata': {'thread_id': '3', 'langgraph_step': 1, 'langgraph_node': 'LLM binded with tools', 'langgraph_triggers': ('branch:to:LLM binded with tools',), 'langgraph_path': ('__pregel_pull', 'LLM binded with tools'), 'langgraph_checkpoint_ns': 'LLM binded with tools:1bb249a2-8a8c-583a-ffd3-3a4ebf011190', 'checkpoint_ns': 'LLM binded with tools:1bb249a2-8a8c-583a-ffd3-3a4ebf011190', 'ls_provider': 'openai', 'ls_model_name': 'gpt-4.1-mini', 'ls_model_type': 'chat', 'ls_temperature': 0.0}, 'parent_ids': ['29b7ca31-3292-4226-b7a8-f89db4a7a6e6', '6546ca20-8e20-43fb-be60-e75ec735f4d7']}\n",
      "{'event': 'on_chat_model_stream', 'data': {'chunk': AIMessageChunk(content=' I', additional_kwargs={}, response_metadata={}, id='run--49a0b902-1c3f-4d60-90d1-674904ec0d5b')}, 'run_id': '49a0b902-1c3f-4d60-90d1-674904ec0d5b', 'name': 'ChatOpenAI', 'tags': ['seq:step:1'], 'metadata': {'thread_id': '3', 'langgraph_step': 1, 'langgraph_node': 'LLM binded with tools', 'langgraph_triggers': ('branch:to:LLM binded with tools',), 'langgraph_path': ('__pregel_pull', 'LLM binded with tools'), 'langgraph_checkpoint_ns': 'LLM binded with tools:1bb249a2-8a8c-583a-ffd3-3a4ebf011190', 'checkpoint_ns': 'LLM binded with tools:1bb249a2-8a8c-583a-ffd3-3a4ebf011190', 'ls_provider': 'openai', 'ls_model_name': 'gpt-4.1-mini', 'ls_model_type': 'chat', 'ls_temperature': 0.0}, 'parent_ids': ['29b7ca31-3292-4226-b7a8-f89db4a7a6e6', '6546ca20-8e20-43fb-be60-e75ec735f4d7']}\n",
      "{'event': 'on_chat_model_stream', 'data': {'chunk': AIMessageChunk(content=' assist', additional_kwargs={}, response_metadata={}, id='run--49a0b902-1c3f-4d60-90d1-674904ec0d5b')}, 'run_id': '49a0b902-1c3f-4d60-90d1-674904ec0d5b', 'name': 'ChatOpenAI', 'tags': ['seq:step:1'], 'metadata': {'thread_id': '3', 'langgraph_step': 1, 'langgraph_node': 'LLM binded with tools', 'langgraph_triggers': ('branch:to:LLM binded with tools',), 'langgraph_path': ('__pregel_pull', 'LLM binded with tools'), 'langgraph_checkpoint_ns': 'LLM binded with tools:1bb249a2-8a8c-583a-ffd3-3a4ebf011190', 'checkpoint_ns': 'LLM binded with tools:1bb249a2-8a8c-583a-ffd3-3a4ebf011190', 'ls_provider': 'openai', 'ls_model_name': 'gpt-4.1-mini', 'ls_model_type': 'chat', 'ls_temperature': 0.0}, 'parent_ids': ['29b7ca31-3292-4226-b7a8-f89db4a7a6e6', '6546ca20-8e20-43fb-be60-e75ec735f4d7']}\n",
      "{'event': 'on_chat_model_stream', 'data': {'chunk': AIMessageChunk(content=' you', additional_kwargs={}, response_metadata={}, id='run--49a0b902-1c3f-4d60-90d1-674904ec0d5b')}, 'run_id': '49a0b902-1c3f-4d60-90d1-674904ec0d5b', 'name': 'ChatOpenAI', 'tags': ['seq:step:1'], 'metadata': {'thread_id': '3', 'langgraph_step': 1, 'langgraph_node': 'LLM binded with tools', 'langgraph_triggers': ('branch:to:LLM binded with tools',), 'langgraph_path': ('__pregel_pull', 'LLM binded with tools'), 'langgraph_checkpoint_ns': 'LLM binded with tools:1bb249a2-8a8c-583a-ffd3-3a4ebf011190', 'checkpoint_ns': 'LLM binded with tools:1bb249a2-8a8c-583a-ffd3-3a4ebf011190', 'ls_provider': 'openai', 'ls_model_name': 'gpt-4.1-mini', 'ls_model_type': 'chat', 'ls_temperature': 0.0}, 'parent_ids': ['29b7ca31-3292-4226-b7a8-f89db4a7a6e6', '6546ca20-8e20-43fb-be60-e75ec735f4d7']}\n",
      "{'event': 'on_chat_model_stream', 'data': {'chunk': AIMessageChunk(content=' today', additional_kwargs={}, response_metadata={}, id='run--49a0b902-1c3f-4d60-90d1-674904ec0d5b')}, 'run_id': '49a0b902-1c3f-4d60-90d1-674904ec0d5b', 'name': 'ChatOpenAI', 'tags': ['seq:step:1'], 'metadata': {'thread_id': '3', 'langgraph_step': 1, 'langgraph_node': 'LLM binded with tools', 'langgraph_triggers': ('branch:to:LLM binded with tools',), 'langgraph_path': ('__pregel_pull', 'LLM binded with tools'), 'langgraph_checkpoint_ns': 'LLM binded with tools:1bb249a2-8a8c-583a-ffd3-3a4ebf011190', 'checkpoint_ns': 'LLM binded with tools:1bb249a2-8a8c-583a-ffd3-3a4ebf011190', 'ls_provider': 'openai', 'ls_model_name': 'gpt-4.1-mini', 'ls_model_type': 'chat', 'ls_temperature': 0.0}, 'parent_ids': ['29b7ca31-3292-4226-b7a8-f89db4a7a6e6', '6546ca20-8e20-43fb-be60-e75ec735f4d7']}\n",
      "{'event': 'on_chat_model_stream', 'data': {'chunk': AIMessageChunk(content='?', additional_kwargs={}, response_metadata={}, id='run--49a0b902-1c3f-4d60-90d1-674904ec0d5b')}, 'run_id': '49a0b902-1c3f-4d60-90d1-674904ec0d5b', 'name': 'ChatOpenAI', 'tags': ['seq:step:1'], 'metadata': {'thread_id': '3', 'langgraph_step': 1, 'langgraph_node': 'LLM binded with tools', 'langgraph_triggers': ('branch:to:LLM binded with tools',), 'langgraph_path': ('__pregel_pull', 'LLM binded with tools'), 'langgraph_checkpoint_ns': 'LLM binded with tools:1bb249a2-8a8c-583a-ffd3-3a4ebf011190', 'checkpoint_ns': 'LLM binded with tools:1bb249a2-8a8c-583a-ffd3-3a4ebf011190', 'ls_provider': 'openai', 'ls_model_name': 'gpt-4.1-mini', 'ls_model_type': 'chat', 'ls_temperature': 0.0}, 'parent_ids': ['29b7ca31-3292-4226-b7a8-f89db4a7a6e6', '6546ca20-8e20-43fb-be60-e75ec735f4d7']}\n",
      "{'event': 'on_chat_model_stream', 'data': {'chunk': AIMessageChunk(content='', additional_kwargs={}, response_metadata={'finish_reason': 'stop', 'model_name': 'gpt-4.1-mini-2025-04-14', 'system_fingerprint': 'fp_95d112f245', 'service_tier': 'default'}, id='run--49a0b902-1c3f-4d60-90d1-674904ec0d5b')}, 'run_id': '49a0b902-1c3f-4d60-90d1-674904ec0d5b', 'name': 'ChatOpenAI', 'tags': ['seq:step:1'], 'metadata': {'thread_id': '3', 'langgraph_step': 1, 'langgraph_node': 'LLM binded with tools', 'langgraph_triggers': ('branch:to:LLM binded with tools',), 'langgraph_path': ('__pregel_pull', 'LLM binded with tools'), 'langgraph_checkpoint_ns': 'LLM binded with tools:1bb249a2-8a8c-583a-ffd3-3a4ebf011190', 'checkpoint_ns': 'LLM binded with tools:1bb249a2-8a8c-583a-ffd3-3a4ebf011190', 'ls_provider': 'openai', 'ls_model_name': 'gpt-4.1-mini', 'ls_model_type': 'chat', 'ls_temperature': 0.0}, 'parent_ids': ['29b7ca31-3292-4226-b7a8-f89db4a7a6e6', '6546ca20-8e20-43fb-be60-e75ec735f4d7']}\n",
      "{'event': 'on_chat_model_stream', 'data': {'chunk': AIMessageChunk(content='', additional_kwargs={}, response_metadata={}, id='run--49a0b902-1c3f-4d60-90d1-674904ec0d5b', usage_metadata={'input_tokens': 345, 'output_tokens': 17, 'total_tokens': 362, 'input_token_details': {'audio': 0, 'cache_read': 0}, 'output_token_details': {'audio': 0, 'reasoning': 0}})}, 'run_id': '49a0b902-1c3f-4d60-90d1-674904ec0d5b', 'name': 'ChatOpenAI', 'tags': ['seq:step:1'], 'metadata': {'thread_id': '3', 'langgraph_step': 1, 'langgraph_node': 'LLM binded with tools', 'langgraph_triggers': ('branch:to:LLM binded with tools',), 'langgraph_path': ('__pregel_pull', 'LLM binded with tools'), 'langgraph_checkpoint_ns': 'LLM binded with tools:1bb249a2-8a8c-583a-ffd3-3a4ebf011190', 'checkpoint_ns': 'LLM binded with tools:1bb249a2-8a8c-583a-ffd3-3a4ebf011190', 'ls_provider': 'openai', 'ls_model_name': 'gpt-4.1-mini', 'ls_model_type': 'chat', 'ls_temperature': 0.0}, 'parent_ids': ['29b7ca31-3292-4226-b7a8-f89db4a7a6e6', '6546ca20-8e20-43fb-be60-e75ec735f4d7']}\n",
      "{'event': 'on_chat_model_end', 'data': {'output': AIMessage(content=\"Hello! I'm doing great, thank you. How can I assist you today?\", additional_kwargs={}, response_metadata={'finish_reason': 'stop', 'model_name': 'gpt-4.1-mini-2025-04-14', 'system_fingerprint': 'fp_95d112f245', 'service_tier': 'default'}, id='run--49a0b902-1c3f-4d60-90d1-674904ec0d5b', usage_metadata={'input_tokens': 345, 'output_tokens': 17, 'total_tokens': 362, 'input_token_details': {'audio': 0, 'cache_read': 0}, 'output_token_details': {'audio': 0, 'reasoning': 0}}), 'input': {'messages': [[HumanMessage(content='HI How are you doing?', additional_kwargs={}, response_metadata={}, id='8932f158-e001-41d8-951b-e01433df18fd')]]}}, 'run_id': '49a0b902-1c3f-4d60-90d1-674904ec0d5b', 'name': 'ChatOpenAI', 'tags': ['seq:step:1'], 'metadata': {'thread_id': '3', 'langgraph_step': 1, 'langgraph_node': 'LLM binded with tools', 'langgraph_triggers': ('branch:to:LLM binded with tools',), 'langgraph_path': ('__pregel_pull', 'LLM binded with tools'), 'langgraph_checkpoint_ns': 'LLM binded with tools:1bb249a2-8a8c-583a-ffd3-3a4ebf011190', 'checkpoint_ns': 'LLM binded with tools:1bb249a2-8a8c-583a-ffd3-3a4ebf011190', 'ls_provider': 'openai', 'ls_model_name': 'gpt-4.1-mini', 'ls_model_type': 'chat', 'ls_temperature': 0.0, 'LANGSMITH_PROJECT': 'langraph_tutorials', 'LANGSMITH_ENDPOINT': 'https://api.smith.langchain.com', 'revision_id': 'f3387a8'}, 'parent_ids': ['29b7ca31-3292-4226-b7a8-f89db4a7a6e6', '6546ca20-8e20-43fb-be60-e75ec735f4d7']}\n",
      "{'event': 'on_chain_start', 'data': {'input': {'messages': [HumanMessage(content='HI How are you doing?', additional_kwargs={}, response_metadata={}, id='8932f158-e001-41d8-951b-e01433df18fd'), AIMessage(content=\"Hello! I'm doing great, thank you. How can I assist you today?\", additional_kwargs={}, response_metadata={'finish_reason': 'stop', 'model_name': 'gpt-4.1-mini-2025-04-14', 'system_fingerprint': 'fp_95d112f245', 'service_tier': 'default'}, id='run--49a0b902-1c3f-4d60-90d1-674904ec0d5b', usage_metadata={'input_tokens': 345, 'output_tokens': 17, 'total_tokens': 362, 'input_token_details': {'audio': 0, 'cache_read': 0}, 'output_token_details': {'audio': 0, 'reasoning': 0}})]}}, 'name': 'tools_condition', 'tags': ['seq:step:3'], 'run_id': '56406f17-93b8-4a2a-9df2-f1e14872d164', 'metadata': {'thread_id': '3', 'langgraph_step': 1, 'langgraph_node': 'LLM binded with tools', 'langgraph_triggers': ('branch:to:LLM binded with tools',), 'langgraph_path': ('__pregel_pull', 'LLM binded with tools'), 'langgraph_checkpoint_ns': 'LLM binded with tools:1bb249a2-8a8c-583a-ffd3-3a4ebf011190'}, 'parent_ids': ['29b7ca31-3292-4226-b7a8-f89db4a7a6e6', '6546ca20-8e20-43fb-be60-e75ec735f4d7']}\n",
      "{'event': 'on_chain_end', 'data': {'output': '__end__', 'input': {'messages': [HumanMessage(content='HI How are you doing?', additional_kwargs={}, response_metadata={}, id='8932f158-e001-41d8-951b-e01433df18fd'), AIMessage(content=\"Hello! I'm doing great, thank you. How can I assist you today?\", additional_kwargs={}, response_metadata={'finish_reason': 'stop', 'model_name': 'gpt-4.1-mini-2025-04-14', 'system_fingerprint': 'fp_95d112f245', 'service_tier': 'default'}, id='run--49a0b902-1c3f-4d60-90d1-674904ec0d5b', usage_metadata={'input_tokens': 345, 'output_tokens': 17, 'total_tokens': 362, 'input_token_details': {'audio': 0, 'cache_read': 0}, 'output_token_details': {'audio': 0, 'reasoning': 0}})]}}, 'run_id': '56406f17-93b8-4a2a-9df2-f1e14872d164', 'name': 'tools_condition', 'tags': ['seq:step:3'], 'metadata': {'thread_id': '3', 'langgraph_step': 1, 'langgraph_node': 'LLM binded with tools', 'langgraph_triggers': ('branch:to:LLM binded with tools',), 'langgraph_path': ('__pregel_pull', 'LLM binded with tools'), 'langgraph_checkpoint_ns': 'LLM binded with tools:1bb249a2-8a8c-583a-ffd3-3a4ebf011190', 'LANGSMITH_PROJECT': 'langraph_tutorials', 'LANGSMITH_ENDPOINT': 'https://api.smith.langchain.com', 'revision_id': 'f3387a8'}, 'parent_ids': ['29b7ca31-3292-4226-b7a8-f89db4a7a6e6', '6546ca20-8e20-43fb-be60-e75ec735f4d7']}\n",
      "{'event': 'on_chain_stream', 'run_id': '6546ca20-8e20-43fb-be60-e75ec735f4d7', 'name': 'LLM binded with tools', 'tags': ['graph:step:1'], 'metadata': {'thread_id': '3', 'langgraph_step': 1, 'langgraph_node': 'LLM binded with tools', 'langgraph_triggers': ('branch:to:LLM binded with tools',), 'langgraph_path': ('__pregel_pull', 'LLM binded with tools'), 'langgraph_checkpoint_ns': 'LLM binded with tools:1bb249a2-8a8c-583a-ffd3-3a4ebf011190'}, 'data': {'chunk': {'messages': [AIMessage(content=\"Hello! I'm doing great, thank you. How can I assist you today?\", additional_kwargs={}, response_metadata={'finish_reason': 'stop', 'model_name': 'gpt-4.1-mini-2025-04-14', 'system_fingerprint': 'fp_95d112f245', 'service_tier': 'default'}, id='run--49a0b902-1c3f-4d60-90d1-674904ec0d5b', usage_metadata={'input_tokens': 345, 'output_tokens': 17, 'total_tokens': 362, 'input_token_details': {'audio': 0, 'cache_read': 0}, 'output_token_details': {'audio': 0, 'reasoning': 0}})]}}, 'parent_ids': ['29b7ca31-3292-4226-b7a8-f89db4a7a6e6']}\n",
      "{'event': 'on_chain_end', 'data': {'output': {'messages': [AIMessage(content=\"Hello! I'm doing great, thank you. How can I assist you today?\", additional_kwargs={}, response_metadata={'finish_reason': 'stop', 'model_name': 'gpt-4.1-mini-2025-04-14', 'system_fingerprint': 'fp_95d112f245', 'service_tier': 'default'}, id='run--49a0b902-1c3f-4d60-90d1-674904ec0d5b', usage_metadata={'input_tokens': 345, 'output_tokens': 17, 'total_tokens': 362, 'input_token_details': {'audio': 0, 'cache_read': 0}, 'output_token_details': {'audio': 0, 'reasoning': 0}})]}, 'input': {'messages': [HumanMessage(content='HI How are you doing?', additional_kwargs={}, response_metadata={}, id='8932f158-e001-41d8-951b-e01433df18fd')]}}, 'run_id': '6546ca20-8e20-43fb-be60-e75ec735f4d7', 'name': 'LLM binded with tools', 'tags': ['graph:step:1'], 'metadata': {'thread_id': '3', 'langgraph_step': 1, 'langgraph_node': 'LLM binded with tools', 'langgraph_triggers': ('branch:to:LLM binded with tools',), 'langgraph_path': ('__pregel_pull', 'LLM binded with tools'), 'langgraph_checkpoint_ns': 'LLM binded with tools:1bb249a2-8a8c-583a-ffd3-3a4ebf011190', 'LANGSMITH_PROJECT': 'langraph_tutorials', 'LANGSMITH_ENDPOINT': 'https://api.smith.langchain.com', 'revision_id': 'f3387a8'}, 'parent_ids': ['29b7ca31-3292-4226-b7a8-f89db4a7a6e6']}\n",
      "{'event': 'on_chain_stream', 'run_id': '29b7ca31-3292-4226-b7a8-f89db4a7a6e6', 'name': 'LangGraph', 'tags': [], 'metadata': {'thread_id': '3', 'LANGSMITH_PROJECT': 'langraph_tutorials', 'LANGSMITH_ENDPOINT': 'https://api.smith.langchain.com', 'revision_id': 'f3387a8'}, 'data': {'chunk': {'LLM binded with tools': {'messages': [AIMessage(content=\"Hello! I'm doing great, thank you. How can I assist you today?\", additional_kwargs={}, response_metadata={'finish_reason': 'stop', 'model_name': 'gpt-4.1-mini-2025-04-14', 'system_fingerprint': 'fp_95d112f245', 'service_tier': 'default'}, id='run--49a0b902-1c3f-4d60-90d1-674904ec0d5b', usage_metadata={'input_tokens': 345, 'output_tokens': 17, 'total_tokens': 362, 'input_token_details': {'audio': 0, 'cache_read': 0}, 'output_token_details': {'audio': 0, 'reasoning': 0}})]}}}, 'parent_ids': []}\n",
      "{'event': 'on_chain_end', 'data': {'output': {'messages': [HumanMessage(content='HI How are you doing?', additional_kwargs={}, response_metadata={}, id='8932f158-e001-41d8-951b-e01433df18fd'), AIMessage(content=\"Hello! I'm doing great, thank you. How can I assist you today?\", additional_kwargs={}, response_metadata={'finish_reason': 'stop', 'model_name': 'gpt-4.1-mini-2025-04-14', 'system_fingerprint': 'fp_95d112f245', 'service_tier': 'default'}, id='run--49a0b902-1c3f-4d60-90d1-674904ec0d5b', usage_metadata={'input_tokens': 345, 'output_tokens': 17, 'total_tokens': 362, 'input_token_details': {'audio': 0, 'cache_read': 0}, 'output_token_details': {'audio': 0, 'reasoning': 0}})]}}, 'run_id': '29b7ca31-3292-4226-b7a8-f89db4a7a6e6', 'name': 'LangGraph', 'tags': [], 'metadata': {'thread_id': '3', 'LANGSMITH_PROJECT': 'langraph_tutorials', 'LANGSMITH_ENDPOINT': 'https://api.smith.langchain.com', 'revision_id': 'f3387a8'}, 'parent_ids': []}\n"
     ]
    }
   ],
   "source": [
    "config = {\"configurable\": {\"thread_id\": \"3\"}}\n",
    "\n",
    "async for event in app2.astream_events({\"messages\":[\"HI How are you doing?\"]},config,version=\"v2\"):\n",
    "    print(event)"
   ]
  },
  {
   "cell_type": "code",
   "execution_count": 44,
   "id": "2cddf379",
   "metadata": {},
   "outputs": [
    {
     "name": "stdout",
     "output_type": "stream",
     "text": [
      "The 2011 ICC Cricket World Cup was the tenth edition of the Cricket World Cup. It was hosted by India, Sri Lanka, and Bangladesh, with Bangladesh hosting World Cup matches for the first time. India won the tournament by defeating Sri Lanka by six wickets in the final held at Wankhede Stadium in Mumbai. This victory made India the first country to win the Cricket World Cup final on home soil. The tournament featured 18 umpires from various countries officiating the matches. If you want more specific details or information about particular matches or players, feel free to ask!"
     ]
    }
   ],
   "source": [
    "config = {\"configurable\": {\"thread_id\": \"8\"}}\n",
    "input = {\n",
    "    \"messages\": [\"give me details about cricket world cup 2011?\"]\n",
    "}\n",
    "\n",
    "events = app2.astream_events(input=input, config = config,version=\"v2\")\n",
    "\n",
    "async for event in events: \n",
    "    if event[\"event\"] == \"on_chat_model_stream\":\n",
    "        print(event[\"data\"][\"chunk\"].content, end=\"\", flush=True)"
   ]
  },
  {
   "cell_type": "markdown",
   "id": "4b6ebe63",
   "metadata": {},
   "source": [
    "## Small experiment : using the weather api as a tool"
   ]
  },
  {
   "cell_type": "code",
   "execution_count": 45,
   "id": "81ae763a",
   "metadata": {},
   "outputs": [],
   "source": [
    "load_dotenv()\n",
    "weather_api = os.getenv(\"WEATHER_API_KEY\")"
   ]
  },
  {
   "cell_type": "code",
   "execution_count": 46,
   "id": "5eece37f",
   "metadata": {},
   "outputs": [
    {
     "name": "stdout",
     "output_type": "stream",
     "text": [
      "Weather in Bengaluru, India:\n",
      "- Condition: Partly cloudy\n",
      "- Temperature: 23.0°C (Feels like: 25.1°C)\n",
      "- Wind: 7.2 kph, Direction: ESE\n",
      "- Humidity: 89%\n",
      "- Cloudiness: 75%\n",
      "- Last updated: 2025-10-08 19:15\n",
      "\n",
      "Air Quality Index (AQI):\n",
      "- CO (Carbon Monoxide): 537.85 µg/m³\n",
      "- NO2 (Nitrogen Dioxide): 14.25 µg/m³\n",
      "- O3 (Ozone): 125.0 µg/m³\n",
      "- PM10 (Particulate Matter <10µm): 32.65 µg/m³\n",
      "- PM2.5 (Particulate Matter <2.5µm): 25.55 µg/m³\n",
      "- SO2 (Sulfur Dioxide): 7.65 µg/m³\n"
     ]
    }
   ],
   "source": [
    "import requests\n",
    "def get_detailed_weather_weatherapi(city: str):\n",
    "    \"\"\"\n",
    "    Fetches an extended weather report, including air quality, for a given city using WeatherAPI.\n",
    "\n",
    "    Parameters:\n",
    "        city (str): The name of the city to get the weather for.\n",
    "        api_key (str): Your WeatherAPI key.\n",
    "\n",
    "    Returns:\n",
    "        str: A detailed weather and air quality report as a text message.\n",
    "    \"\"\"\n",
    "    base_url = \"http://api.weatherapi.com/v1/current.json\"\n",
    "    params = {\n",
    "        \"key\": weather_api,\n",
    "        \"q\": city,\n",
    "        \"aqi\": \"yes\"  # Include air quality data\n",
    "    }\n",
    "    \n",
    "    try:\n",
    "        response = requests.get(base_url, params=params)\n",
    "        data = response.json()\n",
    "        \n",
    "        if response.status_code == 200:\n",
    "            # Extract key weather details\n",
    "            location = data[\"location\"][\"name\"]\n",
    "            country = data[\"location\"][\"country\"]\n",
    "            temperature = data[\"current\"][\"temp_c\"]\n",
    "            feels_like = data[\"current\"][\"feelslike_c\"]\n",
    "            condition = data[\"current\"][\"condition\"][\"text\"]\n",
    "            wind_speed = data[\"current\"][\"wind_kph\"]\n",
    "            wind_direction = data[\"current\"][\"wind_dir\"]\n",
    "            humidity = data[\"current\"][\"humidity\"]\n",
    "            cloudiness = data[\"current\"][\"cloud\"]\n",
    "            last_updated = data[\"current\"][\"last_updated\"]\n",
    "\n",
    "            # Extract air quality data\n",
    "            aqi_data = data[\"current\"][\"air_quality\"]\n",
    "            co = aqi_data.get(\"co\", \"N/A\")  # Carbon Monoxide\n",
    "            no2 = aqi_data.get(\"no2\", \"N/A\")  # Nitrogen Dioxide\n",
    "            o3 = aqi_data.get(\"o3\", \"N/A\")  # Ozone\n",
    "            pm10 = aqi_data.get(\"pm10\", \"N/A\")  # Particulate Matter 10\n",
    "            pm2_5 = aqi_data.get(\"pm2_5\", \"N/A\")  # Particulate Matter 2.5\n",
    "            so2 = aqi_data.get(\"so2\", \"N/A\")  # Sulfur Dioxide\n",
    "\n",
    "            # Build the detailed weather and air quality report\n",
    "            weather_report = (\n",
    "                f\"Weather in {location}, {country}:\\n\"\n",
    "                f\"- Condition: {condition}\\n\"\n",
    "                f\"- Temperature: {temperature}°C (Feels like: {feels_like}°C)\\n\"\n",
    "                f\"- Wind: {wind_speed} kph, Direction: {wind_direction}\\n\"\n",
    "                f\"- Humidity: {humidity}%\\n\"\n",
    "                f\"- Cloudiness: {cloudiness}%\\n\"\n",
    "                f\"- Last updated: {last_updated}\\n\\n\"\n",
    "                f\"Air Quality Index (AQI):\\n\"\n",
    "                f\"- CO (Carbon Monoxide): {co} µg/m³\\n\"\n",
    "                f\"- NO2 (Nitrogen Dioxide): {no2} µg/m³\\n\"\n",
    "                f\"- O3 (Ozone): {o3} µg/m³\\n\"\n",
    "                f\"- PM10 (Particulate Matter <10µm): {pm10} µg/m³\\n\"\n",
    "                f\"- PM2.5 (Particulate Matter <2.5µm): {pm2_5} µg/m³\\n\"\n",
    "                f\"- SO2 (Sulfur Dioxide): {so2} µg/m³\"\n",
    "            )\n",
    "            return weather_report\n",
    "        else:\n",
    "            return f\"Error: {data.get('error', {}).get('message', 'Unable to fetch weather data')}\"\n",
    "    except Exception as e:\n",
    "        return f\"An error occurred: {str(e)}\"\n",
    "\n",
    "city_name = \"Bengaluru\"\n",
    "print(get_detailed_weather_weatherapi(city_name))"
   ]
  },
  {
   "cell_type": "code",
   "execution_count": 47,
   "id": "bc5c2805",
   "metadata": {},
   "outputs": [],
   "source": [
    "tools_list = [get_detailed_weather_weatherapi]"
   ]
  },
  {
   "cell_type": "code",
   "execution_count": 48,
   "id": "90b9103e",
   "metadata": {},
   "outputs": [],
   "source": [
    "llm_with_tool = model.bind_tools(tools_list)"
   ]
  },
  {
   "cell_type": "code",
   "execution_count": 49,
   "id": "0439c2d4",
   "metadata": {},
   "outputs": [],
   "source": [
    "#define the nodes\n",
    "def tool_calling_llm(state: State):\n",
    "    response = llm_with_tool.invoke(state[\"messages\"])\n",
    "    return {\"messages\": [response]}"
   ]
  },
  {
   "cell_type": "code",
   "execution_count": 50,
   "id": "61c4edad",
   "metadata": {},
   "outputs": [],
   "source": [
    "#define the workflow\n",
    "graph = StateGraph(State)\n",
    "graph.add_node(\"LLM binded with tools\" , tool_calling_llm)\n",
    "graph.add_node(\"tools\" , ToolNode(tools_list))\n",
    "\n",
    "graph.add_edge(START, \"LLM binded with tools\")\n",
    "graph.add_conditional_edges(\n",
    "    \"LLM binded with tools\",\n",
    "    tools_condition\n",
    ")\n",
    "\n",
    "graph.add_edge(\"tools\" , END)\n",
    "\n",
    "app = graph.compile()"
   ]
  },
  {
   "cell_type": "code",
   "execution_count": 51,
   "id": "b3e8a887",
   "metadata": {},
   "outputs": [
    {
     "data": {
      "image/png": "[encoded data removed]",
      "text/plain": [
       "<IPython.core.display.Image object>"
      ]
     },
     "metadata": {},
     "output_type": "display_data"
    }
   ],
   "source": [
    "display_graph(app)"
   ]
  },
  {
   "cell_type": "code",
   "execution_count": 52,
   "id": "c307f57a",
   "metadata": {},
   "outputs": [],
   "source": [
    "response = app.invoke({\n",
    "    \"messages\": [\"What is the weather in bangalore today?\"]\n",
    "})"
   ]
  },
  {
   "cell_type": "code",
   "execution_count": 53,
   "id": "c7e99acd",
   "metadata": {},
   "outputs": [
    {
     "name": "stdout",
     "output_type": "stream",
     "text": [
      "================================\u001b[1m Human Message \u001b[0m=================================\n",
      "\n",
      "What is the weather in bangalore today?\n",
      "==================================\u001b[1m Ai Message \u001b[0m==================================\n",
      "Tool Calls:\n",
      "  get_detailed_weather_weatherapi (call_bR3CE0QKZY8JDxo1c85P6f41)\n",
      " Call ID: call_bR3CE0QKZY8JDxo1c85P6f41\n",
      "  Args:\n",
      "    city: Bangalore\n",
      "=================================\u001b[1m Tool Message \u001b[0m=================================\n",
      "Name: get_detailed_weather_weatherapi\n",
      "\n",
      "Weather in Bangalore, India:\n",
      "- Condition: Partly cloudy\n",
      "- Temperature: 23.0°C (Feels like: 25.1°C)\n",
      "- Wind: 7.2 kph, Direction: ESE\n",
      "- Humidity: 89%\n",
      "- Cloudiness: 75%\n",
      "- Last updated: 2025-10-08 19:15\n",
      "\n",
      "Air Quality Index (AQI):\n",
      "- CO (Carbon Monoxide): 537.85 µg/m³\n",
      "- NO2 (Nitrogen Dioxide): 14.25 µg/m³\n",
      "- O3 (Ozone): 125.0 µg/m³\n",
      "- PM10 (Particulate Matter <10µm): 32.65 µg/m³\n",
      "- PM2.5 (Particulate Matter <2.5µm): 25.55 µg/m³\n",
      "- SO2 (Sulfur Dioxide): 7.65 µg/m³\n"
     ]
    }
   ],
   "source": [
    "for m in response['messages']:\n",
    "    m.pretty_print()\n",
    "    \n",
    "    "
   ]
  },
  {
   "cell_type": "code",
   "execution_count": 54,
   "id": "94170e8a",
   "metadata": {},
   "outputs": [],
   "source": [
    "from langchain_core.prompts import PromptTemplate\n",
    "def generate_weather_report(state: State):\n",
    "    \"\"\"\n",
    "    generate a weather report for the user\n",
    "    \"\"\"\n",
    "\n",
    "    weather_data = state[\"messages\"][-1].content\n",
    "\n",
    "    # Prompt template\n",
    "    weather_template = PromptTemplate(\n",
    "        template=\"\"\"\n",
    "        You are a detailed weather report generator.\n",
    "\n",
    "        You will be given the weather data  {weather_data}\n",
    "\n",
    "        Your target is to generate a weather report for the user in a detailed manner.\n",
    "\n",
    "        1. Genrate the weather report in a manner that is easier to understand\n",
    "        2. Suggest some activities to be done during these weather.\n",
    "        3. Suggest some precautions to be taken during these weather.\n",
    "\n",
    "        \"\"\",\n",
    "\n",
    "        input_variables=['weather_data'],\n",
    "        validate_template=True\n",
    "    )\n",
    "\n",
    "    chain = weather_template | model\n",
    "\n",
    "    response = chain.invoke({\"weather_data\":weather_data})\n",
    "\n",
    "    return {\"messages\": [response]}"
   ]
  },
  {
   "cell_type": "code",
   "execution_count": 55,
   "id": "c73e7d61",
   "metadata": {},
   "outputs": [],
   "source": [
    "#define the workflow\n",
    "graph = StateGraph(State)\n",
    "\n",
    "graph.add_node(\"LLM binded with tools\" , tool_calling_llm)\n",
    "graph.add_node(\"tools\" , ToolNode(tools_list))\n",
    "graph.add_node(\"weather report generator\" , generate_weather_report)\n",
    "\n",
    "graph.add_edge(START, \"LLM binded with tools\")\n",
    "graph.add_conditional_edges(\n",
    "    \"LLM binded with tools\",\n",
    "    tools_condition\n",
    ")\n",
    "\n",
    "graph.add_edge(\"tools\" , \"weather report generator\")\n",
    "graph.add_edge(\"weather report generator\" , END)\n",
    "\n",
    "app = graph.compile()"
   ]
  },
  {
   "cell_type": "code",
   "execution_count": 56,
   "id": "ac2b402c",
   "metadata": {},
   "outputs": [
    {
     "data": {
      "image/png": "[encoded data removed]",
      "text/plain": [
       "<IPython.core.display.Image object>"
      ]
     },
     "metadata": {},
     "output_type": "display_data"
    }
   ],
   "source": [
    "display_graph(app)"
   ]
  },
  {
   "cell_type": "code",
   "execution_count": 57,
   "id": "270a6bd2",
   "metadata": {},
   "outputs": [],
   "source": [
    "response = app.invoke(\n",
    "    {\n",
    "        \"messages\": [\"What is the weather in bangalore today?\"]\n",
    "    }\n",
    ")"
   ]
  },
  {
   "cell_type": "code",
   "execution_count": 58,
   "id": "f4963e1f",
   "metadata": {},
   "outputs": [
    {
     "name": "stdout",
     "output_type": "stream",
     "text": [
      "================================\u001b[1m Human Message \u001b[0m=================================\n",
      "\n",
      "What is the weather in bangalore today?\n",
      "==================================\u001b[1m Ai Message \u001b[0m==================================\n",
      "Tool Calls:\n",
      "  get_detailed_weather_weatherapi (call_p7HHfW6VQlGQCMHKhqt5VlwN)\n",
      " Call ID: call_p7HHfW6VQlGQCMHKhqt5VlwN\n",
      "  Args:\n",
      "    city: Bangalore\n",
      "=================================\u001b[1m Tool Message \u001b[0m=================================\n",
      "Name: get_detailed_weather_weatherapi\n",
      "\n",
      "Weather in Bangalore, India:\n",
      "- Condition: Partly cloudy\n",
      "- Temperature: 23.0°C (Feels like: 25.1°C)\n",
      "- Wind: 7.2 kph, Direction: ESE\n",
      "- Humidity: 89%\n",
      "- Cloudiness: 75%\n",
      "- Last updated: 2025-10-08 19:15\n",
      "\n",
      "Air Quality Index (AQI):\n",
      "- CO (Carbon Monoxide): 537.85 µg/m³\n",
      "- NO2 (Nitrogen Dioxide): 14.25 µg/m³\n",
      "- O3 (Ozone): 125.0 µg/m³\n",
      "- PM10 (Particulate Matter <10µm): 32.65 µg/m³\n",
      "- PM2.5 (Particulate Matter <2.5µm): 25.55 µg/m³\n",
      "- SO2 (Sulfur Dioxide): 7.65 µg/m³\n",
      "==================================\u001b[1m Ai Message \u001b[0m==================================\n",
      "\n",
      "**Detailed Weather Report for Bangalore, India**\n",
      "\n",
      "As of the latest update on October 8, 2025, at 7:15 PM, Bangalore is experiencing partly cloudy skies with a significant amount of cloud cover, about 75%. The temperature is a comfortable 23.0°C, but it feels slightly warmer at 25.1°C due to humidity and wind conditions. The wind is blowing gently from the east-southeast at a speed of 7.2 kilometers per hour. Humidity levels are quite high at 89%, which may make the air feel a bit muggy.\n",
      "\n",
      "**Air Quality Overview:**\n",
      "\n",
      "- Carbon Monoxide (CO) levels are notably high at 537.85 µg/m³, which is a concern for sensitive groups.\n",
      "- Nitrogen Dioxide (NO2) is at 14.25 µg/m³, within moderate limits.\n",
      "- Ozone (O3) concentration is 125.0 µg/m³, which is moderate.\n",
      "- Particulate Matter (PM10) is at 32.65 µg/m³, and PM2.5 is at 25.55 µg/m³, both indicating moderate air quality.\n",
      "- Sulfur Dioxide (SO2) is low at 7.65 µg/m³.\n",
      "\n",
      "Overall, the air quality is moderate but with elevated carbon monoxide levels, so caution is advised, especially for individuals with respiratory issues.\n",
      "\n",
      "---\n",
      "\n",
      "### Suggested Activities:\n",
      "\n",
      "1. **Evening Walk or Jog:** The temperature is pleasant and the wind is mild, making it a good time for light outdoor exercise.\n",
      "2. **Outdoor Socializing:** Partly cloudy skies and moderate temperatures are ideal for meeting friends or family in open-air cafes or parks.\n",
      "3. **Photography:** The cloud cover can create interesting lighting conditions for photography enthusiasts.\n",
      "4. **Indoor Hobbies:** Given the moderate air quality, if you are sensitive to pollution, consider indoor activities like reading, cooking, or practicing yoga.\n",
      "\n",
      "---\n",
      "\n",
      "### Precautions to Take:\n",
      "\n",
      "1. **Limit Outdoor Exposure if Sensitive:** People with asthma, respiratory conditions, or heart problems should limit prolonged outdoor activities due to elevated carbon monoxide levels.\n",
      "2. **Stay Hydrated:** High humidity can cause dehydration, so drink plenty of water.\n",
      "3. **Use Masks if Needed:** Wearing a mask can help reduce inhalation of particulate matter and carbon monoxide, especially if you are outdoors for extended periods.\n",
      "4. **Keep Windows Closed if Possible:** To minimize indoor pollution from outside air, especially during peak traffic hours.\n",
      "5. **Monitor Symptoms:** If you experience coughing, shortness of breath, or dizziness, seek fresh air and medical advice if necessary.\n",
      "\n",
      "---\n",
      "\n",
      "In summary, Bangalore’s weather is mild and partly cloudy with comfortable temperatures, suitable for light outdoor activities. However, due to moderate air pollution levels, especially high carbon monoxide, it is important to take necessary precautions to protect your health. Stay safe and enjoy your day!\n"
     ]
    }
   ],
   "source": [
    "for m in response['messages']:\n",
    "    m.pretty_print()"
   ]
  },
  {
   "cell_type": "code",
   "execution_count": null,
   "id": "0f6d738f",
   "metadata": {},
   "outputs": [],
   "source": []
  },
  {
   "cell_type": "code",
   "execution_count": null,
   "id": "8b5a79a2",
   "metadata": {},
   "outputs": [],
   "source": []
  },
  {
   "cell_type": "code",
   "execution_count": null,
   "id": "53c1f642",
   "metadata": {},
   "outputs": [],
   "source": []
  },
  {
   "cell_type": "code",
   "execution_count": null,
   "id": "c0ac1afe",
   "metadata": {},
   "outputs": [],
   "source": []
  }
 ],
 "metadata": {
  "kernelspec": {
   "display_name": ".venv",
   "language": "python",
   "name": "python3"
  },
  "language_info": {
   "codemirror_mode": {
    "name": "ipython",
    "version": 3
   },
   "file_extension": ".py",
   "mimetype": "text/x-python",
   "name": "python",
   "nbconvert_exporter": "python",
   "pygments_lexer": "ipython3",
   "version": "3.11.13"
  }
 },
 "nbformat": 4,
 "nbformat_minor": 5
}
