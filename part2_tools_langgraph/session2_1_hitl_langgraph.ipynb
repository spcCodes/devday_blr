{
 "cells": [
  {
   "cell_type": "markdown",
   "id": "59c82bc8",
   "metadata": {},
   "source": [
    "## Loading the environments"
   ]
  },
  {
   "cell_type": "code",
   "execution_count": 1,
   "id": "0364262c",
   "metadata": {},
   "outputs": [
    {
     "data": {
      "text/plain": [
       "True"
      ]
     },
     "execution_count": 1,
     "metadata": {},
     "output_type": "execute_result"
    }
   ],
   "source": [
    "import os\n",
    "from dotenv import load_dotenv\n",
    "load_dotenv()"
   ]
  },
  {
   "cell_type": "markdown",
   "id": "4ab01de6",
   "metadata": {},
   "source": [
    "## Importing the packages"
   ]
  },
  {
   "cell_type": "code",
   "execution_count": 2,
   "id": "395cccc3",
   "metadata": {},
   "outputs": [],
   "source": [
    "from dotenv import load_dotenv\n",
    "from langchain.prompts import ChatPromptTemplate\n",
    "from langchain_openai import ChatOpenAI\n",
    "from IPython.display import Image, display\n",
    "from langgraph.graph import StateGraph , START , END , MessageGraph \n",
    "from langchain_core.messages import HumanMessage , AIMessage , SystemMessage\n",
    "from typing import TypedDict\n",
    "from typing import Annotated\n",
    "from langgraph.graph.message import add_messages\n",
    "from langgraph.graph import MessagesState"
   ]
  },
  {
   "cell_type": "code",
   "execution_count": 3,
   "id": "3a8d76b9",
   "metadata": {},
   "outputs": [],
   "source": [
    "model = ChatOpenAI(model=\"gpt-4.1-mini\", temperature=0)"
   ]
  },
  {
   "cell_type": "markdown",
   "id": "a937af87",
   "metadata": {},
   "source": [
    "## Some utilities function"
   ]
  },
  {
   "cell_type": "code",
   "execution_count": 4,
   "id": "204b2529",
   "metadata": {},
   "outputs": [],
   "source": [
    "# to display the graph\n",
    "def display_graph(app):\n",
    "    # this function will display the graph of the app\n",
    "    try:\n",
    "        display(Image(app.get_graph().draw_mermaid_png()))\n",
    "    except Exception as e:\n",
    "        # This requires some extra dependencies and is optional\n",
    "        print(e)\n",
    "\n",
    "\n",
    "\n",
    "# To stream the output of the app\n",
    "def stream_output(app, input):\n",
    "    for output in app.stream(input):\n",
    "        for key,value in output.items():\n",
    "            print(f\"here is output from {key}\")\n",
    "            print(\"_______\")\n",
    "            print(value)\n",
    "            print(\"\\n\")"
   ]
  },
  {
   "cell_type": "markdown",
   "id": "021c4676",
   "metadata": {},
   "source": [
    "## Defining the nodes"
   ]
  },
  {
   "cell_type": "code",
   "execution_count": 5,
   "id": "0fa4ff9a",
   "metadata": {},
   "outputs": [],
   "source": [
    "def check_price(item: str):\n",
    "    \"\"\"Check the price of an item in the store (in INR).\n",
    "\n",
    "    Args:\n",
    "        item: name of the item (e.g., 'apple', 'milk')\n",
    "\n",
    "    Returns:\n",
    "        Price of each of the item in INR\n",
    "    \"\"\"\n",
    "    prices_inr = {\n",
    "        \"apple\": 30.0,      # ₹30 per apple\n",
    "        \"milk\": 60.0,       # ₹60 per litre\n",
    "        \"bread\": 40.0,      # ₹40 per loaf\n",
    "        \"chocolate\": 100.0  # ₹100 per bar\n",
    "    }\n",
    "    return prices_inr.get(item.lower(), 0.0)\n",
    "\n",
    "\n",
    "def add_to_cart(item: str, quantity: int):\n",
    "    \"\"\"Add an item to the cart with given quantity.\n",
    "\n",
    "    Args:\n",
    "        item: name of the item\n",
    "        quantity: number of items to add\n",
    "\n",
    "    Returns:\n",
    "        Confirmation message\n",
    "    \"\"\"\n",
    "    return f\"Added {quantity} x {item} to your cart.\"\n",
    "\n",
    "\n",
    "\n",
    "def calculate_total(prices: list[float]):\n",
    "    \"\"\"Calculate total bill in INR.\n",
    "\n",
    "    Args:\n",
    "        prices: list of item prices\n",
    "\n",
    "    Returns:\n",
    "        Total price formatted in INR\n",
    "    \"\"\"\n",
    "    total = sum(prices)\n",
    "    return f\"Total bill: ₹{total:.2f}\""
   ]
  },
  {
   "cell_type": "code",
   "execution_count": 6,
   "id": "8f8492d7",
   "metadata": {},
   "outputs": [],
   "source": [
    "tools_list = [check_price,add_to_cart,calculate_total]\n",
    "\n",
    "llm_with_tools = model.bind_tools(tools_list)"
   ]
  },
  {
   "cell_type": "code",
   "execution_count": 7,
   "id": "bb818733",
   "metadata": {},
   "outputs": [],
   "source": [
    "from IPython.display import Image, display\n",
    "from langgraph.checkpoint.memory import MemorySaver\n",
    "from langgraph.graph import MessagesState\n",
    "from langgraph.graph import START, StateGraph\n",
    "from langgraph.prebuilt import tools_condition, ToolNode\n",
    "\n",
    "from langchain_core.messages import AIMessage, HumanMessage, SystemMessage\n",
    "\n",
    "# System message (updated for shopping agent)\n",
    "sys_msg = SystemMessage(content=\"You are a helpful shopping agent that helps users check prices, add items to their cart, and calculate the total bill in INR.\")\n",
    "\n",
    "# Node\n",
    "def agent(state: MessagesState):\n",
    "    return {\"messages\": [llm_with_tools.invoke([sys_msg] + state[\"messages\"])]}\n",
    "\n",
    "# Graph\n",
    "builder = StateGraph(MessagesState)\n",
    "\n",
    "# Define nodes: these do the work\n",
    "builder.add_node(\"agent\", agent)\n",
    "builder.add_node(\"tools\", ToolNode(tools_list))\n",
    "\n",
    "# Define edges: these determine the control flow\n",
    "builder.add_edge(START, \"agent\")\n",
    "builder.add_conditional_edges(\n",
    "    \"agent\",\n",
    "    # If the latest message (result) from agent is a tool call -> tools_condition routes to tools\n",
    "    # If the latest message (result) from agent is a not a tool call -> tools_condition routes to END\n",
    "    tools_condition,\n",
    ")\n",
    "builder.add_edge(\"tools\", \"agent\")\n",
    "\n",
    "memory = MemorySaver()\n",
    "graph = builder.compile(interrupt_before=[\"tools\"], checkpointer=memory)"
   ]
  },
  {
   "cell_type": "code",
   "execution_count": 8,
   "id": "95a82976",
   "metadata": {},
   "outputs": [
    {
     "data": {
      "image/png": "[encoded data removed]",
      "text/plain": [
       "<IPython.core.display.Image object>"
      ]
     },
     "metadata": {},
     "output_type": "display_data"
    }
   ],
   "source": [
    "display_graph(graph)"
   ]
  },
  {
   "cell_type": "code",
   "execution_count": 9,
   "id": "325358f1",
   "metadata": {},
   "outputs": [
    {
     "name": "stdout",
     "output_type": "stream",
     "text": [
      "================================\u001b[1m Human Message \u001b[0m=================================\n",
      "\n",
      "How much does an apple cost?\n",
      "==================================\u001b[1m Ai Message \u001b[0m==================================\n",
      "Tool Calls:\n",
      "  check_price (call_4T8k8IN7KGwJxUQ7WGDNYjE7)\n",
      " Call ID: call_4T8k8IN7KGwJxUQ7WGDNYjE7\n",
      "  Args:\n",
      "    item: apple\n"
     ]
    }
   ],
   "source": [
    "# Input\n",
    "initial_input = {\"messages\": HumanMessage(content=\"How much does an apple cost?\")}\n",
    "\n",
    "# Thread\n",
    "thread = {\"configurable\": {\"thread_id\": \"2\"}}\n",
    "\n",
    "# Run the graph until the first interruption\n",
    "for event in graph.stream(initial_input, thread, stream_mode=\"values\"):\n",
    "    event['messages'][-1].pretty_print()"
   ]
  },
  {
   "cell_type": "code",
   "execution_count": 10,
   "id": "baa1ec3d",
   "metadata": {},
   "outputs": [
    {
     "name": "stdout",
     "output_type": "stream",
     "text": [
      "==================================\u001b[1m Ai Message \u001b[0m==================================\n",
      "Tool Calls:\n",
      "  check_price (call_4T8k8IN7KGwJxUQ7WGDNYjE7)\n",
      " Call ID: call_4T8k8IN7KGwJxUQ7WGDNYjE7\n",
      "  Args:\n",
      "    item: apple\n",
      "=================================\u001b[1m Tool Message \u001b[0m=================================\n",
      "Name: check_price\n",
      "\n",
      "30.0\n",
      "==================================\u001b[1m Ai Message \u001b[0m==================================\n",
      "\n",
      "An apple costs 30 INR. Would you like to add some apples to your cart? If yes, please specify the quantity.\n"
     ]
    }
   ],
   "source": [
    "for event in graph.stream(None, thread, stream_mode=\"values\"):\n",
    "    event['messages'][-1].pretty_print()"
   ]
  },
  {
   "cell_type": "code",
   "execution_count": 11,
   "id": "3a8c1ef0",
   "metadata": {},
   "outputs": [
    {
     "name": "stdout",
     "output_type": "stream",
     "text": [
      "================================\u001b[1m Human Message \u001b[0m=================================\n",
      "\n",
      "Please help find me the total price of 10 qty of chocolates\n",
      "==================================\u001b[1m Ai Message \u001b[0m==================================\n",
      "Tool Calls:\n",
      "  check_price (call_7EOYpPCli7RwgMABNk6UBP2M)\n",
      " Call ID: call_7EOYpPCli7RwgMABNk6UBP2M\n",
      "  Args:\n",
      "    item: chocolate\n"
     ]
    }
   ],
   "source": [
    "# Input\n",
    "initial_input = {\"messages\": HumanMessage(content=\"Please help find me the total price of 10 qty of chocolates\")}\n",
    "\n",
    "# Thread\n",
    "thread = {\"configurable\": {\"thread_id\": \"3\"}}\n",
    "\n",
    "# Run the graph until the first interruption\n",
    "for event in graph.stream(initial_input, thread, stream_mode=\"values\"):\n",
    "    event['messages'][-1].pretty_print()"
   ]
  },
  {
   "cell_type": "code",
   "execution_count": 12,
   "id": "e00e0b32",
   "metadata": {},
   "outputs": [],
   "source": [
    "state = graph.get_state(thread)"
   ]
  },
  {
   "cell_type": "code",
   "execution_count": 13,
   "id": "8f159067",
   "metadata": {},
   "outputs": [
    {
     "data": {
      "text/plain": [
       "('tools',)"
      ]
     },
     "execution_count": 13,
     "metadata": {},
     "output_type": "execute_result"
    }
   ],
   "source": [
    "state.next"
   ]
  },
  {
   "cell_type": "code",
   "execution_count": 14,
   "id": "4e69b6d3",
   "metadata": {},
   "outputs": [
    {
     "name": "stdout",
     "output_type": "stream",
     "text": [
      "==================================\u001b[1m Ai Message \u001b[0m==================================\n",
      "Tool Calls:\n",
      "  check_price (call_7EOYpPCli7RwgMABNk6UBP2M)\n",
      " Call ID: call_7EOYpPCli7RwgMABNk6UBP2M\n",
      "  Args:\n",
      "    item: chocolate\n",
      "=================================\u001b[1m Tool Message \u001b[0m=================================\n",
      "Name: check_price\n",
      "\n",
      "100.0\n",
      "==================================\u001b[1m Ai Message \u001b[0m==================================\n",
      "Tool Calls:\n",
      "  add_to_cart (call_tiJgaHV9TBeJwz6xpVbV240K)\n",
      " Call ID: call_tiJgaHV9TBeJwz6xpVbV240K\n",
      "  Args:\n",
      "    item: chocolate\n",
      "    quantity: 10\n"
     ]
    }
   ],
   "source": [
    "# Run the graph until the first interruption\n",
    "for event in graph.stream(None, thread, stream_mode=\"values\"):\n",
    "    event['messages'][-1].pretty_print()"
   ]
  },
  {
   "cell_type": "code",
   "execution_count": 15,
   "id": "8a1a9db1",
   "metadata": {},
   "outputs": [
    {
     "name": "stdout",
     "output_type": "stream",
     "text": [
      "==================================\u001b[1m Ai Message \u001b[0m==================================\n",
      "Tool Calls:\n",
      "  add_to_cart (call_tiJgaHV9TBeJwz6xpVbV240K)\n",
      " Call ID: call_tiJgaHV9TBeJwz6xpVbV240K\n",
      "  Args:\n",
      "    item: chocolate\n",
      "    quantity: 10\n",
      "=================================\u001b[1m Tool Message \u001b[0m=================================\n",
      "Name: add_to_cart\n",
      "\n",
      "Added 10 x chocolate to your cart.\n",
      "==================================\u001b[1m Ai Message \u001b[0m==================================\n",
      "Tool Calls:\n",
      "  calculate_total (call_6VBJak5H0qJ6iGC0p3pMA62D)\n",
      " Call ID: call_6VBJak5H0qJ6iGC0p3pMA62D\n",
      "  Args:\n",
      "    prices: [100]\n"
     ]
    }
   ],
   "source": [
    "# Run the graph until the first interruption\n",
    "for event in graph.stream(None, thread, stream_mode=\"values\"):\n",
    "    event['messages'][-1].pretty_print()"
   ]
  },
  {
   "cell_type": "code",
   "execution_count": 16,
   "id": "c4044561",
   "metadata": {},
   "outputs": [
    {
     "name": "stdout",
     "output_type": "stream",
     "text": [
      "==================================\u001b[1m Ai Message \u001b[0m==================================\n",
      "Tool Calls:\n",
      "  calculate_total (call_6VBJak5H0qJ6iGC0p3pMA62D)\n",
      " Call ID: call_6VBJak5H0qJ6iGC0p3pMA62D\n",
      "  Args:\n",
      "    prices: [100]\n",
      "=================================\u001b[1m Tool Message \u001b[0m=================================\n",
      "Name: calculate_total\n",
      "\n",
      "Total bill: ₹100.00\n",
      "==================================\u001b[1m Ai Message \u001b[0m==================================\n",
      "\n",
      "The price of one chocolate is ₹100. For 10 chocolates, the total price is ₹1000. Would you like to proceed with the purchase or add anything else to your cart?\n"
     ]
    }
   ],
   "source": [
    "# Run the graph until the first interruption\n",
    "for event in graph.stream(None, thread, stream_mode=\"values\"):\n",
    "    event['messages'][-1].pretty_print()"
   ]
  },
  {
   "cell_type": "code",
   "execution_count": 19,
   "id": "e804a3f9",
   "metadata": {},
   "outputs": [
    {
     "name": "stdout",
     "output_type": "stream",
     "text": [
      "================================\u001b[1m Human Message \u001b[0m=================================\n",
      "\n",
      "Add 3 apples and 1 bread to my cart\n",
      "==================================\u001b[1m Ai Message \u001b[0m==================================\n",
      "Tool Calls:\n",
      "  check_price (call_m9rJGSwRZImHK9YdwX0akZdO)\n",
      " Call ID: call_m9rJGSwRZImHK9YdwX0akZdO\n",
      "  Args:\n",
      "    item: apple\n",
      "  check_price (call_vHSXOYDUorYJnjp6xihBacsP)\n",
      " Call ID: call_vHSXOYDUorYJnjp6xihBacsP\n",
      "  Args:\n",
      "    item: bread\n",
      "==================================\u001b[1m Ai Message \u001b[0m==================================\n",
      "Tool Calls:\n",
      "  check_price (call_m9rJGSwRZImHK9YdwX0akZdO)\n",
      " Call ID: call_m9rJGSwRZImHK9YdwX0akZdO\n",
      "  Args:\n",
      "    item: apple\n",
      "  check_price (call_vHSXOYDUorYJnjp6xihBacsP)\n",
      " Call ID: call_vHSXOYDUorYJnjp6xihBacsP\n",
      "  Args:\n",
      "    item: bread\n",
      "=================================\u001b[1m Tool Message \u001b[0m=================================\n",
      "Name: check_price\n",
      "\n",
      "40.0\n",
      "==================================\u001b[1m Ai Message \u001b[0m==================================\n",
      "Tool Calls:\n",
      "  add_to_cart (call_FSAL2pP4mRKEu8qoQk35y8iO)\n",
      " Call ID: call_FSAL2pP4mRKEu8qoQk35y8iO\n",
      "  Args:\n",
      "    item: apple\n",
      "    quantity: 3\n",
      "  add_to_cart (call_08jqgCQAP4dUOGhvDuzwaWEA)\n",
      " Call ID: call_08jqgCQAP4dUOGhvDuzwaWEA\n",
      "  Args:\n",
      "    item: bread\n",
      "    quantity: 1\n"
     ]
    }
   ],
   "source": [
    "# Input\n",
    "initial_input = {\"messages\": HumanMessage(content=\"Add 3 apples and 1 bread to my cart\")}\n",
    "\n",
    "# Thread\n",
    "thread = {\"configurable\": {\"thread_id\": \"4\"}}\n",
    "\n",
    "# Run the graph until the first interruption\n",
    "for event in graph.stream(initial_input, thread, stream_mode=\"values\"):\n",
    "    event['messages'][-1].pretty_print()\n",
    "\n",
    "# Get user feedback\n",
    "user_approval = input(\"Do you want to call the tool? (yes/no): \")\n",
    "\n",
    "# Check approval\n",
    "if user_approval.lower() == \"yes\":\n",
    "    \n",
    "    # If approved, continue the graph execution\n",
    "    for event in graph.stream(None, thread, stream_mode=\"values\"):\n",
    "        event['messages'][-1].pretty_print()\n",
    "        \n",
    "else:\n",
    "    print(\"Operation cancelled by user.\")"
   ]
  },
  {
   "cell_type": "code",
   "execution_count": 20,
   "id": "f5ca6d79",
   "metadata": {},
   "outputs": [
    {
     "name": "stdout",
     "output_type": "stream",
     "text": [
      "==================================\u001b[1m Ai Message \u001b[0m==================================\n",
      "Tool Calls:\n",
      "  add_to_cart (call_FSAL2pP4mRKEu8qoQk35y8iO)\n",
      " Call ID: call_FSAL2pP4mRKEu8qoQk35y8iO\n",
      "  Args:\n",
      "    item: apple\n",
      "    quantity: 3\n",
      "  add_to_cart (call_08jqgCQAP4dUOGhvDuzwaWEA)\n",
      " Call ID: call_08jqgCQAP4dUOGhvDuzwaWEA\n",
      "  Args:\n",
      "    item: bread\n",
      "    quantity: 1\n",
      "=================================\u001b[1m Tool Message \u001b[0m=================================\n",
      "Name: add_to_cart\n",
      "\n",
      "Added 1 x bread to your cart.\n",
      "==================================\u001b[1m Ai Message \u001b[0m==================================\n",
      "\n",
      "I have added 3 apples and 1 bread to your cart. Is there anything else you would like to add?\n"
     ]
    }
   ],
   "source": [
    "# Run the graph until the first interruption\n",
    "for event in graph.stream(None, thread, stream_mode=\"values\"):\n",
    "    event['messages'][-1].pretty_print()"
   ]
  },
  {
   "cell_type": "markdown",
   "id": "c75802ae",
   "metadata": {},
   "source": [
    "## Breakpoints with langgraph API"
   ]
  },
  {
   "cell_type": "markdown",
   "id": "0d82bcf5",
   "metadata": {},
   "source": [
    "As shown above, we can add interrupt_before=[\"node\"] when compiling the graph that is running in Studio.\n",
    "\n",
    "However, with the API, you can also pass interrupt_before to the stream method directly."
   ]
  },
  {
   "cell_type": "code",
   "execution_count": 21,
   "id": "95501f29",
   "metadata": {},
   "outputs": [],
   "source": [
    "# This is the URL of the local development server\n",
    "from langgraph_sdk import get_client\n",
    "client = get_client(url=\"http://127.0.0.1:2024\")"
   ]
  },
  {
   "cell_type": "code",
   "execution_count": 22,
   "id": "c3ab844f",
   "metadata": {},
   "outputs": [
    {
     "name": "stdout",
     "output_type": "stream",
     "text": [
      "Receiving new event of type: metadata...\n",
      "--------------------------------------------------\n",
      "Receiving new event of type: values...\n",
      "{'content': 'Whats the price of 10 apples?', 'additional_kwargs': {}, 'response_metadata': {}, 'type': 'human', 'name': None, 'id': 'cdc2bfe2-ca35-407f-be3f-17abc23d07b0', 'example': False}\n",
      "--------------------------------------------------\n",
      "Receiving new event of type: values...\n",
      "{'content': '', 'additional_kwargs': {'tool_calls': [{'id': 'call_gANOcPwPm9gW3gQJZPDX3Ira', 'function': {'arguments': '{\"item\":\"apple\"}', 'name': 'check_price'}, 'type': 'function'}], 'refusal': None}, 'response_metadata': {'token_usage': {'completion_tokens': 14, 'prompt_tokens': 166, 'total_tokens': 180, 'completion_tokens_details': {'accepted_prediction_tokens': 0, 'audio_tokens': 0, 'reasoning_tokens': 0, 'rejected_prediction_tokens': 0}, 'prompt_tokens_details': {'audio_tokens': 0, 'cached_tokens': 0}}, 'model_name': 'gpt-4.1-mini-2025-04-14', 'system_fingerprint': 'fp_95d112f245', 'id': 'chatcmpl-CORBVNRESt71qH9Dfm58gxVokdk5v', 'service_tier': 'default', 'finish_reason': 'tool_calls', 'logprobs': None}, 'type': 'ai', 'name': None, 'id': 'run--4176e4e0-8008-474a-a0dd-d7708ef41f8d-0', 'example': False, 'tool_calls': [{'name': 'check_price', 'args': {'item': 'apple'}, 'id': 'call_gANOcPwPm9gW3gQJZPDX3Ira', 'type': 'tool_call'}], 'invalid_tool_calls': [], 'usage_metadata': {'input_tokens': 166, 'output_tokens': 14, 'total_tokens': 180, 'input_token_details': {'audio': 0, 'cache_read': 0}, 'output_token_details': {'audio': 0, 'reasoning': 0}}}\n",
      "--------------------------------------------------\n"
     ]
    }
   ],
   "source": [
    "initial_input = {\"messages\": HumanMessage(content=\"Whats the price of 10 apples?\")}\n",
    "thread = await client.threads.create()\n",
    "async for chunk in client.runs.stream(\n",
    "    thread[\"thread_id\"],\n",
    "    \"agent\",\n",
    "    input=initial_input,\n",
    "    stream_mode=\"values\",\n",
    "    interrupt_before=[\"tools\"],\n",
    "):\n",
    "    print(f\"Receiving new event of type: {chunk.event}...\")\n",
    "    messages = chunk.data.get('messages', [])\n",
    "    if messages:\n",
    "        print(messages[-1])\n",
    "    print(\"-\" * 50)"
   ]
  },
  {
   "cell_type": "code",
   "execution_count": 23,
   "id": "a3a1fa21",
   "metadata": {},
   "outputs": [
    {
     "name": "stdout",
     "output_type": "stream",
     "text": [
      "Receiving new event of type: metadata...\n",
      "--------------------------------------------------\n",
      "Receiving new event of type: values...\n",
      "{'content': '', 'additional_kwargs': {'tool_calls': [{'id': 'call_gANOcPwPm9gW3gQJZPDX3Ira', 'function': {'arguments': '{\"item\":\"apple\"}', 'name': 'check_price'}, 'type': 'function'}], 'refusal': None}, 'response_metadata': {'token_usage': {'completion_tokens': 14, 'prompt_tokens': 166, 'total_tokens': 180, 'completion_tokens_details': {'accepted_prediction_tokens': 0, 'audio_tokens': 0, 'reasoning_tokens': 0, 'rejected_prediction_tokens': 0}, 'prompt_tokens_details': {'audio_tokens': 0, 'cached_tokens': 0}}, 'model_name': 'gpt-4.1-mini-2025-04-14', 'system_fingerprint': 'fp_95d112f245', 'id': 'chatcmpl-CORBVNRESt71qH9Dfm58gxVokdk5v', 'service_tier': 'default', 'finish_reason': 'tool_calls', 'logprobs': None}, 'type': 'ai', 'name': None, 'id': 'run--4176e4e0-8008-474a-a0dd-d7708ef41f8d-0', 'example': False, 'tool_calls': [{'name': 'check_price', 'args': {'item': 'apple'}, 'id': 'call_gANOcPwPm9gW3gQJZPDX3Ira', 'type': 'tool_call'}], 'invalid_tool_calls': [], 'usage_metadata': {'input_tokens': 166, 'output_tokens': 14, 'total_tokens': 180, 'input_token_details': {'audio': 0, 'cache_read': 0}, 'output_token_details': {'audio': 0, 'reasoning': 0}}}\n",
      "--------------------------------------------------\n",
      "Receiving new event of type: values...\n",
      "{'content': '30.0', 'additional_kwargs': {}, 'response_metadata': {}, 'type': 'tool', 'name': 'check_price', 'id': 'bbfe4d9c-33f4-4b3e-bf47-83cc692e260d', 'tool_call_id': 'call_gANOcPwPm9gW3gQJZPDX3Ira', 'artifact': None, 'status': 'success'}\n",
      "--------------------------------------------------\n",
      "Receiving new event of type: values...\n",
      "{'content': 'The price of one apple is 30 INR. So, the price of 10 apples would be 300 INR. Would you like me to add 10 apples to your cart?', 'additional_kwargs': {'refusal': None}, 'response_metadata': {'token_usage': {'completion_tokens': 38, 'prompt_tokens': 191, 'total_tokens': 229, 'completion_tokens_details': {'accepted_prediction_tokens': 0, 'audio_tokens': 0, 'reasoning_tokens': 0, 'rejected_prediction_tokens': 0}, 'prompt_tokens_details': {'audio_tokens': 0, 'cached_tokens': 0}}, 'model_name': 'gpt-4.1-mini-2025-04-14', 'system_fingerprint': 'fp_95d112f245', 'id': 'chatcmpl-CORC9Ip8BUtYMf22W5s6pb9mbUEQH', 'service_tier': 'default', 'finish_reason': 'stop', 'logprobs': None}, 'type': 'ai', 'name': None, 'id': 'run--5cf686b2-31a1-4715-b088-e5ad385560f5-0', 'example': False, 'tool_calls': [], 'invalid_tool_calls': [], 'usage_metadata': {'input_tokens': 191, 'output_tokens': 38, 'total_tokens': 229, 'input_token_details': {'audio': 0, 'cache_read': 0}, 'output_token_details': {'audio': 0, 'reasoning': 0}}}\n",
      "--------------------------------------------------\n"
     ]
    }
   ],
   "source": [
    "async for chunk in client.runs.stream(\n",
    "    thread[\"thread_id\"],\n",
    "    \"agent\",\n",
    "    input=None,\n",
    "    stream_mode=\"values\",\n",
    "    interrupt_before=[\"tools\"],\n",
    "):\n",
    "    print(f\"Receiving new event of type: {chunk.event}...\")\n",
    "    messages = chunk.data.get('messages', [])\n",
    "    if messages:\n",
    "        print(messages[-1])\n",
    "    print(\"-\" * 50)"
   ]
  },
  {
   "cell_type": "code",
   "execution_count": null,
   "id": "396b10af",
   "metadata": {},
   "outputs": [],
   "source": []
  },
  {
   "cell_type": "code",
   "execution_count": null,
   "id": "765aa14f",
   "metadata": {},
   "outputs": [],
   "source": []
  },
  {
   "cell_type": "code",
   "execution_count": null,
   "id": "7944a467",
   "metadata": {},
   "outputs": [],
   "source": []
  },
  {
   "cell_type": "code",
   "execution_count": null,
   "id": "c92452a6",
   "metadata": {},
   "outputs": [],
   "source": []
  },
  {
   "cell_type": "code",
   "execution_count": null,
   "id": "3932e350",
   "metadata": {},
   "outputs": [],
   "source": []
  },
  {
   "cell_type": "code",
   "execution_count": null,
   "id": "1e884123",
   "metadata": {},
   "outputs": [],
   "source": []
  },
  {
   "cell_type": "code",
   "execution_count": null,
   "id": "98a8ec3f",
   "metadata": {},
   "outputs": [],
   "source": []
  },
  {
   "cell_type": "code",
   "execution_count": null,
   "id": "ab590e2c",
   "metadata": {},
   "outputs": [],
   "source": []
  },
  {
   "cell_type": "code",
   "execution_count": null,
   "id": "d2be1d87",
   "metadata": {},
   "outputs": [],
   "source": []
  },
  {
   "cell_type": "code",
   "execution_count": null,
   "id": "4c573ec8",
   "metadata": {},
   "outputs": [],
   "source": []
  },
  {
   "cell_type": "code",
   "execution_count": null,
   "id": "a9d507fa",
   "metadata": {},
   "outputs": [],
   "source": []
  },
  {
   "cell_type": "code",
   "execution_count": null,
   "id": "4640011a",
   "metadata": {},
   "outputs": [],
   "source": []
  },
  {
   "cell_type": "code",
   "execution_count": null,
   "id": "f037f73f",
   "metadata": {},
   "outputs": [],
   "source": []
  },
  {
   "cell_type": "code",
   "execution_count": null,
   "id": "e937e828",
   "metadata": {},
   "outputs": [],
   "source": []
  },
  {
   "cell_type": "code",
   "execution_count": null,
   "id": "2bbb1ce4",
   "metadata": {},
   "outputs": [],
   "source": []
  },
  {
   "cell_type": "code",
   "execution_count": null,
   "id": "fb376a77",
   "metadata": {},
   "outputs": [],
   "source": []
  },
  {
   "cell_type": "code",
   "execution_count": null,
   "id": "19e32564",
   "metadata": {},
   "outputs": [],
   "source": []
  },
  {
   "cell_type": "code",
   "execution_count": null,
   "id": "59008ede",
   "metadata": {},
   "outputs": [],
   "source": []
  },
  {
   "cell_type": "code",
   "execution_count": null,
   "id": "89dfe213",
   "metadata": {},
   "outputs": [],
   "source": []
  },
  {
   "cell_type": "code",
   "execution_count": null,
   "id": "13e2b637",
   "metadata": {},
   "outputs": [],
   "source": []
  }
 ],
 "metadata": {
  "kernelspec": {
   "display_name": ".venv",
   "language": "python",
   "name": "python3"
  },
  "language_info": {
   "codemirror_mode": {
    "name": "ipython",
    "version": 3
   },
   "file_extension": ".py",
   "mimetype": "text/x-python",
   "name": "python",
   "nbconvert_exporter": "python",
   "pygments_lexer": "ipython3",
   "version": "3.11.13"
  }
 },
 "nbformat": 4,
 "nbformat_minor": 5
}
