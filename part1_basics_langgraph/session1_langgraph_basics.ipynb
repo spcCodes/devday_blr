{
 "cells": [
  {
   "cell_type": "markdown",
   "id": "fdfb992b",
   "metadata": {},
   "source": [
    "## Loading the environments "
   ]
  },
  {
   "cell_type": "code",
   "execution_count": 1,
   "id": "d91e3067",
   "metadata": {},
   "outputs": [
    {
     "data": {
      "text/plain": [
       "True"
      ]
     },
     "execution_count": 1,
     "metadata": {},
     "output_type": "execute_result"
    }
   ],
   "source": [
    "import os\n",
    "from dotenv import load_dotenv\n",
    "load_dotenv()"
   ]
  },
  {
   "cell_type": "markdown",
   "id": "c2b462d1",
   "metadata": {},
   "source": [
    "## Importing the packages"
   ]
  },
  {
   "cell_type": "code",
   "execution_count": 2,
   "id": "5af21942",
   "metadata": {},
   "outputs": [],
   "source": [
    "from dotenv import load_dotenv\n",
    "from langchain.prompts import ChatPromptTemplate\n",
    "from langchain_openai import ChatOpenAI\n",
    "from IPython.display import Image, display\n",
    "\n",
    "from langgraph.graph import StateGraph , START , END \n",
    "from langchain_core.messages import HumanMessage , AIMessage , SystemMessage\n",
    "from typing import TypedDict\n",
    "from langchain_core.runnables.graph import MermaidDrawMethod"
   ]
  },
  {
   "cell_type": "code",
   "execution_count": 3,
   "id": "61f82318",
   "metadata": {},
   "outputs": [],
   "source": [
    "model = ChatOpenAI(model=\"gpt-4.1-mini\", temperature=0)"
   ]
  },
  {
   "cell_type": "code",
   "execution_count": 4,
   "id": "9e00b72d",
   "metadata": {},
   "outputs": [],
   "source": [
    "# from langchain_google_genai import ChatGoogleGenerativeAI\n",
    "# model = ChatGoogleGenerativeAI(model=\"gemini-2.5-pro\", temperature=0)"
   ]
  },
  {
   "cell_type": "code",
   "execution_count": 5,
   "id": "45c52663",
   "metadata": {},
   "outputs": [
    {
     "data": {
      "text/plain": [
       "AIMessage(content=\"Hello! I'm doing great, thank you. How can I assist you today?\", additional_kwargs={'refusal': None}, response_metadata={'token_usage': {'completion_tokens': 16, 'prompt_tokens': 13, 'total_tokens': 29, 'completion_tokens_details': {'accepted_prediction_tokens': 0, 'audio_tokens': 0, 'reasoning_tokens': 0, 'rejected_prediction_tokens': 0}, 'prompt_tokens_details': {'audio_tokens': 0, 'cached_tokens': 0}}, 'model_name': 'gpt-4.1-mini-2025-04-14', 'system_fingerprint': 'fp_c064fdde7c', 'id': 'chatcmpl-CPI9B94GI2DAOrBhiUFABXPkpmTaT', 'service_tier': 'default', 'finish_reason': 'stop', 'logprobs': None}, id='run--161e9eef-fde1-4389-b462-e1df026298b2-0', usage_metadata={'input_tokens': 13, 'output_tokens': 16, 'total_tokens': 29, 'input_token_details': {'audio': 0, 'cache_read': 0}, 'output_token_details': {'audio': 0, 'reasoning': 0}})"
      ]
     },
     "execution_count": 5,
     "metadata": {},
     "output_type": "execute_result"
    }
   ],
   "source": [
    "model.invoke(\"Hi, How are you?\")"
   ]
  },
  {
   "cell_type": "code",
   "execution_count": 6,
   "id": "1bff2d78",
   "metadata": {},
   "outputs": [],
   "source": [
    "result = model.invoke(\"Hi, How are you?\")"
   ]
  },
  {
   "cell_type": "code",
   "execution_count": 7,
   "id": "429e34c0",
   "metadata": {},
   "outputs": [
    {
     "data": {
      "text/plain": [
       "\"Hello! I'm doing great, thank you. How can I assist you today?\""
      ]
     },
     "execution_count": 7,
     "metadata": {},
     "output_type": "execute_result"
    }
   ],
   "source": [
    "result.content"
   ]
  },
  {
   "cell_type": "markdown",
   "id": "19cdcc1b",
   "metadata": {},
   "source": [
    "## Some utility functions "
   ]
  },
  {
   "cell_type": "code",
   "execution_count": 8,
   "id": "3f5be034",
   "metadata": {},
   "outputs": [],
   "source": [
    "# to display the graph\n",
    "def display_graph(app):\n",
    "    # this function will display the graph of the app\n",
    "    try:\n",
    "        display(Image(app.get_graph().draw_mermaid_png()))\n",
    "    except Exception as e:\n",
    "        # This requires some extra dependencies and is optional\n",
    "        print(e)\n",
    "\n",
    "\n",
    "# To stream the output of the app\n",
    "def stream_output(app, input):\n",
    "    for output in app.stream(input):\n",
    "        for key,value in output.items():\n",
    "            print(f\"here is output from {key}\")\n",
    "            print(\"_______\")\n",
    "            print(value)\n",
    "            print(\"\\n\")\n",
    "\n"
   ]
  },
  {
   "cell_type": "markdown",
   "id": "2c6b345b",
   "metadata": {},
   "source": [
    "## Level 0 : Start with basic workflow"
   ]
  },
  {
   "cell_type": "code",
   "execution_count": 9,
   "id": "87b0f669",
   "metadata": {},
   "outputs": [],
   "source": [
    "# define the state\n",
    "from typing import Annotated\n",
    "from langgraph.graph.message import add_messages\n",
    "\n",
    "class State(TypedDict):\n",
    "    messages:Annotated[list,add_messages]\n"
   ]
  },
  {
   "cell_type": "code",
   "execution_count": 10,
   "id": "72a69b93",
   "metadata": {},
   "outputs": [],
   "source": [
    "def greet_user(state:State):\n",
    "    \"\"\"\n",
    "    This function will greet the user with a message\n",
    "    \"\"\"\n",
    "    user_message = state[\"messages\"][0].content\n",
    "    return {\"messages\" : [f\"Hello {user_message}!\"]}"
   ]
  },
  {
   "cell_type": "code",
   "execution_count": 11,
   "id": "172006c7",
   "metadata": {},
   "outputs": [],
   "source": [
    "#define the graph\n",
    "graph = StateGraph(State)\n",
    "\n",
    "graph.add_node(\"User Greetings\" , greet_user)\n",
    "\n",
    "graph.add_edge(START, \"User Greetings\")\n",
    "graph.add_edge(\"User Greetings\", END)\n",
    "\n",
    "# define the app\n",
    "app = graph.compile()"
   ]
  },
  {
   "cell_type": "code",
   "execution_count": 12,
   "id": "7964620c",
   "metadata": {},
   "outputs": [
    {
     "data": {
      "image/png": "[encoded data removed]",
      "text/plain": [
       "<IPython.core.display.Image object>"
      ]
     },
     "metadata": {},
     "output_type": "display_data"
    }
   ],
   "source": [
    "display_graph(app)"
   ]
  },
  {
   "cell_type": "code",
   "execution_count": 13,
   "id": "c308211f",
   "metadata": {},
   "outputs": [
    {
     "data": {
      "text/plain": [
       "{'messages': [HumanMessage(content='Suman', additional_kwargs={}, response_metadata={}, id='4bfb733f-1d63-4419-a55c-371789223b89'),\n",
       "  HumanMessage(content='Hello Suman!', additional_kwargs={}, response_metadata={}, id='1999e6ff-db30-4d0f-bbec-0089052b4ee8')]}"
      ]
     },
     "execution_count": 13,
     "metadata": {},
     "output_type": "execute_result"
    }
   ],
   "source": [
    "app.invoke({\n",
    "    \"messages\" : \"Suman\"\n",
    "})"
   ]
  },
  {
   "cell_type": "code",
   "execution_count": 14,
   "id": "8b29fcfd",
   "metadata": {},
   "outputs": [
    {
     "name": "stdout",
     "output_type": "stream",
     "text": [
      "here is output from User Greetings\n",
      "_______\n",
      "{'messages': ['Hello Suman!']}\n",
      "\n",
      "\n"
     ]
    }
   ],
   "source": [
    "stream_output(app, {\n",
    "    \"messages\" : \"Suman\"})"
   ]
  },
  {
   "cell_type": "markdown",
   "id": "7ded2ee4",
   "metadata": {},
   "source": [
    "## Level 1: 2 workflows in a graph"
   ]
  },
  {
   "cell_type": "code",
   "execution_count": 15,
   "id": "d2ac9aa7",
   "metadata": {},
   "outputs": [],
   "source": [
    "def greet_user(state: State):\n",
    "    \"\"\"\n",
    "    This function will greet the user with a message\n",
    "    \"\"\"\n",
    "    user_message = state[\"messages\"][0].content\n",
    "    \n",
    "    return {\"messages\": [f\"Hello {user_message}!\"]}\n",
    "\n",
    "def convert_to_uppercase(state: State):\n",
    "    \"\"\"\n",
    "    This function will convert the input word to uppercase\n",
    "    \"\"\"\n",
    "    last_message = state[\"messages\"][-1].content\n",
    "    return {\"messages\": [last_message.upper()]}\n"
   ]
  },
  {
   "cell_type": "code",
   "execution_count": 16,
   "id": "47a9a8f8",
   "metadata": {},
   "outputs": [],
   "source": [
    "# Define the workflow\n",
    "graph = StateGraph(State)\n",
    "\n",
    "graph.add_node(\"User Greetings\" , greet_user)\n",
    "graph.add_node(\"Convert to Uppercase\" , convert_to_uppercase)\n",
    "\n",
    "graph.add_edge(START, \"User Greetings\")\n",
    "graph.add_edge(\"User Greetings\", \"Convert to Uppercase\")\n",
    "graph.add_edge(\"Convert to Uppercase\", END)\n",
    "\n",
    "app = graph.compile()"
   ]
  },
  {
   "cell_type": "code",
   "execution_count": 17,
   "id": "5acb7b38",
   "metadata": {},
   "outputs": [
    {
     "name": "stdout",
     "output_type": "stream",
     "text": [
      "Failed to reach https://mermaid.ink API while trying to render your graph. Status code: 400.\n",
      "\n",
      "To resolve this issue:\n",
      "1. Check your internet connection and try again\n",
      "2. Try with higher retry settings: `draw_mermaid_png(..., max_retries=5, retry_delay=2.0)`\n",
      "3. Use the Pyppeteer rendering method which will render your graph locally in a browser: `draw_mermaid_png(..., draw_method=MermaidDrawMethod.PYPPETEER)`\n"
     ]
    }
   ],
   "source": [
    "display_graph(app)"
   ]
  },
  {
   "cell_type": "code",
   "execution_count": 18,
   "id": "1c6c3007",
   "metadata": {},
   "outputs": [
    {
     "data": {
      "text/plain": [
       "{'messages': [HumanMessage(content='Suman', additional_kwargs={}, response_metadata={}, id='80514d8e-387c-4907-ac6f-c814cbb9d08c'),\n",
       "  HumanMessage(content='Hello Suman!', additional_kwargs={}, response_metadata={}, id='e1069a26-ff38-48a5-82ca-215fa2e0d7eb'),\n",
       "  HumanMessage(content='HELLO SUMAN!', additional_kwargs={}, response_metadata={}, id='a0169e53-a398-40a9-9f55-d84613c48502')]}"
      ]
     },
     "execution_count": 18,
     "metadata": {},
     "output_type": "execute_result"
    }
   ],
   "source": [
    "app.invoke({\"messages\" : \"Suman\"})"
   ]
  },
  {
   "cell_type": "code",
   "execution_count": 19,
   "id": "90542e68",
   "metadata": {},
   "outputs": [
    {
     "name": "stdout",
     "output_type": "stream",
     "text": [
      "here is output from User Greetings\n",
      "_______\n",
      "{'messages': ['Hello Suman!']}\n",
      "\n",
      "\n",
      "here is output from Convert to Uppercase\n",
      "_______\n",
      "{'messages': ['HELLO SUMAN!']}\n",
      "\n",
      "\n"
     ]
    }
   ],
   "source": [
    "stream_output(app, {\"messages\" : \"Suman\"})"
   ]
  },
  {
   "cell_type": "markdown",
   "id": "f5ca0edc",
   "metadata": {},
   "source": [
    "## Level 2: using an LLM and a function in the workflow"
   ]
  },
  {
   "cell_type": "code",
   "execution_count": 20,
   "id": "b0975186",
   "metadata": {},
   "outputs": [],
   "source": [
    "def get_response_from_llm(state: State):\n",
    "    \"\"\"\n",
    "    This function will get the response from the LLM\n",
    "    \"\"\"\n",
    "    user_input = state[\"messages\"][0].content\n",
    "    response = model.invoke(user_input)\n",
    "    return {\"messages\": [response]}\n",
    "\n",
    "\n",
    "def convert_to_uppercase(state:State):\n",
    "    \"\"\"\n",
    "    This function will convert the message to uppercase\n",
    "    \"\"\"\n",
    "    response_from_llm = state[\"messages\"][-1].content\n",
    "    uppercase_output = response_from_llm.upper()\n",
    "    \n",
    "    return {\"messages\": [uppercase_output]}"
   ]
  },
  {
   "cell_type": "code",
   "execution_count": 21,
   "id": "c4abd174",
   "metadata": {},
   "outputs": [],
   "source": [
    "#define the workflow\n",
    "graph = StateGraph(State)\n",
    "graph.add_node(\"Get Response from LLM\" , get_response_from_llm)\n",
    "graph.add_node(\"Convert to Uppercase\" , convert_to_uppercase)\n",
    "\n",
    "graph.add_edge(START, \"Get Response from LLM\")\n",
    "graph.add_edge(\"Get Response from LLM\", \"Convert to Uppercase\")\n",
    "graph.add_edge(\"Convert to Uppercase\", END)\n",
    "\n",
    "app = graph.compile()\n"
   ]
  },
  {
   "cell_type": "code",
   "execution_count": 22,
   "id": "c86ce346",
   "metadata": {},
   "outputs": [
    {
     "data": {
      "image/png": "[encoded data removed]",
      "text/plain": [
       "<IPython.core.display.Image object>"
      ]
     },
     "metadata": {},
     "output_type": "display_data"
    }
   ],
   "source": [
    "display_graph(app)"
   ]
  },
  {
   "cell_type": "code",
   "execution_count": 23,
   "id": "7eeb4a40",
   "metadata": {},
   "outputs": [
    {
     "data": {
      "text/plain": [
       "{'messages': [HumanMessage(content='Who built the Taj mahal?', additional_kwargs={}, response_metadata={}, id='c76de812-6571-456b-9d0e-ceaef3078eac'),\n",
       "  AIMessage(content='The Taj Mahal was commissioned and built by the Mughal Emperor Shah Jahan. It was constructed in memory of his beloved wife Mumtaz Mahal, who died in 1631. The construction began in 1632 and was completed around 1653. The Taj Mahal is located in Agra, India, and is renowned for its stunning architecture and beauty.', additional_kwargs={'refusal': None}, response_metadata={'token_usage': {'completion_tokens': 73, 'prompt_tokens': 13, 'total_tokens': 86, 'completion_tokens_details': {'accepted_prediction_tokens': 0, 'audio_tokens': 0, 'reasoning_tokens': 0, 'rejected_prediction_tokens': 0}, 'prompt_tokens_details': {'audio_tokens': 0, 'cached_tokens': 0}}, 'model_name': 'gpt-4.1-mini-2025-04-14', 'system_fingerprint': 'fp_c064fdde7c', 'id': 'chatcmpl-CPIEw5Yq6ml1ahS40rtvhn3ZEU9gl', 'service_tier': 'default', 'finish_reason': 'stop', 'logprobs': None}, id='run--0e85d5bc-d74d-4b65-a495-57a429492fc3-0', usage_metadata={'input_tokens': 13, 'output_tokens': 73, 'total_tokens': 86, 'input_token_details': {'audio': 0, 'cache_read': 0}, 'output_token_details': {'audio': 0, 'reasoning': 0}}),\n",
       "  HumanMessage(content='THE TAJ MAHAL WAS COMMISSIONED AND BUILT BY THE MUGHAL EMPEROR SHAH JAHAN. IT WAS CONSTRUCTED IN MEMORY OF HIS BELOVED WIFE MUMTAZ MAHAL, WHO DIED IN 1631. THE CONSTRUCTION BEGAN IN 1632 AND WAS COMPLETED AROUND 1653. THE TAJ MAHAL IS LOCATED IN AGRA, INDIA, AND IS RENOWNED FOR ITS STUNNING ARCHITECTURE AND BEAUTY.', additional_kwargs={}, response_metadata={}, id='ec4cd1e1-6c84-439f-b66d-a488e131cce5')]}"
      ]
     },
     "execution_count": 23,
     "metadata": {},
     "output_type": "execute_result"
    }
   ],
   "source": [
    "app.invoke({\"messages\" : \"Who built the Taj mahal?\"})"
   ]
  },
  {
   "cell_type": "code",
   "execution_count": 24,
   "id": "7e27f039",
   "metadata": {},
   "outputs": [
    {
     "name": "stdout",
     "output_type": "stream",
     "text": [
      "here is output from Get Response from LLM\n",
      "_______\n",
      "{'messages': [AIMessage(content='The Taj Mahal was commissioned and built by Mughal Emperor Shah Jahan. It was constructed in memory of his beloved wife Mumtaz Mahal. The construction began in 1632 and was completed around 1653. The Taj Mahal is located in Agra, India, and is renowned for its stunning architecture and beauty.', additional_kwargs={'refusal': None}, response_metadata={'token_usage': {'completion_tokens': 65, 'prompt_tokens': 13, 'total_tokens': 78, 'completion_tokens_details': {'accepted_prediction_tokens': 0, 'audio_tokens': 0, 'reasoning_tokens': 0, 'rejected_prediction_tokens': 0}, 'prompt_tokens_details': {'audio_tokens': 0, 'cached_tokens': 0}}, 'model_name': 'gpt-4.1-mini-2025-04-14', 'system_fingerprint': 'fp_c064fdde7c', 'id': 'chatcmpl-CPIEzIiP4atBgX7oUwSHm2U03b4JJ', 'service_tier': 'default', 'finish_reason': 'stop', 'logprobs': None}, id='run--1e11dd89-eeb6-45c4-b90d-845ee77e93db-0', usage_metadata={'input_tokens': 13, 'output_tokens': 65, 'total_tokens': 78, 'input_token_details': {'audio': 0, 'cache_read': 0}, 'output_token_details': {'audio': 0, 'reasoning': 0}})]}\n",
      "\n",
      "\n",
      "here is output from Convert to Uppercase\n",
      "_______\n",
      "{'messages': ['THE TAJ MAHAL WAS COMMISSIONED AND BUILT BY MUGHAL EMPEROR SHAH JAHAN. IT WAS CONSTRUCTED IN MEMORY OF HIS BELOVED WIFE MUMTAZ MAHAL. THE CONSTRUCTION BEGAN IN 1632 AND WAS COMPLETED AROUND 1653. THE TAJ MAHAL IS LOCATED IN AGRA, INDIA, AND IS RENOWNED FOR ITS STUNNING ARCHITECTURE AND BEAUTY.']}\n",
      "\n",
      "\n"
     ]
    }
   ],
   "source": [
    "stream_output(app, {\"messages\": \"Who built the Taj mahal?\"})"
   ]
  },
  {
   "cell_type": "markdown",
   "id": "7a650d4f",
   "metadata": {},
   "source": [
    "## Level 3 : Real world use case "
   ]
  },
  {
   "cell_type": "code",
   "execution_count": 25,
   "id": "582aea27",
   "metadata": {},
   "outputs": [],
   "source": [
    "def classify_sentiment(state:State):\n",
    "    \"\"\"\n",
    "    This function will classify the sentiment of the message\n",
    "    \"\"\"\n",
    "    user_input = state[\"messages\"][0].content\n",
    "    prompt = f\"You are a sentiment classifier. You will be given a message and you will need to classify the sentiment of the message. The sentiment can be positive, negative or neutral. Return the sentiment as a string.\"\n",
    "    final_message = user_input + prompt\n",
    "    response = model.invoke(final_message)\n",
    "    return {\"messages\": [response]}\n",
    "\n",
    "\n",
    "def get_total_word_count(state):\n",
    "    \"\"\"\n",
    "    This function will get the total word count of the message\n",
    "    \"\"\"\n",
    "    user_input = state[\"messages\"][0].content\n",
    "    word_count = len(user_input.split())\n",
    "    return {\"messages\": [f\"Total word count: {word_count}\"]}"
   ]
  },
  {
   "cell_type": "code",
   "execution_count": 26,
   "id": "ed846576",
   "metadata": {},
   "outputs": [],
   "source": [
    "# define the workflow\n",
    "graph = StateGraph(State)\n",
    "graph.add_node(\"Classify Sentiment\" , classify_sentiment)\n",
    "graph.add_node(\"Get Total Word Count\" , get_total_word_count)\n",
    "\n",
    "graph.add_edge(START, \"Classify Sentiment\")\n",
    "graph.add_edge(\"Classify Sentiment\", \"Get Total Word Count\")\n",
    "graph.add_edge(\"Get Total Word Count\", END)\n",
    "\n",
    "app = graph.compile()"
   ]
  },
  {
   "cell_type": "code",
   "execution_count": 27,
   "id": "1c6a17f7",
   "metadata": {},
   "outputs": [
    {
     "data": {
      "image/png": "[encoded data removed]",
      "text/plain": [
       "<IPython.core.display.Image object>"
      ]
     },
     "metadata": {},
     "output_type": "display_data"
    }
   ],
   "source": [
    "display_graph(app)"
   ]
  },
  {
   "cell_type": "code",
   "execution_count": 28,
   "id": "6ba14e29",
   "metadata": {},
   "outputs": [
    {
     "data": {
      "text/plain": [
       "{'messages': [HumanMessage(content='I am happy with the quality of the product and the service', additional_kwargs={}, response_metadata={}, id='b7eed2b8-2b4b-45e5-be50-742e9bf820b0'),\n",
       "  AIMessage(content='positive', additional_kwargs={'refusal': None}, response_metadata={'token_usage': {'completion_tokens': 1, 'prompt_tokens': 60, 'total_tokens': 61, 'completion_tokens_details': {'accepted_prediction_tokens': 0, 'audio_tokens': 0, 'reasoning_tokens': 0, 'rejected_prediction_tokens': 0}, 'prompt_tokens_details': {'audio_tokens': 0, 'cached_tokens': 0}}, 'model_name': 'gpt-4.1-mini-2025-04-14', 'system_fingerprint': 'fp_c064fdde7c', 'id': 'chatcmpl-CPIF7ZR1dD1a2rT4KyHbA8J7xj9RW', 'service_tier': 'default', 'finish_reason': 'stop', 'logprobs': None}, id='run--3a0eb1a5-cbec-4ccf-8904-3e0b12e46c1d-0', usage_metadata={'input_tokens': 60, 'output_tokens': 1, 'total_tokens': 61, 'input_token_details': {'audio': 0, 'cache_read': 0}, 'output_token_details': {'audio': 0, 'reasoning': 0}}),\n",
       "  HumanMessage(content='Total word count: 12', additional_kwargs={}, response_metadata={}, id='62ba1fb7-bbd7-4ca1-8159-000364db047c')]}"
      ]
     },
     "execution_count": 28,
     "metadata": {},
     "output_type": "execute_result"
    }
   ],
   "source": [
    "app.invoke({\"messages\": \"I am happy with the quality of the product and the service\"})"
   ]
  },
  {
   "cell_type": "code",
   "execution_count": 29,
   "id": "4260aa20",
   "metadata": {},
   "outputs": [
    {
     "name": "stdout",
     "output_type": "stream",
     "text": [
      "here is output from Classify Sentiment\n",
      "_______\n",
      "{'messages': [AIMessage(content='positive', additional_kwargs={'refusal': None}, response_metadata={'token_usage': {'completion_tokens': 1, 'prompt_tokens': 60, 'total_tokens': 61, 'completion_tokens_details': {'accepted_prediction_tokens': 0, 'audio_tokens': 0, 'reasoning_tokens': 0, 'rejected_prediction_tokens': 0}, 'prompt_tokens_details': {'audio_tokens': 0, 'cached_tokens': 0}}, 'model_name': 'gpt-4.1-mini-2025-04-14', 'system_fingerprint': 'fp_c064fdde7c', 'id': 'chatcmpl-CPIF9ueJu42Fm1EyaPV2rqv57Zq6k', 'service_tier': 'default', 'finish_reason': 'stop', 'logprobs': None}, id='run--e99804a6-4aac-4d9f-8a67-10e17828c48f-0', usage_metadata={'input_tokens': 60, 'output_tokens': 1, 'total_tokens': 61, 'input_token_details': {'audio': 0, 'cache_read': 0}, 'output_token_details': {'audio': 0, 'reasoning': 0}})]}\n",
      "\n",
      "\n",
      "here is output from Get Total Word Count\n",
      "_______\n",
      "{'messages': ['Total word count: 12']}\n",
      "\n",
      "\n"
     ]
    }
   ],
   "source": [
    "stream_output(app, {\"messages\": \"I am happy with the quality of the product and the service\"})"
   ]
  },
  {
   "cell_type": "markdown",
   "id": "561b6305",
   "metadata": {},
   "source": [
    "## Prompts in langchain "
   ]
  },
  {
   "cell_type": "markdown",
   "id": "df7555ef",
   "metadata": {},
   "source": [
    "### 2.1 Simple Prompts in langchain - Static Messages"
   ]
  },
  {
   "cell_type": "code",
   "execution_count": 30,
   "id": "2c150cbd",
   "metadata": {},
   "outputs": [
    {
     "name": "stdout",
     "output_type": "stream",
     "text": [
      "Cricket is a popular bat-and-ball sport played between two teams of eleven players each. The game is played on a circular or oval field with a rectangular 22-yard pitch at the center. Players score runs by hitting the ball and running between the wickets or by hitting boundaries. The team with the most runs at the end of the match wins. Cricket has various formats, including Test, One Day International (ODI), and Twenty20 (T20).\n"
     ]
    }
   ],
   "source": [
    "from langchain_openai import ChatOpenAI\n",
    "from dotenv import load_dotenv\n",
    "\n",
    "load_dotenv()\n",
    "\n",
    "model = ChatOpenAI(model='gpt-4.1-mini', temperature=0)\n",
    "\n",
    "result = model.invoke(\"Write a 5 line description on cricket\")\n",
    "\n",
    "print(result.content)"
   ]
  },
  {
   "cell_type": "markdown",
   "id": "232cda9d",
   "metadata": {},
   "source": [
    "### 2.2 Prompt Template for dynamic messages"
   ]
  },
  {
   "cell_type": "code",
   "execution_count": 31,
   "id": "d2fa55f0",
   "metadata": {},
   "outputs": [
    {
     "name": "stdout",
     "output_type": "stream",
     "text": [
      "Table tennis, also known as ping pong, is a fast-paced indoor sport played with small paddles and a lightweight ball. It involves two or four players hitting the ball back and forth across a net on a rectangular table. The objective is to score points by making the ball land on the opponent’s side without being returned. The game requires quick reflexes, agility, and precise hand-eye coordination. It is popular worldwide both as a recreational activity and a competitive sport.\n"
     ]
    }
   ],
   "source": [
    "from langchain_core.prompts import PromptTemplate\n",
    "\n",
    "# using prompt Template\n",
    "template = PromptTemplate(\n",
    "    template=\"Write a 5 line description on the {topic}\",\n",
    "    input_variables=['topic'],\n",
    "    validate_template=True\n",
    ")\n",
    "\n",
    "# fill the values of the placeholders\n",
    "prompt = template.invoke({'topic':'table tennis'})\n",
    "\n",
    "result = model.invoke(prompt)\n",
    "\n",
    "print(result.content)"
   ]
  },
  {
   "cell_type": "markdown",
   "id": "234aad56",
   "metadata": {},
   "source": [
    "### 2.3 Prompt Template for dynamic messages - Multiple input variables"
   ]
  },
  {
   "cell_type": "code",
   "execution_count": 32,
   "id": "7ff8ac2d",
   "metadata": {},
   "outputs": [
    {
     "name": "stdout",
     "output_type": "stream",
     "text": [
      "India’s economic growth has been a remarkable journey, marked by rapid transformation and resilience. Over the past few decades, India has evolved from a primarily agrarian economy to one of the world’s fastest-growing major economies. This growth story is driven by several factors, including a young and dynamic workforce, technological advancements, and significant reforms in various sectors.\n",
      "\n",
      "One of the key drivers has been the IT and services sector, which has positioned India as a global hub for software development and business process outsourcing. Additionally, initiatives like “Make in India” aim to boost manufacturing and attract foreign investment, further diversifying the economy. The government’s focus on infrastructure development, digitalization, and financial inclusion has also played a crucial role in sustaining growth.\n",
      "\n",
      "However, challenges remain, such as income inequality, unemployment, and the need for more robust healthcare and education systems. Despite these hurdles, India’s economic outlook remains optimistic, with projections suggesting continued growth fueled by innovation, entrepreneurship, and a growing middle class.\n",
      "\n",
      "In essence, India’s economic growth is not just about numbers; it’s about the transformative impact on millions of lives, creating opportunities and shaping the future of a vibrant nation.\n"
     ]
    }
   ],
   "source": [
    "from langchain_core.prompts import PromptTemplate\n",
    "\n",
    "# Prompt template\n",
    "template = PromptTemplate(\n",
    "\n",
    "    template=\"\"\"\n",
    "    You are a detailed content creation agent.\n",
    "\n",
    "    Your task is to write content about the topic: {topic_input}.\n",
    "    User will give thier  preferred writing style {style_input} (e.g., formal, conversational, humorous, etc.) and the desired number of words {length_input} for the content.\n",
    "\n",
    "    Please generate a detailed, engaging, and informative piece on the topic, matching the requested style and length as closely as possible.\n",
    "\n",
    "    If you do not have enough information to write about the topic, respond with: \"Insufficient information available\" instead of guessing.\n",
    "    \"\"\",\n",
    "\n",
    "    input_variables=['topic_input', 'style_input', 'length_input'],\n",
    "    validate_template=True\n",
    ")\n",
    "\n",
    "# template_structure  = template.invoke({'paper_input': 'The paper is about the theory of relativity', \n",
    "#                                        'style_input': 'Simple and intuitive', \n",
    "#                                        'length_input': '500 words'})\n",
    "\n",
    "# print(str(template_structure))\n",
    "\n",
    "chain = template | model\n",
    "\n",
    "result = chain.invoke({\n",
    "    'topic_input':'India s economic growth',\n",
    "    'style_input':'Conversational',\n",
    "    'length_input':'200 words'\n",
    "})\n",
    "\n",
    "print(result.content)\n"
   ]
  },
  {
   "cell_type": "markdown",
   "id": "1ff09e65",
   "metadata": {},
   "source": [
    "## Basic chatbot and its limitations"
   ]
  },
  {
   "cell_type": "code",
   "execution_count": 33,
   "id": "b5e35d8b",
   "metadata": {},
   "outputs": [
    {
     "name": "stdout",
     "output_type": "stream",
     "text": [
      "AI : Hello! How can I assist you today?\n",
      "AI : The Taj Mahal was built by the Mughal Emperor Shah Jahan. It was constructed in memory of his beloved wife Mumtaz Mahal, who died in 1631. The construction of the Taj Mahal began in 1632 and was completed in 1653. The chief architect is believed to be Ustad Ahmad Lahori.\n",
      "AI : Could you please specify who you are referring to? That way, I can provide the correct information about their birth date.\n",
      "Exiting the chat...\n"
     ]
    }
   ],
   "source": [
    "from langchain_openai import ChatOpenAI\n",
    "from langchain_core.messages import SystemMessage, HumanMessage, AIMessage\n",
    "from dotenv import load_dotenv\n",
    "\n",
    "load_dotenv()\n",
    "\n",
    "model = ChatOpenAI(model='gpt-4.1-mini', temperature=0)\n",
    "\n",
    "while True:\n",
    "    user_input = input(\"You: \")\n",
    "    if user_input.lower() == \"exit\":\n",
    "        print(\"Exiting the chat...\")\n",
    "        break\n",
    "    response = model.invoke(user_input)\n",
    "    print(\"AI :\" , response.content)"
   ]
  },
  {
   "cell_type": "markdown",
   "id": "b7ceef82",
   "metadata": {},
   "source": [
    "## Adding chat history"
   ]
  },
  {
   "cell_type": "code",
   "execution_count": 34,
   "id": "758a43b4",
   "metadata": {},
   "outputs": [
    {
     "name": "stdout",
     "output_type": "stream",
     "text": [
      "AI : Hello! How can I assist you today?\n",
      "AI : The Taj Mahal was built by the Mughal Emperor Shah Jahan. It was constructed in memory of his beloved wife Mumtaz Mahal, who passed away in 1631. The construction of the Taj Mahal began in 1632 and was completed in 1653. It is located in Agra, India, and is renowned for its stunning white marble architecture.\n",
      "AI : Shah Jahan was born on January 5, 1592.\n",
      "Exiting the chat...\n",
      "Chat History:\n",
      "['hi', 'Hello! How can I assist you today?', 'who built taj mahal', 'The Taj Mahal was built by the Mughal Emperor Shah Jahan. It was constructed in memory of his beloved wife Mumtaz Mahal, who passed away in 1631. The construction of the Taj Mahal began in 1632 and was completed in 1653. It is located in Agra, India, and is renowned for its stunning white marble architecture.', 'when was he born', 'Shah Jahan was born on January 5, 1592.', 'exit']\n"
     ]
    }
   ],
   "source": [
    "from langchain_openai import ChatOpenAI\n",
    "from langchain_core.messages import SystemMessage, HumanMessage, AIMessage\n",
    "from dotenv import load_dotenv\n",
    "\n",
    "load_dotenv()\n",
    "\n",
    "chat_history = []\n",
    "\n",
    "model = ChatOpenAI(model='gpt-4.1-mini', temperature=0)\n",
    "\n",
    "while True:\n",
    "    user_input = input(\"You: \")\n",
    "    chat_history.append(user_input)\n",
    "    if user_input.lower() == \"exit\":\n",
    "        print(\"Exiting the chat...\")\n",
    "        break\n",
    "    response = model.invoke(chat_history)\n",
    "    chat_history.append(response.content)\n",
    "    print(\"AI :\" , response.content)\n",
    "\n",
    "print(\"Chat History:\")\n",
    "print(chat_history)"
   ]
  },
  {
   "cell_type": "markdown",
   "id": "723cd8b2",
   "metadata": {},
   "source": [
    "## Adding langchain's SystemMessage , HumanMessage , AIMessage"
   ]
  },
  {
   "cell_type": "code",
   "execution_count": 35,
   "id": "337d9bf8",
   "metadata": {},
   "outputs": [
    {
     "name": "stdout",
     "output_type": "stream",
     "text": [
      "[SystemMessage(content='You are a helpful assistant', additional_kwargs={}, response_metadata={}), HumanMessage(content='Tell me about TajMahal', additional_kwargs={}, response_metadata={}), AIMessage(content='The Taj Mahal is a world-famous monument located in Agra, India. It is widely regarded as one of the most beautiful buildings ever created and is a UNESCO World Heritage Site. Here are some key details about the Taj Mahal:\\n\\n1. **History and Purpose**:  \\n   The Taj Mahal was commissioned by Mughal Emperor Shah Jahan in 1632 in memory of his beloved wife Mumtaz Mahal, who died during childbirth. It serves as her mausoleum and symbolizes eternal love.\\n\\n2. **Architecture**:  \\n   The Taj Mahal is an outstanding example of Mughal architecture, which combines elements from Islamic, Persian, Ottoman Turkish, and Indian architectural styles. It is primarily made of white marble and is renowned for its symmetrical design, intricate carvings, and beautiful inlay work with precious and semi-precious stones.\\n\\n3. **Structure**:  \\n   The complex includes a main gateway, a garden, a mosque, a guest house, and the main mausoleum. The mausoleum itself features a large central dome surrounded by four smaller domes and four slender minarets at each corner.\\n\\n4. **Significance**:  \\n   The Taj Mahal is not only a symbol of love but also an architectural masterpiece that attracts millions of visitors from around the world every year. It is considered one of the New Seven Wonders of the World.\\n\\n5. **Location**:  \\n   It is situated on the southern bank of the Yamuna River in Agra, Uttar Pradesh, India.\\n\\n6. **Visiting**:  \\n   The Taj Mahal is open to visitors throughout the year, with the best time to visit being from October to March when the weather is cooler.\\n\\nIf you want to know more specific details or have any other questions about the Taj Mahal, feel free to ask!', additional_kwargs={}, response_metadata={})]\n"
     ]
    }
   ],
   "source": [
    "from langchain_core.messages import SystemMessage, HumanMessage, AIMessage\n",
    "from langchain_openai import ChatOpenAI\n",
    "from dotenv import load_dotenv\n",
    "\n",
    "load_dotenv()\n",
    "\n",
    "model = ChatOpenAI(model='gpt-4.1-mini', temperature=0)\n",
    "\n",
    "messages=[\n",
    "    SystemMessage(content='You are a helpful assistant'),\n",
    "    HumanMessage(content='Tell me about TajMahal')\n",
    "]\n",
    "\n",
    "result = model.invoke(messages)\n",
    "\n",
    "messages.append(AIMessage(content=result.content))\n",
    "\n",
    "print(messages)"
   ]
  },
  {
   "cell_type": "code",
   "execution_count": 36,
   "id": "d3358405",
   "metadata": {},
   "outputs": [
    {
     "name": "stdout",
     "output_type": "stream",
     "text": [
      "AI:  Hello! How can I assist you today?\n",
      "AI:  The Taj Mahal was built by the Mughal Emperor Shah Jahan. He commissioned the construction in memory of his beloved wife Mumtaz Mahal, who passed away in 1631. The construction began in 1632 and was completed in 1653. The Taj Mahal is located in Agra, India, and is renowned for its stunning architecture and beauty.\n",
      "AI:  Emperor Shah Jahan was born on January 5, 1592. If you have any more questions about him or the Taj Mahal, feel free to ask!\n",
      "[SystemMessage(content='You are a helpful AI assistant', additional_kwargs={}, response_metadata={}), HumanMessage(content='hi', additional_kwargs={}, response_metadata={}), AIMessage(content='Hello! How can I assist you today?', additional_kwargs={}, response_metadata={}), HumanMessage(content='who built taj mahal', additional_kwargs={}, response_metadata={}), AIMessage(content='The Taj Mahal was built by the Mughal Emperor Shah Jahan. He commissioned the construction in memory of his beloved wife Mumtaz Mahal, who passed away in 1631. The construction began in 1632 and was completed in 1653. The Taj Mahal is located in Agra, India, and is renowned for its stunning architecture and beauty.', additional_kwargs={}, response_metadata={}), HumanMessage(content='when waqs he born', additional_kwargs={}, response_metadata={}), AIMessage(content='Emperor Shah Jahan was born on January 5, 1592. If you have any more questions about him or the Taj Mahal, feel free to ask!', additional_kwargs={}, response_metadata={}), HumanMessage(content='exit', additional_kwargs={}, response_metadata={})]\n"
     ]
    }
   ],
   "source": [
    "from langchain_openai import ChatOpenAI\n",
    "from langchain_core.messages import SystemMessage, HumanMessage, AIMessage\n",
    "from dotenv import load_dotenv\n",
    "\n",
    "load_dotenv()\n",
    "\n",
    "model = ChatOpenAI(model='gpt-4.1-mini', temperature=0)\n",
    "\n",
    "chat_history = [\n",
    "    SystemMessage(content='You are a helpful AI assistant')\n",
    "]\n",
    "\n",
    "while True:\n",
    "    user_input = input('You: ')\n",
    "    chat_history.append(HumanMessage(content=user_input))\n",
    "    if user_input == 'exit':\n",
    "        break\n",
    "    result = model.invoke(chat_history)\n",
    "    chat_history.append(AIMessage(content=result.content))\n",
    "    print(\"AI: \",result.content)\n",
    "\n",
    "print(chat_history)"
   ]
  },
  {
   "cell_type": "markdown",
   "id": "4b3d7356",
   "metadata": {},
   "source": [
    "## 3 ChatPromptTemplate - For dynamic message conversation"
   ]
  },
  {
   "cell_type": "code",
   "execution_count": 38,
   "id": "c65d77d7",
   "metadata": {},
   "outputs": [
    {
     "name": "stdout",
     "output_type": "stream",
     "text": [
      "messages=[SystemMessage(content='You are a helpful AI expert', additional_kwargs={}, response_metadata={}), HumanMessage(content='Explain about the Machine Learning in simple terms', additional_kwargs={}, response_metadata={})]\n"
     ]
    }
   ],
   "source": [
    "from langchain_core.prompts import ChatPromptTemplate\n",
    "\n",
    "model = ChatOpenAI(model='gpt-4.1-mini', temperature=0)\n",
    "\n",
    "chat_template = ChatPromptTemplate(\n",
    "    [\n",
    "        (\"system\", \"You are a helpful {domain} expert\"),\n",
    "        (\"human\", \"Explain about the {topic} in simple terms\")\n",
    "    ]\n",
    ")\n",
    "\n",
    "prompt = chat_template.invoke({\"domain\": \"AI\", \"topic\": \"Machine Learning\"})\n",
    "\n",
    "print(prompt)\n"
   ]
  },
  {
   "cell_type": "markdown",
   "id": "91cc985c",
   "metadata": {},
   "source": [
    "## MessagePlaceHolder in ChatPromptTemplate"
   ]
  },
  {
   "cell_type": "code",
   "execution_count": 40,
   "id": "2b9581a6",
   "metadata": {},
   "outputs": [
    {
     "name": "stdout",
     "output_type": "stream",
     "text": [
      "I’m sorry to hear that you haven’t received your refund yet. Refunds typically take 3-5 business days to process after initiation. Since your refund was initiated on September 3, 2025, it should be completed soon. \n",
      "\n",
      "Could you please confirm the payment method you used for the order? This will help me assist you further in tracking the refund.\n"
     ]
    }
   ],
   "source": [
    "from langchain_core.prompts import ChatPromptTemplate, MessagesPlaceholder\n",
    "from langchain_core.messages import SystemMessage, HumanMessage, AIMessage\n",
    "\n",
    "model = ChatOpenAI(model='gpt-4.1-mini', temperature=0)\n",
    "\n",
    "#past chat history\n",
    "chat_history = [\n",
    "    HumanMessage(content=\"I want to request a refund for my order number 11564.\"),\n",
    "    AIMessage(content=\"Your refund request for order number 11564 has been initiated. It will be processed in 3-5 business days. refund initiated on sept 3 2025\")\n",
    "    ]\n",
    "\n",
    "# chat template\n",
    "chat_template = ChatPromptTemplate([\n",
    "    ('system','You are a helpful customer support agent'),\n",
    "    MessagesPlaceholder(variable_name='chat_history'),\n",
    "    ('human','{query}')\n",
    "])\n",
    "\n",
    "# create prompt\n",
    "prompt = chat_template.invoke({'chat_history':chat_history, 'query':'Where is my refund . I have not received it yet.'})\n",
    "\n",
    "result = model.invoke(prompt)\n",
    "\n",
    "print(result.content)\n",
    "\n"
   ]
  },
  {
   "cell_type": "markdown",
   "id": "42e75872",
   "metadata": {},
   "source": [
    "## 4. Routers in langgraph"
   ]
  },
  {
   "cell_type": "code",
   "execution_count": 41,
   "id": "d423e7fb",
   "metadata": {},
   "outputs": [],
   "source": [
    "from typing_extensions import TypedDict\n",
    "\n",
    "class State(TypedDict):\n",
    "    current_state: str"
   ]
  },
  {
   "cell_type": "code",
   "execution_count": 42,
   "id": "ceff9bc8",
   "metadata": {},
   "outputs": [],
   "source": [
    "def node_1(state):\n",
    "    print(\"Now in Node 1\")\n",
    "    return {\"current_state\": state[\"current_state\"] + \" Hey I am in Node 1\"}\n",
    "\n",
    "def node_2(state):\n",
    "    print(\"Now in Node 2\")\n",
    "    return {\"current_state\": state[\"current_state\"] + \" Hey I am in Node 2\"}\n",
    "\n",
    "def node_3(state):\n",
    "    print(\"Now in Node 3\")\n",
    "    return {\"current_state\": state[\"current_state\"] + \" Hey I am in Node 3\"}"
   ]
  },
  {
   "cell_type": "code",
   "execution_count": 43,
   "id": "0f4d9bd0",
   "metadata": {},
   "outputs": [],
   "source": [
    "import random\n",
    "from typing import Literal\n",
    "\n",
    "def get_random_node(state:State):\n",
    "    \"\"\"\n",
    "    This function will return a random node\n",
    "    \"\"\"\n",
    "    \n",
    "    current_node = state[\"current_state\"]\n",
    "\n",
    "    if random.random() < 0.5:\n",
    "        return \"Node_2\"\n",
    "    else:\n",
    "        return \"Node_3\"\n"
   ]
  },
  {
   "cell_type": "code",
   "execution_count": 44,
   "id": "a6c6ecf8",
   "metadata": {},
   "outputs": [],
   "source": [
    "#define the workflow\n",
    "graph = StateGraph(State)\n",
    "graph.add_node(\"Node 1\" , node_1)\n",
    "graph.add_node(\"Node 2\" , node_2)\n",
    "graph.add_node(\"Node 3\" , node_3)\n",
    "\n",
    "graph.add_edge(START, \"Node 1\")\n",
    "graph.add_conditional_edges(\n",
    "    \"Node 1\",\n",
    "    get_random_node,\n",
    "    {\n",
    "        \"Node_2\": \"Node 2\",\n",
    "        \"Node_3\": \"Node 3\"\n",
    "    }\n",
    ")\n",
    "graph.add_edge(\"Node 2\", END)\n",
    "graph.add_edge(\"Node 3\", END)\n",
    "\n",
    "app = graph.compile()"
   ]
  },
  {
   "cell_type": "code",
   "execution_count": 45,
   "id": "c87d42c7",
   "metadata": {},
   "outputs": [
    {
     "data": {
      "image/png": "[encoded data removed]",
      "text/plain": [
       "<IPython.core.display.Image object>"
      ]
     },
     "metadata": {},
     "output_type": "display_data"
    }
   ],
   "source": [
    "display_graph(app)"
   ]
  },
  {
   "cell_type": "code",
   "execution_count": 46,
   "id": "a0325c3f",
   "metadata": {},
   "outputs": [
    {
     "name": "stdout",
     "output_type": "stream",
     "text": [
      "Now in Node 1\n",
      "Now in Node 2\n"
     ]
    },
    {
     "data": {
      "text/plain": [
       "{'current_state': 'Start Hey I am in Node 1 Hey I am in Node 2'}"
      ]
     },
     "execution_count": 46,
     "metadata": {},
     "output_type": "execute_result"
    }
   ],
   "source": [
    "app.invoke({\"current_state\": \"Start\"})"
   ]
  },
  {
   "cell_type": "markdown",
   "id": "c5c9387f",
   "metadata": {},
   "source": [
    "## 4.1 Routers real life use case"
   ]
  },
  {
   "cell_type": "code",
   "execution_count": 47,
   "id": "f1a3caff",
   "metadata": {},
   "outputs": [],
   "source": [
    "from typing import Annotated\n",
    "from langgraph.graph.message import add_messages\n",
    "\n",
    "class State(TypedDict):\n",
    "    messages: Annotated[list, add_messages]"
   ]
  },
  {
   "cell_type": "code",
   "execution_count": 52,
   "id": "00fbf5b4",
   "metadata": {},
   "outputs": [],
   "source": [
    "\n",
    "#defining the nodes \n",
    "\n",
    "def get_user_intent(state:State):\n",
    "    \"\"\"\n",
    "    This function will get the user intent from the user input\n",
    "    \n",
    "    \"\"\"\n",
    "\n",
    "    user_input = state[\"messages\"][0].content\n",
    "\n",
    "    # Prompt template\n",
    "    template = PromptTemplate(\n",
    "\n",
    "        template=\"\"\"You are a classifier. Classify the user query as either \"complaint\" or \"query\".\n",
    "\n",
    "        Return ONLY one word: either \"complaint\" or \"query\", nothing else.\n",
    "\n",
    "        User Query: {user_input}\n",
    "\n",
    "        Classification:\"\"\",\n",
    "\n",
    "        input_variables=['user_input'],\n",
    "        validate_template=True\n",
    "        )\n",
    "\n",
    "    chain = template | model\n",
    "\n",
    "\n",
    "    result = chain.invoke({\n",
    "        \"user_input\": user_input\n",
    "    })\n",
    "\n",
    "    return {\"messages\": [result]}\n",
    "\n",
    "\n",
    "def route_user_query(state:State):\n",
    "    \"\"\"\n",
    "    This function will route the user query to the appropriate node\n",
    "    \"\"\"\n",
    "    intent = state[\"messages\"][-1].content.strip().lower()\n",
    "    if \"complaint\" in intent:\n",
    "        return \"Route_Complaint\"\n",
    "    else:\n",
    "        return \"Route_Query\"\n",
    "\n",
    "\n",
    "def handle_complaint(state:State):\n",
    "    \"\"\"\n",
    "    This function will handle the complaint\n",
    "    \"\"\"\n",
    "\n",
    "    user_input = state[\"messages\"][0].content\n",
    "    \n",
    "    complaint_template = PromptTemplate(\n",
    "        template = \"\"\"\n",
    "        You are a helpful assistant , you will be given a user complaint and you will need to handle the complaint.\n",
    "        User Complaint : {user_input}\n",
    "        \"\"\",\n",
    "        input_variables = [\"user_input\"],\n",
    "        validate_template = True\n",
    "    )\n",
    "\n",
    "    chain = complaint_template | model\n",
    "\n",
    "    result = chain.invoke({\n",
    "        \"user_input\": user_input\n",
    "    })\n",
    "\n",
    "    return {\"messages\": [result]}\n",
    "\n",
    "def handle_query(state:State):\n",
    "    \"\"\"\n",
    "    This function will handle the query\n",
    "    \"\"\"\n",
    "\n",
    "    user_input = state[\"messages\"][0].content\n",
    "    \n",
    "    query_template = PromptTemplate(\n",
    "        template = \"\"\"\n",
    "        You are a helpful assistant , you will be given a user query and you will need to handle the query.\n",
    "        User Query : {user_input}\n",
    "        \"\"\",\n",
    "        input_variables = [\"user_input\"],\n",
    "        validate_template = True\n",
    "    )\n",
    "\n",
    "    chain = query_template | model\n",
    "\n",
    "    result = chain.invoke({\n",
    "        \"user_input\": user_input\n",
    "    })\n",
    "\n",
    "    return {\"messages\": [result]}\n"
   ]
  },
  {
   "cell_type": "code",
   "execution_count": 53,
   "id": "f1f6a55a",
   "metadata": {},
   "outputs": [],
   "source": [
    "graph = StateGraph(State)\n",
    "\n",
    "graph.add_node(\"Get User Intent\", get_user_intent)\n",
    "graph.add_node(\"Complaint\", handle_complaint)\n",
    "graph.add_node(\"Query\", handle_query)\n",
    "\n",
    "graph.add_edge(START, \"Get User Intent\")\n",
    "graph.add_conditional_edges(\n",
    "    \"Get User Intent\",\n",
    "    route_user_query,\n",
    "    {\n",
    "        \"Route_Complaint\": \"Complaint\",\n",
    "        \"Route_Query\": \"Query\"\n",
    "    }\n",
    ")\n",
    "graph.add_edge(\"Complaint\", END)\n",
    "graph.add_edge(\"Query\", END)\n",
    "\n",
    "app = graph.compile()"
   ]
  },
  {
   "cell_type": "code",
   "execution_count": 54,
   "id": "09c7b579",
   "metadata": {},
   "outputs": [
    {
     "name": "stdout",
     "output_type": "stream",
     "text": [
      "Failed to reach https://mermaid.ink API while trying to render your graph. Status code: 400.\n",
      "\n",
      "To resolve this issue:\n",
      "1. Check your internet connection and try again\n",
      "2. Try with higher retry settings: `draw_mermaid_png(..., max_retries=5, retry_delay=2.0)`\n",
      "3. Use the Pyppeteer rendering method which will render your graph locally in a browser: `draw_mermaid_png(..., draw_method=MermaidDrawMethod.PYPPETEER)`\n"
     ]
    }
   ],
   "source": [
    "display_graph(app)"
   ]
  },
  {
   "cell_type": "code",
   "execution_count": 55,
   "id": "d379683c",
   "metadata": {},
   "outputs": [
    {
     "name": "stdout",
     "output_type": "stream",
     "text": [
      "I'm sorry to hear that you're not happy with the sofa you purchased from Costco. Could you please provide more details about the issue you're experiencing? This will help me assist you better. For example, is there a problem with the quality, comfort, delivery, or something else? Additionally, if you have your order number or receipt handy, that would be helpful. We're here to help resolve this for you.\n"
     ]
    }
   ],
   "source": [
    "response = app.invoke({\"messages\": \"I am not at all happy with the sofa that I purchased from Costco last week\"})\n",
    "print(response[\"messages\"][-1].content)\n"
   ]
  },
  {
   "cell_type": "code",
   "execution_count": null,
   "id": "d499c8d6",
   "metadata": {},
   "outputs": [],
   "source": []
  },
  {
   "cell_type": "code",
   "execution_count": null,
   "id": "f9a9998e",
   "metadata": {},
   "outputs": [],
   "source": []
  },
  {
   "cell_type": "code",
   "execution_count": null,
   "id": "72d25d81",
   "metadata": {},
   "outputs": [],
   "source": []
  },
  {
   "cell_type": "code",
   "execution_count": null,
   "id": "2f60f09f",
   "metadata": {},
   "outputs": [],
   "source": []
  },
  {
   "cell_type": "code",
   "execution_count": null,
   "id": "e6532d00",
   "metadata": {},
   "outputs": [],
   "source": []
  },
  {
   "cell_type": "code",
   "execution_count": null,
   "id": "ac4eb3e0",
   "metadata": {},
   "outputs": [],
   "source": []
  },
  {
   "cell_type": "code",
   "execution_count": null,
   "id": "ec0a7271",
   "metadata": {},
   "outputs": [],
   "source": []
  },
  {
   "cell_type": "code",
   "execution_count": null,
   "id": "be8bc4cc",
   "metadata": {},
   "outputs": [],
   "source": []
  },
  {
   "cell_type": "code",
   "execution_count": null,
   "id": "954ae45f",
   "metadata": {},
   "outputs": [],
   "source": []
  },
  {
   "cell_type": "code",
   "execution_count": null,
   "id": "89f13334",
   "metadata": {},
   "outputs": [],
   "source": []
  },
  {
   "cell_type": "code",
   "execution_count": null,
   "id": "b807bc1c",
   "metadata": {},
   "outputs": [],
   "source": []
  },
  {
   "cell_type": "code",
   "execution_count": null,
   "id": "6c04b5c8",
   "metadata": {},
   "outputs": [],
   "source": []
  },
  {
   "cell_type": "code",
   "execution_count": null,
   "id": "679502e1",
   "metadata": {},
   "outputs": [],
   "source": []
  },
  {
   "cell_type": "code",
   "execution_count": null,
   "id": "21d49d99",
   "metadata": {},
   "outputs": [],
   "source": []
  },
  {
   "cell_type": "code",
   "execution_count": null,
   "id": "a19eab0e",
   "metadata": {},
   "outputs": [],
   "source": []
  },
  {
   "cell_type": "code",
   "execution_count": null,
   "id": "26fca86a",
   "metadata": {},
   "outputs": [],
   "source": []
  }
 ],
 "metadata": {
  "kernelspec": {
   "display_name": ".venv",
   "language": "python",
   "name": "python3"
  },
  "language_info": {
   "codemirror_mode": {
    "name": "ipython",
    "version": 3
   },
   "file_extension": ".py",
   "mimetype": "text/x-python",
   "name": "python",
   "nbconvert_exporter": "python",
   "pygments_lexer": "ipython3",
   "version": "3.11.13"
  }
 },
 "nbformat": 4,
 "nbformat_minor": 5
}
