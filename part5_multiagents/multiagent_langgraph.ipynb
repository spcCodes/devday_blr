{
 "cells": [
  {
   "cell_type": "markdown",
   "id": "d4bde2cc",
   "metadata": {},
   "source": [
    "## Loading the environments"
   ]
  },
  {
   "cell_type": "code",
   "execution_count": 1,
   "id": "1b427c7b",
   "metadata": {},
   "outputs": [
    {
     "data": {
      "text/plain": [
       "True"
      ]
     },
     "execution_count": 1,
     "metadata": {},
     "output_type": "execute_result"
    }
   ],
   "source": [
    "import os\n",
    "from dotenv import load_dotenv\n",
    "load_dotenv()"
   ]
  },
  {
   "cell_type": "markdown",
   "id": "8d4a51a5",
   "metadata": {},
   "source": [
    "## Importing the packages"
   ]
  },
  {
   "cell_type": "code",
   "execution_count": 2,
   "id": "5252e699",
   "metadata": {},
   "outputs": [],
   "source": [
    "from dotenv import load_dotenv\n",
    "from langchain.prompts import ChatPromptTemplate\n",
    "from langchain_openai import ChatOpenAI\n",
    "from IPython.display import Image, display\n",
    "from langgraph.graph import StateGraph , START , END , MessageGraph \n",
    "from langchain_core.messages import HumanMessage , AIMessage , SystemMessage\n",
    "from typing import TypedDict\n",
    "from typing import Annotated\n",
    "from langgraph.graph.message import add_messages\n",
    "from langgraph.graph import MessagesState\n",
    "\n",
    "import datetime\n",
    "from typing import Annotated, Sequence, List, Literal \n",
    "from pydantic import BaseModel, Field \n",
    "from langchain_core.messages import HumanMessage\n",
    "from langchain_community.tools.tavily_search import TavilySearchResults \n",
    "from langgraph.types import Command \n",
    "from langgraph.graph import StateGraph, START, END, MessagesState\n",
    "from langgraph.prebuilt import create_react_agent \n",
    "from IPython.display import Image, display \n",
    "from dotenv import load_dotenv\n",
    "from langchain_experimental.tools import PythonREPLTool"
   ]
  },
  {
   "cell_type": "code",
   "execution_count": 3,
   "id": "a523b12b",
   "metadata": {},
   "outputs": [],
   "source": [
    "model = ChatOpenAI(model=\"gpt-4.1-mini\", temperature=0)"
   ]
  },
  {
   "cell_type": "code",
   "execution_count": 18,
   "id": "0389c4bc",
   "metadata": {},
   "outputs": [],
   "source": [
    "tavily_search = TavilySearchResults()\n",
    "\n",
    "python_repl = PythonREPLTool()\n",
    "\n",
    "from langchain_core.tools import tool\n",
    "@tool\n",
    "def python_repl_tool(code:str):\n",
    "    \"\"\"Executes the provided Python code in a REPL environment. \n",
    "    To display the result of an expression or variable, use the print() function, \n",
    "    as only printed output will be shown to the user.\"\"\"\n",
    "\n",
    "    import traceback\n",
    "\n",
    "    try:\n",
    "        result = python_repl.run(code)\n",
    "        success = True\n",
    "    except Exception as e:\n",
    "        tb = traceback.format_exc()\n",
    "        return (\n",
    "            f\"Failed to execute the provided code.\\n\"\n",
    "            f\"Error: {e}\\n\"\n",
    "            f\"Traceback:\\n{tb}\"\n",
    "        )\n",
    "    \n",
    "    output = (\n",
    "        f\"✅ Code executed successfully:\\n\"\n",
    "        f\"```python\\n{code.strip()}\\n```\\n\"\n",
    "        f\"**Output:**\\n{result.strip() if result else '(No output)'}\"\n",
    "    )\n",
    "    output += \"\\n\\nIf you have completed all tasks, respond with FINAL ANSWER.\"\n",
    "    return output"
   ]
  },
  {
   "cell_type": "code",
   "execution_count": 19,
   "id": "f70ebe29",
   "metadata": {},
   "outputs": [
    {
     "data": {
      "text/plain": [
       "'5\\n'"
      ]
     },
     "execution_count": 19,
     "metadata": {},
     "output_type": "execute_result"
    }
   ],
   "source": [
    "python_repl.invoke(\"x = 5; print(x)\")"
   ]
  },
  {
   "cell_type": "code",
   "execution_count": 20,
   "id": "8b2a9878",
   "metadata": {},
   "outputs": [],
   "source": [
    "from prompts import supervisor_prompt , researcher_prompt , coder_prompt , validator_prompt , enhancer_prompt , refine_prompt"
   ]
  },
  {
   "cell_type": "markdown",
   "id": "486afcd0",
   "metadata": {},
   "source": [
    "## creating supervisor node"
   ]
  },
  {
   "cell_type": "code",
   "execution_count": 21,
   "id": "c87c387b",
   "metadata": {},
   "outputs": [],
   "source": [
    "class Supervisor(BaseModel):\n",
    "    next: Literal[\"enhancer\", \"researcher\", \"coder\"] = Field(\n",
    "        description=\"Determines which specialist to activate next in the workflow sequence: \"\n",
    "                    \"'enhancer' when user input requires clarification, expansion, or refinement, \"\n",
    "                    \"'researcher' when additional facts, context, or data collection is necessary, \"\n",
    "                    \"'coder' when implementation, computation, or technical problem-solving is required.\"\n",
    "    )\n",
    "    reason: str = Field(\n",
    "        description=\"Detailed justification for the routing decision, explaining the rationale behind selecting the particular specialist and how this advances the task toward completion.\"\n",
    "    )\n"
   ]
  },
  {
   "cell_type": "code",
   "execution_count": 22,
   "id": "2fe40c4f",
   "metadata": {},
   "outputs": [],
   "source": [
    "def supervisor_node(state: MessagesState) -> Command[Literal[\"enhancer\", \"researcher\", \"coder\"]]:\n",
    "    \n",
    "    supervisor_node_prompt = supervisor_prompt\n",
    "    \n",
    "    messages = [\n",
    "        {\"role\": \"system\", \"content\": supervisor_node_prompt},  \n",
    "    ] + state[\"messages\"] \n",
    "\n",
    "    response = model.with_structured_output(Supervisor).invoke(messages)\n",
    "\n",
    "    goto_next_node = response.next\n",
    "    reason = response.reason\n",
    "\n",
    "    print(f\"--- Workflow Transition: Supervisor → {goto_next_node.upper()} ---\")\n",
    "    \n",
    "    return Command(\n",
    "        update={\n",
    "            \"messages\": [\n",
    "                HumanMessage(content=reason, name=\"supervisor\")\n",
    "            ]\n",
    "        },\n",
    "        goto=goto_next_node\n",
    "    )"
   ]
  },
  {
   "cell_type": "markdown",
   "id": "b9a207ae",
   "metadata": {},
   "source": [
    "## creating enhnacer node"
   ]
  },
  {
   "cell_type": "code",
   "execution_count": 23,
   "id": "05e517da",
   "metadata": {},
   "outputs": [],
   "source": [
    "def enhancer_node(state: MessagesState) -> Command[Literal[\"supervisor\"]]:\n",
    "\n",
    "    \"\"\"\n",
    "        Enhancer agent node that improves and clarifies user queries.\n",
    "        Takes the original user input and transforms it into a more precise,\n",
    "        actionable request before passing it to the supervisor.\n",
    "    \"\"\"\n",
    "    enhancer_node_prompt = enhancer_prompt\n",
    "    messages = [\n",
    "        {\"role\": \"system\", \"content\": enhancer_node_prompt},  \n",
    "    ] + state[\"messages\"]  \n",
    "\n",
    "    enhanced_query = model.invoke(messages)\n",
    "\n",
    "    print(f\"--- Workflow Transition: Prompt Enhancer → Supervisor ---\")\n",
    "\n",
    "    return Command(\n",
    "        update={\n",
    "            \"messages\": [  \n",
    "                HumanMessage(\n",
    "                    content=enhanced_query.content, \n",
    "                    name=\"enhancer\"  \n",
    "                )\n",
    "            ]\n",
    "        },\n",
    "        goto=\"supervisor\"\n",
    "    )"
   ]
  },
  {
   "cell_type": "markdown",
   "id": "58474f28",
   "metadata": {},
   "source": [
    "## Creating researcher Node"
   ]
  },
  {
   "cell_type": "code",
   "execution_count": 24,
   "id": "77e11ea4",
   "metadata": {},
   "outputs": [],
   "source": [
    "def research_node(state: MessagesState) -> Command[Literal[\"validator\"]]:\n",
    "\n",
    "    \"\"\"\n",
    "        Research agent node that gathers information using Tavily search.\n",
    "        Takes the current task state, performs relevant research,\n",
    "        and returns findings for validation.\n",
    "    \"\"\"\n",
    "\n",
    "    researcher_node_prompt = researcher_prompt\n",
    "    \n",
    "    research_agent = create_react_agent(\n",
    "        model,  \n",
    "        tools=[tavily_search],  \n",
    "        prompt = researcher_node_prompt\n",
    "    )\n",
    "\n",
    "    result = research_agent.invoke(state)\n",
    "\n",
    "    print(f\"--- Workflow Transition: Researcher → Validator ---\")\n",
    "\n",
    "    return Command(\n",
    "        update={\n",
    "            \"messages\": [ \n",
    "                HumanMessage(\n",
    "                    content=result[\"messages\"][-1].content,  \n",
    "                    name=\"researcher\"  \n",
    "                )\n",
    "            ]\n",
    "        },\n",
    "        goto=\"validator\"\n",
    "    )"
   ]
  },
  {
   "cell_type": "markdown",
   "id": "dcf4cd7f",
   "metadata": {},
   "source": [
    "## Creating coder node"
   ]
  },
  {
   "cell_type": "code",
   "execution_count": 25,
   "id": "810830df",
   "metadata": {},
   "outputs": [],
   "source": [
    "def code_node(state: MessagesState) -> Command[Literal[\"validator\"]]:\n",
    "\n",
    "    code_node_prompt = coder_prompt\n",
    "\n",
    "    code_agent = create_react_agent(\n",
    "        model,\n",
    "        tools=[python_repl_tool],\n",
    "        prompt=code_node_prompt\n",
    "    )\n",
    "\n",
    "    result = code_agent.invoke(state)\n",
    "\n",
    "    print(f\"--- Workflow Transition: Coder → Validator ---\")\n",
    "\n",
    "    return Command(\n",
    "        update={\n",
    "            \"messages\": [\n",
    "                HumanMessage(content=result[\"messages\"][-1].content, name=\"coder\")\n",
    "            ]\n",
    "        },\n",
    "        goto=\"validator\"\n",
    "    )"
   ]
  },
  {
   "cell_type": "markdown",
   "id": "91c65033",
   "metadata": {},
   "source": [
    "## Creating validator node"
   ]
  },
  {
   "cell_type": "code",
   "execution_count": 26,
   "id": "d2210f02",
   "metadata": {},
   "outputs": [],
   "source": [
    "\n",
    "class Validator(BaseModel):\n",
    "\n",
    "    next: Literal[\"supervisor\", \"FINISH\"] = Field(\n",
    "        description=\"Specifies the next worker in the pipeline: 'supervisor' to continue or 'FINISH' to terminate.\"\n",
    "    )\n",
    "    reason: str = Field(\n",
    "        description=\"The reason for the decision.\"\n",
    "    )\n",
    "\n",
    "def validator_node(state: MessagesState) -> Command[Literal[\"supervisor\", \"__end__\"]]:\n",
    "\n",
    "    validator_node_prompt = validator_prompt\n",
    "\n",
    "    user_question = state[\"messages\"][0].content\n",
    "    agent_answer = state[\"messages\"][-1].content\n",
    "\n",
    "    messages = [\n",
    "        {\"role\": \"system\", \"content\": validator_node_prompt},\n",
    "        {\"role\": \"user\", \"content\": user_question},\n",
    "        {\"role\": \"assistant\", \"content\": agent_answer},\n",
    "    ]\n",
    "\n",
    "    response = model.with_structured_output(Validator).invoke(messages)\n",
    "\n",
    "    goto_next_node = response.next\n",
    "    reason = response.reason\n",
    "\n",
    "    if goto_next_node == \"FINISH\" or goto_next_node == END:\n",
    "        goto_next_node = END  \n",
    "\n",
    "        refine_ans_prompt = refine_prompt\n",
    "\n",
    "        final_msg = [\n",
    "        {\"role\": \"system\", \"content\": refine_ans_prompt},\n",
    "        {\"role\": \"user\", \"content\": user_question},\n",
    "        {\"role\": \"assistant\", \"content\": agent_answer}]\n",
    "\n",
    "        final_response = model.invoke(final_msg).content\n",
    "\n",
    "        print(\" --- Transitioning to END ---\")  \n",
    "\n",
    "        return Command(\n",
    "            update={\n",
    "                \"messages\": [\n",
    "                    HumanMessage(content=final_response, name=\"validator\")\n",
    "                ]\n",
    "            },\n",
    "            goto=goto_next_node\n",
    "        )\n",
    "        \n",
    "    else:\n",
    "        print(f\"--- Workflow Transition: Validator → Supervisor ---\")\n",
    " \n",
    "\n",
    "        return Command(\n",
    "            update={\n",
    "                \"messages\": [\n",
    "                    HumanMessage(content=reason, name=\"validator\")\n",
    "                ]\n",
    "            },\n",
    "            goto=goto_next_node\n",
    "        )"
   ]
  },
  {
   "cell_type": "markdown",
   "id": "91fddd39",
   "metadata": {},
   "source": [
    "## defining the state"
   ]
  },
  {
   "cell_type": "code",
   "execution_count": 27,
   "id": "91074a14",
   "metadata": {},
   "outputs": [],
   "source": [
    "graph = StateGraph(MessagesState)\n",
    "graph.add_node(\"supervisor\", supervisor_node) \n",
    "graph.add_node(\"enhancer\", enhancer_node)  \n",
    "graph.add_node(\"researcher\", research_node) \n",
    "graph.add_node(\"coder\", code_node) \n",
    "graph.add_node(\"validator\", validator_node)  \n",
    "\n",
    "graph.add_edge(START, \"supervisor\")  \n",
    "app = graph.compile()"
   ]
  },
  {
   "cell_type": "code",
   "execution_count": 28,
   "id": "b6b8a798",
   "metadata": {},
   "outputs": [
    {
     "data": {
      "image/png": "[encoded data removed]",
      "text/plain": [
       "<IPython.core.display.Image object>"
      ]
     },
     "metadata": {},
     "output_type": "display_data"
    }
   ],
   "source": [
    "\n",
    "display(Image(app.get_graph(xray=True).draw_mermaid_png())) "
   ]
  },
  {
   "cell_type": "code",
   "execution_count": 29,
   "id": "f113ab34",
   "metadata": {},
   "outputs": [
    {
     "name": "stdout",
     "output_type": "stream",
     "text": [
      "--- Workflow Transition: Supervisor → RESEARCHER ---\n",
      "\"Output from node 'supervisor':\"\n",
      "HumanMessage(content=\"The user's request is clear and specific, seeking current weather information for Chennai, which requires up-to-date data gathering best handled by the researcher.\", additional_kwargs={}, response_metadata={}, name='supervisor', id='f4e1631b-29b7-4d15-966c-d3beb454bccb')\n",
      "\n",
      "--- Workflow Transition: Researcher → Validator ---\n",
      "\"Output from node 'researcher':\"\n",
      "HumanMessage(content='The current weather in Chennai is as follows:\\n- Condition: Fog\\n- Temperature: Feels like 87 °F (about 31 °C)\\n- Forecast: High around 88 °F (31 °C), Low around 79 °F (26 °C)\\n- Wind: 5 mph from the West\\n- Humidity: 89%\\n- Visibility: 3 miles\\n- Dew Point: 77 °F (25 °C)\\n- Pressure: 29.83 \"Hg\\n\\nThere is a possibility of moderate rain or thunderstorms today with partly cloudy skies.\\n\\nSource: [Time and Date - Chennai Weather](https://www.timeanddate.com/weather/india/chennai) (updated Oct 10, 2025)', additional_kwargs={}, response_metadata={}, name='researcher', id='427a1e4f-919f-4acd-8366-588109131dc6')\n",
      "\n",
      " --- Transitioning to END ---\n",
      "\"Output from node 'validator':\"\n",
      "HumanMessage(content='Currently in Chennai, the weather is foggy with a temperature around 87 °F (31 °C), feeling similar to the actual temperature. The forecast for today includes a high near 88 °F (31 °C) and a low around 79 °F (26 °C). Winds are light, coming from the west at about 5 mph. Humidity is quite high at 89%, with visibility reduced to approximately 3 miles due to the fog. The dew point is around 77 °F (25 °C), and atmospheric pressure is steady at 29.83 inches of mercury.\\n\\nThere is a chance of moderate rain or thunderstorms later today, accompanied by partly cloudy skies.\\n\\nFor the most up-to-date and detailed weather information, you can visit [Time and Date - Chennai Weather](https://www.timeanddate.com/weather/india/chennai).', additional_kwargs={}, response_metadata={}, name='validator', id='18e1f5c7-f59a-4507-b7c1-3bed4c852995')\n",
      "\n"
     ]
    }
   ],
   "source": [
    "import pprint\n",
    "\n",
    "inputs = {\n",
    "    \"messages\": [\n",
    "        (\"user\", \"Weather in Chennai\"),\n",
    "    ]\n",
    "}\n",
    "\n",
    "for event in app.stream(inputs):\n",
    "    for key, value in event.items():\n",
    "        if value is None:\n",
    "            continue\n",
    "        last_message = value.get(\"messages\", [])[-1] if \"messages\" in value else None\n",
    "        if last_message:\n",
    "            pprint.pprint(f\"Output from node '{key}':\")\n",
    "            pprint.pprint(last_message, indent=2, width=80, depth=None)\n",
    "            print()"
   ]
  },
  {
   "cell_type": "code",
   "execution_count": 30,
   "id": "4d4eb96a",
   "metadata": {},
   "outputs": [
    {
     "name": "stdout",
     "output_type": "stream",
     "text": [
      "--- Workflow Transition: Supervisor → RESEARCHER ---\n",
      "--- Workflow Transition: Researcher → Validator ---\n",
      " --- Transitioning to END ---\n",
      "('Currently in Chennai, the weather is partly to mostly cloudy with a chance '\n",
      " 'of moderate rain or thunderstorms, especially in the evening. Temperatures '\n",
      " 'today range from around 26°C to 35°C, with humidity levels near 70-75%. '\n",
      " 'Winds are shifting from north to south at 5 to 15 mph. Thunderstorms '\n",
      " 'accompanied by lightning are possible.\\n'\n",
      " '\\n'\n",
      " 'For the most accurate and up-to-date weather information, you can check:\\n'\n",
      " '- AccuWeather: '\n",
      " 'https://www.accuweather.com/en/in/chennai/206671/weather-forecast/206671\\n'\n",
      " '- The Weather Channel: https://weather.com/weather/today/l/INTN0088:1:IN\\n'\n",
      " '\\n'\n",
      " 'If you want a detailed forecast for the coming days or specific weather '\n",
      " 'parameters, feel free to ask!')\n"
     ]
    }
   ],
   "source": [
    "result = app.invoke(inputs)\n",
    "pprint.pprint(result[\"messages\"][-1].content)"
   ]
  },
  {
   "cell_type": "code",
   "execution_count": 32,
   "id": "7cbbd001",
   "metadata": {},
   "outputs": [
    {
     "name": "stdout",
     "output_type": "stream",
     "text": [
      "--- Workflow Transition: Supervisor → RESEARCHER ---\n",
      "\"Output from node 'supervisor':\"\n",
      "HumanMessage(content=\"The user's request is clear and specific, requiring factual data about Sachin Tendulkar's year-wise ODI runs. The researcher is best suited to gather this historical cricket data from reliable sources.\", additional_kwargs={}, response_metadata={}, name='supervisor', id='7bc2e3dd-4485-420d-bafe-606fad59123f')\n",
      "\n",
      "--- Workflow Transition: Researcher → Validator ---\n",
      "\"Output from node 'researcher':\"\n",
      "HumanMessage(content='Here is the year-wise runs data for Sachin Tendulkar in ODI cricket, compiled from reliable cricket statistics sources:\\n\\n| Year | Matches | Innings | Runs | Average | Strike Rate | 100s | 50s | Highest Score |\\n|-------|---------|---------|-------|---------|-------------|------|-----|---------------|\\n| 1993  | 8       | 9       | 640   | 91.42   |  -          | 2    | 5   | -             |\\n| 1994  | 7       | 11      | 700   | 70.00   |  -          | 2    | 3   | -             |\\n| 1995  | 3       | 4       | 58    | 29.00   |  -          | 0    | 1   | -             |\\n| 1996  | 8       | 15      | 623   | 41.53   |  -          | 2    | 2   | 1             |\\n| 1997  | 12      | 17      | 1000  | 62.50   |  -          | 4    | 3   | 0             |\\n| 1998  | 5       | 9       | 647   | 80.87   |  -          | 3    | 1   | 0             |\\n| 1999  | 10      | 19      | 1088  | 68.00   |  -          | 5    | 4   | 3             |\\n| 2000  | 6       | 10      | 575   | 63.88   |  -          | 2    | 1   | 0             |\\n| 2002  | 19      | 19      | 741   | 52.9    | 87.6        | 3    | 2   | 113           |\\n| 2003  | 21      | 21      | 1141  | 57.0    | 87.4        | 8    | 3   | 152           |\\n| 2004  | 21      | 21      | 812   | 40.6    | 80.1        | 5    | 1   | 141           |\\n| 2005  | 16      | 16      | 412   | 27.5    | 77.3        | 2    | 1   | 123           |\\n| 2008  | 7       | 7       | 188   | 31.3    | 106.2       | 0    | 1   | 65            |\\n| 2009  | 13      | 13      | 364   | 33.1    | 120.1       | 0    | 2   | 68            |\\n| 2010  | 19      | 19      | 766   | 45.1    | 133.9       | 0    | 6   | 89            |\\n| 2011  | 16      | 16      | 553   | 42.5    | 113.3       | 1    | 2   | 100           |\\n| 2012  | 17      | 17      | 371   | 24.7    | 106.3       | 0    | 2   | 74            |\\n\\nNote: Some years have partial data available from sources, and the highest score and strike rate are included where available.\\n\\nSources:\\n- Cricmetric: https://www.cricmetric.com/sage/?q=Sachin%20tendulkar%20stats%20year%20wise\\n- Kaggle Dataset on Sachin Tendulkar Records Yearwise: https://www.kaggle.com/datasets/saquib7hussain/sachin-tendulkar-records-yearwise\\n\\nIf you need a more detailed breakdown or data for specific years, please let me know!', additional_kwargs={}, response_metadata={}, name='researcher', id='8c6844cc-be92-4954-b3d3-2d158e927a7b')\n",
      "\n",
      " --- Transitioning to END ---\n",
      "\"Output from node 'validator':\"\n",
      "HumanMessage(content=\"Sachin Tendulkar's year-wise ODI runs data is detailed and available from cricket statistics databases like ESPNcricinfo and HowSTAT. Here's a summary of his ODI runs by year, based on official records:\\n\\n| Year | Matches | Innings | Runs | Average | Strike Rate | 100s | 50s | Highest Score |\\n|-------|---------|---------|-------|---------|-------------|------|-----|---------------|\\n| 1989  | 1       | 1       | 15    | 15.00   | 75.00       | 0    | 0   | 15            |\\n| 1990  | 12      | 12      | 533   | 48.45   | 79.00       | 1    | 3   | 114           |\\n| 1991  | 15      | 15      | 692   | 46.13   | 79.50       | 1    | 5   | 114           |\\n| 1992  | 22      | 22      | 1148  | 52.18   | 79.00       | 3    | 5   | 143           |\\n| 1993  | 18      | 18      | 1141  | 63.38   | 79.50       | 3    | 5   | 143           |\\n| 1994  | 14      | 14      | 700   | 50.00   | 80.00       | 2    | 3   | 110           |\\n| 1995  | 12      | 12      | 600   | 50.00   | 78.00       | 2    | 3   | 127           |\\n| 1996  | 26      | 26      | 1230  | 50.00   | 80.00       | 3    | 6   | 143           |\\n| 1997  | 20      | 20      | 1000  | 55.55   | 82.00       | 4    | 4   | 143           |\\n| 1998  | 18      | 18      | 1100  | 61.11   | 83.00       | 4    | 5   | 143           |\\n| 1999  | 20      | 20      | 1088  | 54.40   | 81.00       | 5    | 4   | 143           |\\n| 2000  | 15      | 15      | 900   | 60.00   | 82.00       | 3    | 4   | 143           |\\n| 2001  | 18      | 18      | 1100  | 61.11   | 83.00       | 4    | 5   | 143           |\\n| 2002  | 19      | 19      | 741   | 52.90   | 87.60       | 3    | 2   | 113           |\\n| 2003  | 21      | 21      | 1141  | 57.00   | 87.40       | 8    | 3   | 152           |\\n| 2004  | 21      | 21      | 812   | 40.60   | 80.10       | 5    | 1   | 141           |\\n| 2005  | 16      | 16      | 412   | 27.50   | 77.30       | 2    | 1   | 123           |\\n| 2006  | 15      | 15      | 600   | 40.00   | 80.00       | 2    | 3   | 141           |\\n| 2007  | 20      | 20      | 900   | 45.00   | 85.00       | 3    | 4   | 141           |\\n| 2008  | 7       | 7       | 188   | 31.30   | 106.20      | 0    | 1   | 65            |\\n| 2009  | 13      | 13      | 364   | 33.10   | 120.10      | 0    | 2   | 68            |\\n| 2010  | 19      | 19      | 766   | 45.10   | 133.90      | 0    | 6   | 89            |\\n| 2011  | 16      | 16      | 553   | 42.50   | 113.30      | 1    | 2   | 100           |\\n| 2012  | 17      | 17      | 371   | 24.70   | 106.30      | 0    | 2   | 74            |\\n\\nNote: Tendulkar's career spanned from 1989 to 2012 in ODIs. The above data is approximate and compiled from multiple sources including ESPNcricinfo Statsguru and HowSTAT.\\n\\nFor the most precise and detailed year-wise statistics, you can visit:\\n- ESPNcricinfo Statsguru: https://stats.espncricinfo.com/ci/engine/player/35320.html?class=2;template=results;type=batting;view=year\\n- HowSTAT: https://www.howstat.com/cricket/Statistics/Players/PlayerOverview_ODI.asp?PlayerID=140\\n\\nIf you want, I can also provide a downloadable CSV or JSON file with this data. Let me know!\", additional_kwargs={}, response_metadata={}, name='validator', id='e1988081-b9f5-44aa-a1e7-7ce4335fde61')\n",
      "\n"
     ]
    }
   ],
   "source": [
    "import pprint\n",
    "\n",
    "inputs = {\n",
    "    \"messages\": [\n",
    "        (\"user\", \"Please retrieve the historical data for Sachin tendulkar year wise runs in odi cricket.\"),\n",
    "    ]\n",
    "}\n",
    "\n",
    "for event in app.stream(inputs):\n",
    "    for key, value in event.items():\n",
    "        if value is None:\n",
    "            continue\n",
    "        last_message = value.get(\"messages\", [])[-1] if \"messages\" in value else None\n",
    "        if last_message:\n",
    "            pprint.pprint(f\"Output from node '{key}':\")\n",
    "            pprint.pprint(last_message, indent=2, width=80, depth=None)\n",
    "            print()"
   ]
  },
  {
   "cell_type": "code",
   "execution_count": 33,
   "id": "c8b710f0",
   "metadata": {},
   "outputs": [
    {
     "name": "stdout",
     "output_type": "stream",
     "text": [
      "--- Workflow Transition: Supervisor → CODER ---\n",
      "\"Output from node 'supervisor':\"\n",
      "{ 'messages': [ HumanMessage(content=\"The user's request is clear and requires a straightforward computation of the 20th Fibonacci number, so the coder agent is best suited to perform this calculation efficiently.\", additional_kwargs={}, response_metadata={}, name='supervisor', id='802c6951-2b1d-4099-b26a-7d2f6d2584fd')]}\n",
      "\n",
      "--- Workflow Transition: Coder → Validator ---\n",
      "\"Output from node 'coder':\"\n",
      "{ 'messages': [ HumanMessage(content='The 20th Fibonacci number is 6765.', additional_kwargs={}, response_metadata={}, name='coder', id='b7a3cc43-3c53-4535-bb8d-ef464f83d9b8')]}\n",
      "\n",
      " --- Transitioning to END ---\n",
      "\"Output from node 'validator':\"\n",
      "{ 'messages': [ HumanMessage(content='The 20th Fibonacci number is 6765.', additional_kwargs={}, response_metadata={}, name='validator', id='e1f909d8-863f-4f1f-a666-df4b46138716')]}\n",
      "\n"
     ]
    }
   ],
   "source": [
    "import pprint\n",
    "\n",
    "inputs = {\n",
    "    \"messages\": [\n",
    "        (\"user\", \"Give me the 20th fibonacci number\"),\n",
    "    ]\n",
    "}\n",
    "for event in app.stream(inputs):\n",
    "    for key, value in event.items():\n",
    "        if value is None:\n",
    "            continue\n",
    "        pprint.pprint(f\"Output from node '{key}':\")\n",
    "        pprint.pprint(value, indent=2, width=80, depth=None)\n",
    "        print()"
   ]
  },
  {
   "cell_type": "code",
   "execution_count": null,
   "id": "56da6a33",
   "metadata": {},
   "outputs": [],
   "source": []
  },
  {
   "cell_type": "code",
   "execution_count": null,
   "id": "21bfad25",
   "metadata": {},
   "outputs": [],
   "source": []
  },
  {
   "cell_type": "code",
   "execution_count": null,
   "id": "b43f6b14",
   "metadata": {},
   "outputs": [],
   "source": []
  },
  {
   "cell_type": "code",
   "execution_count": null,
   "id": "7f41bec4",
   "metadata": {},
   "outputs": [],
   "source": []
  },
  {
   "cell_type": "code",
   "execution_count": null,
   "id": "29006feb",
   "metadata": {},
   "outputs": [],
   "source": []
  },
  {
   "cell_type": "code",
   "execution_count": null,
   "id": "bfd1c298",
   "metadata": {},
   "outputs": [],
   "source": []
  },
  {
   "cell_type": "code",
   "execution_count": null,
   "id": "292a4a79",
   "metadata": {},
   "outputs": [],
   "source": []
  },
  {
   "cell_type": "code",
   "execution_count": null,
   "id": "6ec78c0a",
   "metadata": {},
   "outputs": [],
   "source": []
  },
  {
   "cell_type": "code",
   "execution_count": null,
   "id": "76e6d926",
   "metadata": {},
   "outputs": [],
   "source": []
  },
  {
   "cell_type": "code",
   "execution_count": null,
   "id": "d91d0432",
   "metadata": {},
   "outputs": [],
   "source": []
  },
  {
   "cell_type": "code",
   "execution_count": null,
   "id": "6b26456c",
   "metadata": {},
   "outputs": [],
   "source": []
  },
  {
   "cell_type": "code",
   "execution_count": null,
   "id": "38ec36eb",
   "metadata": {},
   "outputs": [],
   "source": []
  },
  {
   "cell_type": "code",
   "execution_count": null,
   "id": "08ebd65b",
   "metadata": {},
   "outputs": [],
   "source": []
  },
  {
   "cell_type": "code",
   "execution_count": null,
   "id": "1a54f129",
   "metadata": {},
   "outputs": [],
   "source": []
  },
  {
   "cell_type": "code",
   "execution_count": null,
   "id": "7c96a005",
   "metadata": {},
   "outputs": [],
   "source": []
  },
  {
   "cell_type": "code",
   "execution_count": null,
   "id": "2c95372e",
   "metadata": {},
   "outputs": [],
   "source": []
  },
  {
   "cell_type": "code",
   "execution_count": null,
   "id": "c8c13bfd",
   "metadata": {},
   "outputs": [],
   "source": []
  },
  {
   "cell_type": "code",
   "execution_count": null,
   "id": "8dd299c6",
   "metadata": {},
   "outputs": [],
   "source": []
  },
  {
   "cell_type": "code",
   "execution_count": null,
   "id": "83caae8e",
   "metadata": {},
   "outputs": [],
   "source": []
  },
  {
   "cell_type": "code",
   "execution_count": null,
   "id": "051ba3b5",
   "metadata": {},
   "outputs": [],
   "source": []
  },
  {
   "cell_type": "code",
   "execution_count": null,
   "id": "74025d4a",
   "metadata": {},
   "outputs": [],
   "source": []
  },
  {
   "cell_type": "code",
   "execution_count": null,
   "id": "9804495c",
   "metadata": {},
   "outputs": [],
   "source": []
  },
  {
   "cell_type": "code",
   "execution_count": null,
   "id": "49cd7f54",
   "metadata": {},
   "outputs": [],
   "source": []
  },
  {
   "cell_type": "code",
   "execution_count": null,
   "id": "cf1655d7",
   "metadata": {},
   "outputs": [],
   "source": []
  },
  {
   "cell_type": "code",
   "execution_count": null,
   "id": "95bc6ae9",
   "metadata": {},
   "outputs": [],
   "source": []
  },
  {
   "cell_type": "code",
   "execution_count": null,
   "id": "1d1fd978",
   "metadata": {},
   "outputs": [],
   "source": []
  }
 ],
 "metadata": {
  "kernelspec": {
   "display_name": ".venv",
   "language": "python",
   "name": "python3"
  },
  "language_info": {
   "codemirror_mode": {
    "name": "ipython",
    "version": 3
   },
   "file_extension": ".py",
   "mimetype": "text/x-python",
   "name": "python",
   "nbconvert_exporter": "python",
   "pygments_lexer": "ipython3",
   "version": "3.11.13"
  }
 },
 "nbformat": 4,
 "nbformat_minor": 5
}
